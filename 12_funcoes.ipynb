{
 "cells": [
  {
   "cell_type": "markdown",
   "metadata": {},
   "source": [
    "# Curso de Python Básico\n",
    "\n",
    "Este é um curso básico de python que tem o objetivo de apresentar a linguagem python de uma **maneira rápida e objetiva**. Vamos direto ao ponto nos conceitos básicos da programação e python com muita mão na massa! \n",
    "\n",
    "Neste curso, vamos trabalhar no **modo iterativo** do python. Porém, entenda que você pode trabalhar no modo script com várias linhas de código usando um arquivo no formato .py.\n",
    "\n",
    "Ao final desse Curso, espero que você se aprenda python e se motive cada vez mais em utilizar a linguagem para diversas tarefas e problemas do mundo real.\n",
    "\n",
    "Este notebook vai apenas passar pelos tópicos básicos em ordem:\n",
    "\n",
    "* 7. funções\n",
    "    * 7.1 Funções SEM retorno\n",
    "    * 7.2 Funções COM retorno\n",
    "    * 7.3 Funções anônimas (lambda)\n",
    "    * 7.4 map e filter\n",
    "  "
   ]
  },
  {
   "cell_type": "markdown",
   "metadata": {},
   "source": [
    "## 7. Funções\n",
    "##### 7.1 Funções SEM retorno"
   ]
  },
  {
   "cell_type": "code",
   "execution_count": 4,
   "metadata": {
    "ExecuteTime": {
     "end_time": "2021-09-28T17:03:04.498984Z",
     "start_time": "2021-09-28T17:03:04.493984Z"
    }
   },
   "outputs": [],
   "source": [
    "def imprimir(nome): \n",
    "    print('Meu nome é: {}'.format(nome))"
   ]
  },
  {
   "cell_type": "code",
   "execution_count": 5,
   "metadata": {
    "ExecuteTime": {
     "end_time": "2021-09-28T17:03:06.162703Z",
     "start_time": "2021-09-28T17:03:06.149704Z"
    }
   },
   "outputs": [
    {
     "name": "stdout",
     "output_type": "stream",
     "text": [
      "Meu nome é: João\n"
     ]
    }
   ],
   "source": [
    "imprimir('João')"
   ]
  },
  {
   "cell_type": "markdown",
   "metadata": {
    "ExecuteTime": {
     "end_time": "2021-08-27T14:56:09.337667Z",
     "start_time": "2021-08-27T14:56:09.322667Z"
    }
   },
   "source": [
    "##### 7.2 Funções COM retorno"
   ]
  },
  {
   "cell_type": "code",
   "execution_count": 4,
   "metadata": {
    "ExecuteTime": {
     "end_time": "2021-09-28T17:04:07.346651Z",
     "start_time": "2021-09-28T17:04:07.333650Z"
    }
   },
   "outputs": [],
   "source": [
    "def soma(a, b):\n",
    "    return a+b"
   ]
  },
  {
   "cell_type": "code",
   "execution_count": 6,
   "metadata": {
    "ExecuteTime": {
     "end_time": "2021-09-28T17:04:15.530665Z",
     "start_time": "2021-09-28T17:04:15.517666Z"
    }
   },
   "outputs": [
    {
     "data": {
      "text/plain": [
       "16"
      ]
     },
     "execution_count": 6,
     "metadata": {},
     "output_type": "execute_result"
    }
   ],
   "source": [
    "valor = soma(11, 5)\n",
    "valor"
   ]
  },
  {
   "cell_type": "code",
   "execution_count": 8,
   "metadata": {
    "ExecuteTime": {
     "end_time": "2021-09-28T17:04:26.500248Z",
     "start_time": "2021-09-28T17:04:26.486248Z"
    }
   },
   "outputs": [],
   "source": [
    "def square(x):\n",
    "    return x**0.5"
   ]
  },
  {
   "cell_type": "code",
   "execution_count": 11,
   "metadata": {
    "ExecuteTime": {
     "end_time": "2021-09-28T17:04:30.284021Z",
     "start_time": "2021-09-28T17:04:30.270024Z"
    }
   },
   "outputs": [
    {
     "data": {
      "text/plain": [
       "5.0"
      ]
     },
     "execution_count": 11,
     "metadata": {},
     "output_type": "execute_result"
    }
   ],
   "source": [
    "out = square(25)\n",
    "out"
   ]
  },
  {
   "cell_type": "markdown",
   "metadata": {},
   "source": [
    "##### 7.3 Funções anônimas (lambda)"
   ]
  },
  {
   "cell_type": "code",
   "execution_count": 12,
   "metadata": {
    "ExecuteTime": {
     "end_time": "2021-09-28T17:10:58.249418Z",
     "start_time": "2021-09-28T17:10:58.244030Z"
    }
   },
   "outputs": [],
   "source": [
    "def multiplique_por_dois(numero):\n",
    "    return numero*2"
   ]
  },
  {
   "cell_type": "code",
   "execution_count": 13,
   "metadata": {
    "ExecuteTime": {
     "end_time": "2021-08-27T14:57:05.685637Z",
     "start_time": "2021-08-27T14:57:05.666640Z"
    }
   },
   "outputs": [
    {
     "data": {
      "text/plain": [
       "20"
      ]
     },
     "execution_count": 13,
     "metadata": {},
     "output_type": "execute_result"
    }
   ],
   "source": [
    "multiplique_por_dois(10)"
   ]
  },
  {
   "cell_type": "code",
   "execution_count": 17,
   "metadata": {
    "ExecuteTime": {
     "end_time": "2021-09-28T17:11:55.260823Z",
     "start_time": "2021-09-28T17:11:55.251822Z"
    }
   },
   "outputs": [
    {
     "data": {
      "text/plain": [
       "10"
      ]
     },
     "execution_count": 17,
     "metadata": {},
     "output_type": "execute_result"
    }
   ],
   "source": [
    "multiplique_dois = lambda x: x * 2\n",
    "multiplique_dois(5)"
   ]
  },
  {
   "cell_type": "code",
   "execution_count": 15,
   "metadata": {
    "ExecuteTime": {
     "end_time": "2021-09-28T17:13:18.782213Z",
     "start_time": "2021-09-28T17:13:18.772196Z"
    }
   },
   "outputs": [],
   "source": [
    "calcule_potencia = lambda potencia: potencia ** 2"
   ]
  },
  {
   "cell_type": "code",
   "execution_count": 16,
   "metadata": {
    "ExecuteTime": {
     "end_time": "2021-09-28T17:13:20.812331Z",
     "start_time": "2021-09-28T17:13:20.795332Z"
    }
   },
   "outputs": [
    {
     "data": {
      "text/plain": [
       "9"
      ]
     },
     "execution_count": 16,
     "metadata": {},
     "output_type": "execute_result"
    }
   ],
   "source": [
    "calcule_potencia(3)"
   ]
  },
  {
   "cell_type": "code",
   "execution_count": 18,
   "metadata": {
    "ExecuteTime": {
     "end_time": "2021-09-28T17:13:53.801056Z",
     "start_time": "2021-09-28T17:13:53.795056Z"
    }
   },
   "outputs": [],
   "source": [
    "soma = lambda a, b, c : a + b + c"
   ]
  },
  {
   "cell_type": "code",
   "execution_count": 19,
   "metadata": {
    "ExecuteTime": {
     "end_time": "2021-09-28T17:13:54.004025Z",
     "start_time": "2021-09-28T17:13:53.995025Z"
    }
   },
   "outputs": [
    {
     "data": {
      "text/plain": [
       "6"
      ]
     },
     "execution_count": 19,
     "metadata": {},
     "output_type": "execute_result"
    }
   ],
   "source": [
    "soma(1,2,3)"
   ]
  },
  {
   "cell_type": "markdown",
   "metadata": {},
   "source": [
    "#### 7.4 Variáveis Globais"
   ]
  },
  {
   "cell_type": "code",
   "execution_count": null,
   "metadata": {
    "ExecuteTime": {
     "end_time": "2021-09-28T17:22:45.696658Z",
     "start_time": "2021-09-28T17:22:45.681660Z"
    }
   },
   "outputs": [],
   "source": [
    "def profile():\n",
    "    global conexaoe\n",
    "    global age\n",
    "    name = \"Danny\"\n",
    "    age = 30\n",
    "\n",
    "profile()\n",
    "print(name)"
   ]
  },
  {
   "cell_type": "code",
   "execution_count": null,
   "metadata": {
    "ExecuteTime": {
     "end_time": "2021-09-28T17:22:50.582819Z",
     "start_time": "2021-09-28T17:22:50.576819Z"
    }
   },
   "outputs": [],
   "source": [
    "name\n",
    "# Output: Danny\n",
    "#print(age)\n",
    "# Output: 30"
   ]
  },
  {
   "cell_type": "markdown",
   "metadata": {},
   "source": [
    "## Agora é sua vez"
   ]
  },
  {
   "cell_type": "markdown",
   "metadata": {
    "ExecuteTime": {
     "end_time": "2021-09-27T19:12:27.152396Z",
     "start_time": "2021-09-27T19:12:27.132411Z"
    }
   },
   "source": [
    "**1) Crie uma função que irá receber 3 notas e fornecerá como saída o resultado da média dessas notas**"
   ]
  },
  {
   "cell_type": "code",
   "execution_count": 1,
   "metadata": {},
   "outputs": [],
   "source": [
    "def media(a, b, c):\n",
    "    return (a + b + c) / 3\n"
   ]
  },
  {
   "cell_type": "code",
   "execution_count": 2,
   "metadata": {},
   "outputs": [
    {
     "data": {
      "text/plain": [
       "8.0"
      ]
     },
     "execution_count": 2,
     "metadata": {},
     "output_type": "execute_result"
    }
   ],
   "source": [
    "media_aluno = media(8,6,10)\n",
    "\n",
    "media_aluno"
   ]
  },
  {
   "cell_type": "markdown",
   "metadata": {
    "ExecuteTime": {
     "end_time": "2021-09-27T19:12:46.277155Z",
     "start_time": "2021-09-27T19:12:46.267155Z"
    }
   },
   "source": [
    "**2) Crie uma função que irá receber um número e a saída é a sequência de fibonnaci  notas e fornecerá como saída o resultado da média dessas notas**"
   ]
  },
  {
   "cell_type": "code",
   "execution_count": 51,
   "metadata": {},
   "outputs": [
    {
     "name": "stdout",
     "output_type": "stream",
     "text": [
      "0\n",
      "1\n",
      "1\n",
      "2\n",
      "3\n",
      "5\n",
      "8\n",
      "2.0\n"
     ]
    }
   ],
   "source": [
    "import numpy as np\n",
    "anterior = 0\n",
    "proximo = 0\n",
    "f = 10\n",
    "nota = 0\n",
    "media = 0\n",
    "\n",
    "while(proximo < f):\n",
    "    print (proximo)\n",
    "    nota = nota + proximo\n",
    "    proximo = proximo + anterior\n",
    "    anterior = proximo - anterior\n",
    "    if (proximo == 0):\n",
    "        proximo = proximo + 1\n",
    "        \n",
    "media = nota / f\n",
    "print(media)\n"
   ]
  },
  {
   "cell_type": "markdown",
   "metadata": {},
   "source": [
    "**3) Um polícial solicita sua parada em uma rodovia uma vez que você superou os limites de velocidade. Escreva uma função para retornar um dos 3 resultados possíveis: \"No ticket\", \"Small Ticket\" ou \"Big Ticket\"**. \n",
    "- Se a sua velocidade for igual ou inferior a 60, o resultado é \"Sem Multa\". \n",
    "- Se a velocidade for entre 61 e 80 inclusive, o resultado é \"Multa Pequena\". \n",
    "- Se a velocidade é de 81 ou mais, o resultado é \"Multa Grande\". \n",
    "- Se hoje for seu aniversário (codificado como um valor booleano nos parâmetros da função), sua velocidade pode ser maior em até 5 vezes, considerando todos os casos **"
   ]
  },
  {
   "cell_type": "code",
   "execution_count": 2,
   "metadata": {
    "ExecuteTime": {
     "end_time": "2022-06-06T20:01:55.302197Z",
     "start_time": "2022-06-06T20:01:55.298196Z"
    }
   },
   "outputs": [],
   "source": [
    "def capturar_velocidade(velocidade, aniversario):\n",
    "    \n",
    "    if aniversario:\n",
    "        velocidade = velocidade - 5\n",
    "    else:\n",
    "        velocidade = velocidade\n",
    "    \n",
    "    if velocidade > 80:\n",
    "        return 'Multa Grande'\n",
    "    elif velocidade > 60:\n",
    "        return 'Multa Pequena'\n",
    "    else:\n",
    "        return 'Sem Multa'"
   ]
  },
  {
   "cell_type": "code",
   "execution_count": 3,
   "metadata": {
    "ExecuteTime": {
     "end_time": "2022-06-06T20:01:23.184556Z",
     "start_time": "2022-06-06T20:01:23.180551Z"
    }
   },
   "outputs": [
    {
     "data": {
      "text/plain": [
       "'Multa Pequena'"
      ]
     },
     "execution_count": 3,
     "metadata": {},
     "output_type": "execute_result"
    }
   ],
   "source": [
    "capturar_velocidade(83, True)"
   ]
  },
  {
   "cell_type": "code",
   "execution_count": null,
   "metadata": {},
   "outputs": [],
   "source": []
  }
 ],
 "metadata": {
  "kernelspec": {
   "display_name": "Python 3 (ipykernel)",
   "language": "python",
   "name": "python3"
  },
  "language_info": {
   "codemirror_mode": {
    "name": "ipython",
    "version": 3
   },
   "file_extension": ".py",
   "mimetype": "text/x-python",
   "name": "python",
   "nbconvert_exporter": "python",
   "pygments_lexer": "ipython3",
   "version": "3.9.12"
  }
 },
 "nbformat": 4,
 "nbformat_minor": 1
}

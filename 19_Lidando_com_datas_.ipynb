{
 "cells": [
  {
   "cell_type": "code",
   "execution_count": 2,
   "metadata": {
    "ExecuteTime": {
     "end_time": "2022-06-20T14:23:49.891519Z",
     "start_time": "2022-06-20T14:23:49.880482Z"
    }
   },
   "outputs": [],
   "source": [
    "from datetime import date\n",
    "from datetime import datetime\n",
    "from datetime import timezone, timedelta\n",
    "import time"
   ]
  },
  {
   "cell_type": "markdown",
   "metadata": {},
   "source": [
    "## 1. Data de hoje"
   ]
  },
  {
   "cell_type": "code",
   "execution_count": 2,
   "metadata": {
    "ExecuteTime": {
     "end_time": "2022-06-20T14:23:49.908105Z",
     "start_time": "2022-06-20T14:23:49.892486Z"
    }
   },
   "outputs": [
    {
     "name": "stdout",
     "output_type": "stream",
     "text": [
      "2022-06-20\n"
     ]
    }
   ],
   "source": [
    "data_de_hoje = date.today() \n",
    "print(data_de_hoje)"
   ]
  },
  {
   "cell_type": "code",
   "execution_count": 3,
   "metadata": {
    "ExecuteTime": {
     "end_time": "2022-06-20T14:23:49.921121Z",
     "start_time": "2022-06-20T14:23:49.910102Z"
    }
   },
   "outputs": [
    {
     "data": {
      "text/plain": [
       "20"
      ]
     },
     "execution_count": 3,
     "metadata": {},
     "output_type": "execute_result"
    }
   ],
   "source": [
    "data_de_hoje.day"
   ]
  },
  {
   "cell_type": "code",
   "execution_count": 4,
   "metadata": {
    "ExecuteTime": {
     "end_time": "2022-06-20T14:23:49.929112Z",
     "start_time": "2022-06-20T14:23:49.924103Z"
    }
   },
   "outputs": [
    {
     "data": {
      "text/plain": [
       "6"
      ]
     },
     "execution_count": 4,
     "metadata": {},
     "output_type": "execute_result"
    }
   ],
   "source": [
    "data_de_hoje.month"
   ]
  },
  {
   "cell_type": "code",
   "execution_count": 5,
   "metadata": {
    "ExecuteTime": {
     "end_time": "2022-06-20T14:23:49.939102Z",
     "start_time": "2022-06-20T14:23:49.931104Z"
    }
   },
   "outputs": [
    {
     "data": {
      "text/plain": [
       "2022"
      ]
     },
     "execution_count": 5,
     "metadata": {},
     "output_type": "execute_result"
    }
   ],
   "source": [
    "data_de_hoje.year"
   ]
  },
  {
   "cell_type": "code",
   "execution_count": 6,
   "metadata": {
    "ExecuteTime": {
     "end_time": "2022-06-20T14:23:49.949103Z",
     "start_time": "2022-06-20T14:23:49.943106Z"
    }
   },
   "outputs": [
    {
     "data": {
      "text/plain": [
       "0"
      ]
     },
     "execution_count": 6,
     "metadata": {},
     "output_type": "execute_result"
    }
   ],
   "source": [
    "data_de_hoje.weekday()"
   ]
  },
  {
   "cell_type": "markdown",
   "metadata": {},
   "source": [
    "A função today força o padrão ANSI sempre que tentamos imprimir"
   ]
  },
  {
   "cell_type": "markdown",
   "metadata": {},
   "source": [
    "## 2. Formatando datas\n",
    "\n",
    "##### para formato brasileiro"
   ]
  },
  {
   "cell_type": "code",
   "execution_count": 7,
   "metadata": {
    "ExecuteTime": {
     "end_time": "2022-06-20T14:23:49.958106Z",
     "start_time": "2022-06-20T14:23:49.951102Z"
    }
   },
   "outputs": [
    {
     "name": "stdout",
     "output_type": "stream",
     "text": [
      "20/6/2022\n"
     ]
    }
   ],
   "source": [
    "data_BR = '{}/{}/{}'.format(data_de_hoje.day, data_de_hoje.month, data_de_hoje.year)\n",
    "print(data_BR)"
   ]
  },
  {
   "cell_type": "code",
   "execution_count": 8,
   "metadata": {
    "ExecuteTime": {
     "end_time": "2022-06-20T14:24:06.393584Z",
     "start_time": "2022-06-20T14:24:06.388587Z"
    }
   },
   "outputs": [
    {
     "name": "stdout",
     "output_type": "stream",
     "text": [
      "20/06/2022\n"
     ]
    }
   ],
   "source": [
    "data_BR = '{}/0{}/{}'.format(data_de_hoje.day, data_de_hoje.month, data_de_hoje.year)\n",
    "print(data_BR)"
   ]
  },
  {
   "cell_type": "markdown",
   "metadata": {},
   "source": [
    "### 3. Trabalhando com data e tempo"
   ]
  },
  {
   "cell_type": "code",
   "execution_count": 9,
   "metadata": {
    "ExecuteTime": {
     "end_time": "2022-06-20T14:24:56.367567Z",
     "start_time": "2022-06-20T14:24:56.363532Z"
    }
   },
   "outputs": [
    {
     "name": "stdout",
     "output_type": "stream",
     "text": [
      "2022-06-20 11:24:56.363532\n"
     ]
    }
   ],
   "source": [
    "date_e_tempo_atual = datetime.now()\n",
    "print(date_e_tempo_atual)"
   ]
  },
  {
   "cell_type": "code",
   "execution_count": 10,
   "metadata": {
    "ExecuteTime": {
     "end_time": "2022-06-20T14:24:57.288253Z",
     "start_time": "2022-06-20T14:24:57.284247Z"
    }
   },
   "outputs": [
    {
     "data": {
      "text/plain": [
       "'20/06/2022 11:24:56'"
      ]
     },
     "execution_count": 10,
     "metadata": {},
     "output_type": "execute_result"
    }
   ],
   "source": [
    "date_e_tempo_atual.strftime('%d/%m/%Y %H:%M:%S')"
   ]
  },
  {
   "cell_type": "code",
   "execution_count": null,
   "metadata": {},
   "outputs": [],
   "source": []
  },
  {
   "cell_type": "markdown",
   "metadata": {},
   "source": [
    "### 4. Convertendo String para datetime"
   ]
  },
  {
   "cell_type": "code",
   "execution_count": 11,
   "metadata": {
    "ExecuteTime": {
     "end_time": "2022-06-20T14:25:10.109145Z",
     "start_time": "2022-06-20T14:25:10.103144Z"
    }
   },
   "outputs": [
    {
     "data": {
      "text/plain": [
       "'20/2022/06'"
      ]
     },
     "execution_count": 11,
     "metadata": {},
     "output_type": "execute_result"
    }
   ],
   "source": [
    "data_em_texto = data_de_hoje.strftime('%d/%Y/%m')\n",
    "data_em_texto"
   ]
  },
  {
   "cell_type": "code",
   "execution_count": 12,
   "metadata": {
    "ExecuteTime": {
     "end_time": "2022-06-20T14:25:10.374711Z",
     "start_time": "2022-06-20T14:25:10.371740Z"
    }
   },
   "outputs": [],
   "source": [
    "data_do_nascimento = '08/02/1994 15:24:00'"
   ]
  },
  {
   "cell_type": "code",
   "execution_count": 13,
   "metadata": {
    "ExecuteTime": {
     "end_time": "2022-06-20T14:25:17.740591Z",
     "start_time": "2022-06-20T14:25:17.735592Z"
    }
   },
   "outputs": [
    {
     "data": {
      "text/plain": [
       "str"
      ]
     },
     "execution_count": 13,
     "metadata": {},
     "output_type": "execute_result"
    }
   ],
   "source": [
    "type(data_do_nascimento)"
   ]
  },
  {
   "cell_type": "code",
   "execution_count": 14,
   "metadata": {
    "ExecuteTime": {
     "end_time": "2022-06-20T14:25:21.471285Z",
     "start_time": "2022-06-20T14:25:21.467295Z"
    }
   },
   "outputs": [
    {
     "data": {
      "text/plain": [
       "'08/02/1994 15:24:00'"
      ]
     },
     "execution_count": 14,
     "metadata": {},
     "output_type": "execute_result"
    }
   ],
   "source": [
    "data_do_nascimento"
   ]
  },
  {
   "cell_type": "code",
   "execution_count": 15,
   "metadata": {
    "ExecuteTime": {
     "end_time": "2022-06-20T14:25:23.428793Z",
     "start_time": "2022-06-20T14:25:23.423806Z"
    }
   },
   "outputs": [],
   "source": [
    "datetime_nascimento = datetime.strptime(data_do_nascimento, '%d/%m/%Y %H:%M:%S')"
   ]
  },
  {
   "cell_type": "code",
   "execution_count": 16,
   "metadata": {
    "ExecuteTime": {
     "end_time": "2022-06-20T14:25:23.654805Z",
     "start_time": "2022-06-20T14:25:23.649794Z"
    }
   },
   "outputs": [
    {
     "data": {
      "text/plain": [
       "datetime.datetime"
      ]
     },
     "execution_count": 16,
     "metadata": {},
     "output_type": "execute_result"
    }
   ],
   "source": [
    "type(datetime_nascimento)"
   ]
  },
  {
   "cell_type": "code",
   "execution_count": 17,
   "metadata": {
    "ExecuteTime": {
     "end_time": "2022-06-20T14:25:29.456808Z",
     "start_time": "2022-06-20T14:25:29.451810Z"
    }
   },
   "outputs": [
    {
     "name": "stdout",
     "output_type": "stream",
     "text": [
      "1994-02-08 15:24:00\n"
     ]
    }
   ],
   "source": [
    "print(datetime_nascimento)"
   ]
  },
  {
   "cell_type": "code",
   "execution_count": null,
   "metadata": {},
   "outputs": [],
   "source": []
  },
  {
   "cell_type": "markdown",
   "metadata": {},
   "source": [
    "### 5. Lidando com problemas de fuso horário"
   ]
  },
  {
   "cell_type": "markdown",
   "metadata": {},
   "source": [
    "O parâmetro offset representa a diferença entre o fuso horário que queremos criar e o Tempo Universal Coordenado (UTC). No nosso caso, em São Paulo, temos uma diferença de -3 horas, mais conhecida como UTC-3. Sabendo disso, vamos tentar novamente:"
   ]
  },
  {
   "cell_type": "code",
   "execution_count": 18,
   "metadata": {
    "ExecuteTime": {
     "end_time": "2022-06-20T14:25:37.104100Z",
     "start_time": "2022-06-20T14:25:37.098062Z"
    }
   },
   "outputs": [
    {
     "name": "stdout",
     "output_type": "stream",
     "text": [
      "2:00:00\n"
     ]
    }
   ],
   "source": [
    "diferenca_fuso_horario = timedelta(hours=2)\n",
    "print(diferenca_fuso_horario)"
   ]
  },
  {
   "cell_type": "code",
   "execution_count": 19,
   "metadata": {
    "ExecuteTime": {
     "end_time": "2022-06-20T14:25:37.646536Z",
     "start_time": "2022-06-20T14:25:37.642549Z"
    }
   },
   "outputs": [],
   "source": [
    "fuso_horario = timezone(diferenca_fuso_horario)"
   ]
  },
  {
   "cell_type": "code",
   "execution_count": 20,
   "metadata": {
    "ExecuteTime": {
     "end_time": "2022-06-20T14:25:38.203574Z",
     "start_time": "2022-06-20T14:25:38.200536Z"
    }
   },
   "outputs": [],
   "source": [
    "date_e_hora_franca = datetime.now().astimezone(fuso_horario)"
   ]
  },
  {
   "cell_type": "code",
   "execution_count": 24,
   "metadata": {
    "ExecuteTime": {
     "end_time": "2022-06-20T14:25:57.944908Z",
     "start_time": "2022-06-20T14:25:57.941947Z"
    }
   },
   "outputs": [],
   "source": [
    "fuso_horario_BR = timezone(timedelta(hours=-3))\n",
    "date_atual = datetime.now()\n",
    "dateBR = date_atual.astimezone(fuso_horario_BR)"
   ]
  },
  {
   "cell_type": "code",
   "execution_count": 25,
   "metadata": {
    "ExecuteTime": {
     "end_time": "2022-06-20T14:25:59.243294Z",
     "start_time": "2022-06-20T14:25:59.238302Z"
    }
   },
   "outputs": [
    {
     "data": {
      "text/plain": [
       "datetime.datetime(2022, 6, 20, 11, 25, 57, 942948, tzinfo=datetime.timezone(datetime.timedelta(days=-1, seconds=75600)))"
      ]
     },
     "execution_count": 25,
     "metadata": {},
     "output_type": "execute_result"
    }
   ],
   "source": [
    "dateBR"
   ]
  },
  {
   "cell_type": "markdown",
   "metadata": {},
   "source": [
    "### 6. Operações com datas"
   ]
  },
  {
   "cell_type": "code",
   "execution_count": 27,
   "metadata": {
    "ExecuteTime": {
     "end_time": "2022-06-20T14:26:23.886457Z",
     "start_time": "2022-06-20T14:26:23.883365Z"
    }
   },
   "outputs": [],
   "source": [
    "data_atual = datetime.now()"
   ]
  },
  {
   "cell_type": "code",
   "execution_count": 28,
   "metadata": {
    "ExecuteTime": {
     "end_time": "2022-06-20T14:26:24.135277Z",
     "start_time": "2022-06-20T14:26:24.129267Z"
    }
   },
   "outputs": [],
   "source": [
    "data_10d_depois = data_atual + timedelta(days=10)"
   ]
  },
  {
   "cell_type": "code",
   "execution_count": 29,
   "metadata": {
    "ExecuteTime": {
     "end_time": "2022-06-20T14:26:24.722727Z",
     "start_time": "2022-06-20T14:26:24.717731Z"
    }
   },
   "outputs": [
    {
     "data": {
      "text/plain": [
       "'30/06/2022 11:26:23'"
      ]
     },
     "execution_count": 29,
     "metadata": {},
     "output_type": "execute_result"
    }
   ],
   "source": [
    "data_10d_depois.strftime('%d/%m/%Y %H:%M:%S')"
   ]
  },
  {
   "cell_type": "code",
   "execution_count": 32,
   "metadata": {
    "ExecuteTime": {
     "end_time": "2022-06-20T14:26:32.361214Z",
     "start_time": "2022-06-20T14:26:32.358197Z"
    }
   },
   "outputs": [],
   "source": [
    "data_10h_antes = data_atual + timedelta(hours=-10)"
   ]
  },
  {
   "cell_type": "code",
   "execution_count": 33,
   "metadata": {
    "ExecuteTime": {
     "end_time": "2022-06-20T14:26:32.715716Z",
     "start_time": "2022-06-20T14:26:32.709713Z"
    }
   },
   "outputs": [
    {
     "data": {
      "text/plain": [
       "'20/06/2022 01:26:23'"
      ]
     },
     "execution_count": 33,
     "metadata": {},
     "output_type": "execute_result"
    }
   ],
   "source": [
    "data_10h_antes.strftime('%d/%m/%Y %H:%M:%S')"
   ]
  },
  {
   "cell_type": "code",
   "execution_count": null,
   "metadata": {},
   "outputs": [],
   "source": []
  },
  {
   "cell_type": "code",
   "execution_count": null,
   "metadata": {},
   "outputs": [],
   "source": []
  },
  {
   "cell_type": "markdown",
   "metadata": {},
   "source": [
    "## Agora é sua Vez"
   ]
  },
  {
   "cell_type": "markdown",
   "metadata": {
    "ExecuteTime": {
     "end_time": "2022-06-20T14:28:03.783726Z",
     "start_time": "2022-06-20T14:28:03.780726Z"
    }
   },
   "source": [
    "**1) Crie um programa que irá imprimir a hora correta para Brasil (-3h), França (+2h) e Inglaterra, considerando os diferentes timezones e os diferentes formatos para as datas\n",
    "\n",
    "- Exemplo:\n",
    "    - horário Brasil: 20/06/2022 11:29:02\n",
    "    - horário França: 20/06/2022 16:29:02\n",
    "    - horário Inglaterra: 20/06/2022 15:29:02\n",
    "    - horário Brasil: 20/06/2022 11:29:03\n",
    "    - horário França: 20/06/2022 16:29:03\n",
    "    - horário Inglaterra: 20/06/2022 15:29:03\n"
   ]
  },
  {
   "cell_type": "code",
   "execution_count": 6,
   "metadata": {
    "ExecuteTime": {
     "end_time": "2022-06-20T14:28:57.707221Z",
     "start_time": "2022-06-20T14:28:57.702730Z"
    }
   },
   "outputs": [
    {
     "name": "stdout",
     "output_type": "stream",
     "text": [
      "horário Brasil: 24/06/2022 11:47:49\n",
      "horário França: 24/06/2022 16:47:49\n",
      "horário Inglaterra: 24/06/2022 16:47:49\n"
     ]
    }
   ],
   "source": [
    "date_e_tempo_atual = datetime.now()\n",
    "diferenca_fuso_horario_brasil = date_e_tempo_atual - timedelta(hours=-0)\n",
    "diferenca_fuso_horario_franca = date_e_tempo_atual - timedelta(hours=-5)\n",
    "diferenca_fuso_horario_inglaterra = date_e_tempo_atual - timedelta(hours=-5)\n",
    "\n",
    "print ('horário Brasil:', diferenca_fuso_horario_brasil.strftime('%d/%m/%Y %H:%M:%S'))\n",
    "print ('horário França:', diferenca_fuso_horario_franca.strftime('%d/%m/%Y %H:%M:%S'))\n",
    "print ('horário Inglaterra:', diferenca_fuso_horario_inglaterra.strftime('%d/%m/%Y %H:%M:%S'))"
   ]
  },
  {
   "cell_type": "code",
   "execution_count": 4,
   "metadata": {},
   "outputs": [],
   "source": []
  },
  {
   "cell_type": "code",
   "execution_count": null,
   "metadata": {},
   "outputs": [],
   "source": []
  }
 ],
 "metadata": {
  "kernelspec": {
   "display_name": "Python 3 (ipykernel)",
   "language": "python",
   "name": "python3"
  },
  "language_info": {
   "codemirror_mode": {
    "name": "ipython",
    "version": 3
   },
   "file_extension": ".py",
   "mimetype": "text/x-python",
   "name": "python",
   "nbconvert_exporter": "python",
   "pygments_lexer": "ipython3",
   "version": "3.9.12"
  }
 },
 "nbformat": 4,
 "nbformat_minor": 4
}

{
 "cells": [
  {
   "cell_type": "markdown",
   "id": "276de3d9",
   "metadata": {
    "id": "276de3d9"
   },
   "source": [
    "# Atividade Avaliativa (Python Básico)"
   ]
  },
  {
   "cell_type": "markdown",
   "id": "891b84d9",
   "metadata": {
    "id": "891b84d9"
   },
   "source": [
    "**1) Escreva um função que recebe uma lista de valores e retorna uma string dessa lista;**\n",
    "\n",
    "```\n",
    "- Input: [1, 5, 12, 2]\n",
    "- Output: 15122\n",
    "```"
   ]
  },
  {
   "cell_type": "code",
   "execution_count": 1,
   "id": "1a325f98",
   "metadata": {
    "colab": {
     "base_uri": "https://localhost:8080/",
     "height": 35
    },
    "id": "1a325f98",
    "outputId": "4e4253ce-0244-4c2d-caa3-0171ae66a69b"
   },
   "outputs": [
    {
     "data": {
      "text/plain": [
       "'15122'"
      ]
     },
     "execution_count": 1,
     "metadata": {},
     "output_type": "execute_result"
    }
   ],
   "source": [
    "def exc1 (lista):\n",
    "  saida = ''.join(lista)\n",
    "  return saida\n",
    "\n",
    "exc1(lista = ['1','5','12','2'])\n",
    "\n"
   ]
  },
  {
   "cell_type": "markdown",
   "id": "22e672ac",
   "metadata": {
    "id": "22e672ac"
   },
   "source": [
    "**2) Escreva uma função que recebe um dicionário e uma chave. A função irá retornar True se a chave já existe no dicionário, caso contrário, retorne False.**\n",
    "\n",
    "```\n",
    "- Input: {1: 10, 2: 20, 3: 30, 4: 40, 5: 50, 6: 60}, key=5\n",
    "- Output: Key is present in the dictionary\n",
    "\n",
    "- Input: {1: 10, 2: 20, 3: 30, 4: 40, 5: 50, 6: 60}, key=9\n",
    "- Output: Key is not present in the dictionary\n",
    "```"
   ]
  },
  {
   "cell_type": "code",
   "execution_count": 2,
   "id": "f98cd803",
   "metadata": {
    "colab": {
     "base_uri": "https://localhost:8080/"
    },
    "id": "f98cd803",
    "outputId": "ee29b015-92ab-4299-dbb2-6adb40ab0d3d"
   },
   "outputs": [
    {
     "name": "stdout",
     "output_type": "stream",
     "text": [
      "Key is present in the dictionary\n"
     ]
    }
   ],
   "source": [
    "dicionario = {1: 10, 2: 20, 3: 30, 4: 40, 5: 50, 6: 60} \n",
    "key = 1\n",
    "\n",
    "def exc2(dic, chave):\n",
    "  if key in dic.keys():\n",
    "    saida = \"Key is present in the dictionary\"\n",
    "    return saida\n",
    "  else:\n",
    "    saida = \"Key is not present in the dictionary\"\n",
    "    return saida \n",
    "\n",
    "print(exc2(dicionario, key))"
   ]
  },
  {
   "cell_type": "markdown",
   "id": "9d8cd82a",
   "metadata": {
    "id": "9d8cd82a"
   },
   "source": [
    "**3) Escreva uma função que recebe dois atributos no formato datetime e cálcula a diferença dessas datas em segundos;**\n",
    "\n",
    "```\n",
    "- Input: \n",
    "    - a = datetime.datetime(year=2017, month=5, day=16, hour=18, minute=20, second=30)\n",
    "    - b = datetime.datetime(year=2017, month=5, day=16, hour=18, minute=25, second=10)\n",
    "- Output: 280\n",
    "\n",
    "- Input: \n",
    "    - a = datetime.datetime(year=2017, month=5, day=16, hour=18, minute=20, second=30)\n",
    "    - b = datetime.datetime(year=2015, month=10, day=2, hour=12, minute=25, second=10)\n",
    "- Output: 51170120\n",
    "```"
   ]
  },
  {
   "cell_type": "code",
   "execution_count": 3,
   "id": "68d8c9ed",
   "metadata": {
    "colab": {
     "base_uri": "https://localhost:8080/"
    },
    "id": "68d8c9ed",
    "outputId": "55bc50c8-d099-47ae-9e6c-ef84a533d470"
   },
   "outputs": [
    {
     "name": "stdout",
     "output_type": "stream",
     "text": [
      "DATA 1: 28/07/1999\n",
      "DATA 2:30/07/2022\n",
      "-726019200.0 Segundos\n"
     ]
    }
   ],
   "source": [
    "from datetime import date\n",
    "from datetime import datetime\n",
    "from datetime import timedelta \n",
    "\n",
    "def exc3(data1, data2):\n",
    "  return timedelta.total_seconds(data1 - data2)\n",
    "date1 = datetime.strptime(input('DATA 1: '), '%d/%m/%Y')\n",
    "date2 = datetime.strptime(input('DATA 2:'), '%d/%m/%Y')\n",
    "print(exc3(date1,date2), \"Segundos\")"
   ]
  },
  {
   "cell_type": "markdown",
   "id": "d9a115a5",
   "metadata": {
    "id": "d9a115a5"
   },
   "source": [
    "**4) Escreva uma função que recebe uma estrutura de dados, como tuple list, set ou dicionary, e cálcula a soma de todos os item dessa estrutura.**\n",
    "\n",
    "```\n",
    "- Input: [10,20,30]\n",
    "- Output: 60\n",
    "\n",
    "- Input: (15,27,75)\n",
    "- Output: 117\n",
    "```"
   ]
  },
  {
   "cell_type": "code",
   "execution_count": 4,
   "id": "3696367f",
   "metadata": {
    "colab": {
     "base_uri": "https://localhost:8080/"
    },
    "id": "3696367f",
    "outputId": "e324a06a-137b-42b2-84e4-6f908f9f8cc7"
   },
   "outputs": [
    {
     "name": "stdout",
     "output_type": "stream",
     "text": [
      "117\n"
     ]
    }
   ],
   "source": [
    "lista = [15,27,75]\n",
    "def exc4():\n",
    "  print(sum(lista))\n",
    "\n",
    "exc4()"
   ]
  },
  {
   "cell_type": "markdown",
   "id": "753363d7",
   "metadata": {
    "id": "753363d7"
   },
   "source": [
    "**5) Escreva uma função que ler um arquivo no disco e cálcula a quantidade de palavras e de linhas que existem neste arquivo.**\n",
    "```\n",
    "- Input: texto.txt\n",
    "- Output: o texto cotém 75 palavras e 10 linhas\n",
    "```"
   ]
  },
  {
   "cell_type": "code",
   "execution_count": 5,
   "id": "95d692ce",
   "metadata": {
    "colab": {
     "base_uri": "https://localhost:8080/"
    },
    "id": "95d692ce",
    "outputId": "03ec3751-93c2-4492-e9b1-b64d14de1124"
   },
   "outputs": [
    {
     "name": "stdout",
     "output_type": "stream",
     "text": [
      "O  texto cotém 7991 palavras e 2321 linhas\n"
     ]
    }
   ],
   "source": [
    "def exc5(arquivo):\n",
    "  file = open(arquivo, 'r', encoding='utf-8')\n",
    "\n",
    "  linhas = 0\n",
    "  palavras = 0\n",
    "\n",
    "  for linha in file.readlines():\n",
    "    linhas += 1\n",
    "    for palavra in linha.split():\n",
    "      palavras += 1\n",
    "\n",
    "  valores = print ('O  texto cotém {} palavras e {} linhas'.format(palavras, linhas))\n",
    "  return valores\n",
    "\n",
    "exc5('BLI_24062022205224304.csv')"
   ]
  },
  {
   "cell_type": "markdown",
   "id": "d6b37d96",
   "metadata": {
    "id": "d6b37d96"
   },
   "source": [
    "**6) Escreva uma função que recebe um texto e irá retorna todo o texto trocando a palavra “Java” por “Python”.**\n",
    "```\n",
    "- Input: Olá, eu programo em Python, pois acho que Python é a linguagem mais fácil\n",
    "- Output: Olá, eu programo em Java, pois acho que Java é a linguagem mais fácil\n",
    "\n",
    "```"
   ]
  },
  {
   "cell_type": "code",
   "execution_count": 6,
   "id": "e7ae80cc",
   "metadata": {
    "colab": {
     "base_uri": "https://localhost:8080/"
    },
    "id": "e7ae80cc",
    "outputId": "6fe12340-4aff-4b03-d8a2-f08c78d102e6"
   },
   "outputs": [
    {
     "name": "stdout",
     "output_type": "stream",
     "text": [
      "Olá, eu programo em Java, pois acho que Java é a linguagem mais fácil\n"
     ]
    }
   ],
   "source": [
    "def exc6():\n",
    "  string = 'Olá, eu programo em Python, pois acho que Python é a linguagem mais fácil'\n",
    "  print(string.replace('Python', 'Java'))\n",
    "\n",
    "exc6()"
   ]
  },
  {
   "cell_type": "markdown",
   "id": "c6cb896d",
   "metadata": {
    "id": "c6cb896d"
   },
   "source": [
    "**7) Escreva uma função que recebe uma lista e retorna somente os números únicos dessa lista**\n",
    "\n",
    "```\n",
    "- Input: [1,2,3,3,3,3,4,5]\n",
    "- Output: [1,2,3,4,5]\n",
    "``` "
   ]
  },
  {
   "cell_type": "code",
   "execution_count": 7,
   "id": "63c5c6bd",
   "metadata": {
    "colab": {
     "base_uri": "https://localhost:8080/"
    },
    "id": "63c5c6bd",
    "outputId": "a619905b-8d56-44ec-e303-abd904e86924"
   },
   "outputs": [
    {
     "name": "stdout",
     "output_type": "stream",
     "text": [
      "[1, 2, 3, 4, 5]\n"
     ]
    }
   ],
   "source": [
    "lista = [1,2,3,3,3,3,4,5]\n",
    "\n",
    "def exc7 (lista):\n",
    "  num = sorted(set(lista))\n",
    "  print(num)\n",
    "exc7(lista)"
   ]
  },
  {
   "cell_type": "markdown",
   "id": "29b8bd46",
   "metadata": {
    "id": "29b8bd46"
   },
   "source": [
    "**8) Escreva uma função que irá buscar sequências de números (0-9) de tamanho entre 1 e 3 em um dado texto.**\n",
    "```\n",
    "- Input: \"Exercises number 1, 12, 13, and 345, 54545 are important\"\n",
    "- Output: \n",
    "            Number of length 1 to 3\n",
    "            1\n",
    "            12\n",
    "            13\n",
    "            345\n",
    "            545\n",
    "            45\n",
    "```"
   ]
  },
  {
   "cell_type": "code",
   "execution_count": 8,
   "id": "796beb32",
   "metadata": {
    "colab": {
     "base_uri": "https://localhost:8080/"
    },
    "id": "796beb32",
    "outputId": "3c1b983f-cb56-4750-c341-9604aa91d6d5"
   },
   "outputs": [
    {
     "name": "stdout",
     "output_type": "stream",
     "text": [
      "Number of length 1 to 3\n",
      "1\n",
      "12\n",
      "13\n",
      "345\n",
      "545\n",
      "45\n"
     ]
    }
   ],
   "source": [
    "import re\n",
    "string = 'Exercises number 1, 12, 13, and 345, 54545 are important'\n",
    "def exc8(string):\n",
    "  n = re.finditer(r\"([0-9]{1,3})\", string)\n",
    "  print(\"Number of length 1 to 3\")\n",
    "  for i in n:\n",
    "    print(i.group(0))\n",
    "\n",
    "exc8(string)\n"
   ]
  },
  {
   "cell_type": "markdown",
   "id": "64f002c7",
   "metadata": {
    "id": "64f002c7"
   },
   "source": [
    "**9) Escreva uma função que recebe uma lista de número e retornará uma nova lista de números que terá todos os zeros movidos para o final da lista;**\n",
    "```\n",
    "- Input: [0,2,3,4,6,7,10]\n",
    "- Output: [2, 3, 4, 6, 7, 10, 0]\n",
    "\n",
    "- Input: [10,0,11,12,0,14,17]\n",
    "- Output: [10, 11, 12, 14, 17, 0, 0]\n",
    "\n",
    "```"
   ]
  },
  {
   "cell_type": "code",
   "execution_count": 9,
   "id": "7cfa8737",
   "metadata": {
    "colab": {
     "base_uri": "https://localhost:8080/"
    },
    "id": "7cfa8737",
    "outputId": "f0bde178-9e9d-4307-e0df-1f65f7815257"
   },
   "outputs": [
    {
     "name": "stdout",
     "output_type": "stream",
     "text": [
      "Saida:  [10, 11, 12, 14, 17, 0, 0]\n"
     ]
    }
   ],
   "source": [
    "aux = []\n",
    "lista = [10,0,11,12,0,14,17]\n",
    "\n",
    "def exc9():\n",
    "  for i in lista:\n",
    "    if(i == 0):\n",
    "      aux.append(i)\n",
    "      lista.remove(i)\n",
    "  print('Saida: ', lista + aux)\n",
    "\n",
    "exc9()"
   ]
  },
  {
   "cell_type": "markdown",
   "id": "bf319dbe",
   "metadata": {
    "id": "bf319dbe"
   },
   "source": [
    "**10) Escreva uma função em Python que soma todos os valores positivos e os valores negativos usando lambda fuctions (use o método filter).**\n",
    "```\n",
    "- Input: [2, 4, -6, -9, 11, -12, 14, -5, 17]\n",
    "\n",
    "- Output:\n",
    "        Sum of the negative numbers:  -32\n",
    "        Sum of the positive numbers:  48\n",
    "```"
   ]
  },
  {
   "cell_type": "code",
   "execution_count": 10,
   "id": "fd090e0a",
   "metadata": {
    "colab": {
     "base_uri": "https://localhost:8080/"
    },
    "id": "fd090e0a",
    "outputId": "582e8c05-c886-47c8-e05d-2d983c8c0434"
   },
   "outputs": [
    {
     "name": "stdout",
     "output_type": "stream",
     "text": [
      "Soma dos negativos:  -32\n",
      "Soma dos positivos:  48\n"
     ]
    }
   ],
   "source": [
    "lista = [2, 4, -6, -9, 11, -12, 14, -5, 17]\n",
    "def exc10(lista):\n",
    "  exc10 = sum(filter(lambda n: n < 0, lista))\n",
    "  print(\"Soma dos negativos: \", (exc10))\n",
    "  exc10 = sum(filter(lambda n: n > 0, lista))\n",
    "  print(\"Soma dos positivos: \", (exc10))\n",
    "exc10(lista)"
   ]
  },
  {
   "cell_type": "code",
   "execution_count": null,
   "id": "0HJjFpWUH3CJ",
   "metadata": {
    "id": "0HJjFpWUH3CJ"
   },
   "outputs": [],
   "source": []
  },
  {
   "cell_type": "code",
   "execution_count": null,
   "id": "92dbd046",
   "metadata": {},
   "outputs": [],
   "source": []
  }
 ],
 "metadata": {
  "colab": {
   "collapsed_sections": [],
   "name": "Cópia de AtividadeFinal - Python Básico (10 questões) - kelvin.ipynb",
   "provenance": []
  },
  "kernelspec": {
   "display_name": "Python 3 (ipykernel)",
   "language": "python",
   "name": "python3"
  },
  "language_info": {
   "codemirror_mode": {
    "name": "ipython",
    "version": 3
   },
   "file_extension": ".py",
   "mimetype": "text/x-python",
   "name": "python",
   "nbconvert_exporter": "python",
   "pygments_lexer": "ipython3",
   "version": "3.9.12"
  }
 },
 "nbformat": 4,
 "nbformat_minor": 5
}

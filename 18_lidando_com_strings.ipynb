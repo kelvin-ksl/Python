{
 "cells": [
  {
   "cell_type": "markdown",
   "metadata": {},
   "source": [
    "# Curso de Python Básico\n",
    "\n",
    "Este é um curso básico de python que tem o objetivo de apresentar a linguagem python de uma **maneira rápida e objetiva**. Vamos direto ao ponto nos conceitos básicos da programação e python com muita mão na massa! \n",
    "\n",
    "Neste curso, vamos trabalhar no **modo iterativo** do python. Porém, entenda que você pode trabalhar no modo script com várias linhas de código usando um arquivo no formato .py.\n",
    "\n",
    "Ao final desse Curso, espero que você se aprenda python e se motive cada vez mais em utilizar a linguagem para diversas tarefas e problemas do mundo real.\n",
    "\n",
    "Este notebook vai apenas passar pelos tópicos básicos em ordem:\n",
    "\n",
    "* 8. Python intermediário\n",
    "    * 8.4 Lidando com String  "
   ]
  },
  {
   "cell_type": "markdown",
   "metadata": {},
   "source": [
    "#### 8.5 Lidando com String\n",
    "\n",
    "Uma String é uma sequência de caractéres. Você pode acessar um caractere cada vez com o operador []"
   ]
  },
  {
   "cell_type": "markdown",
   "metadata": {},
   "source": [
    "##### 8.5.1 Acessando String"
   ]
  },
  {
   "cell_type": "code",
   "execution_count": 12,
   "metadata": {
    "ExecuteTime": {
     "end_time": "2022-06-20T14:04:17.114533Z",
     "start_time": "2022-06-20T14:04:17.100494Z"
    }
   },
   "outputs": [],
   "source": [
    "nome = 'Nicksson'"
   ]
  },
  {
   "cell_type": "code",
   "execution_count": 13,
   "metadata": {
    "ExecuteTime": {
     "end_time": "2022-06-20T14:04:17.132497Z",
     "start_time": "2022-06-20T14:04:17.116494Z"
    }
   },
   "outputs": [
    {
     "data": {
      "text/plain": [
       "'N'"
      ]
     },
     "execution_count": 13,
     "metadata": {},
     "output_type": "execute_result"
    }
   ],
   "source": [
    "nome[0]"
   ]
  },
  {
   "cell_type": "code",
   "execution_count": 14,
   "metadata": {
    "ExecuteTime": {
     "end_time": "2022-06-20T14:04:17.142494Z",
     "start_time": "2022-06-20T14:04:17.134500Z"
    }
   },
   "outputs": [
    {
     "data": {
      "text/plain": [
       "'son'"
      ]
     },
     "execution_count": 14,
     "metadata": {},
     "output_type": "execute_result"
    }
   ],
   "source": [
    "# fatiamento de string\n",
    "nome[-3:]"
   ]
  },
  {
   "cell_type": "code",
   "execution_count": 15,
   "metadata": {
    "ExecuteTime": {
     "end_time": "2022-06-20T14:04:40.373876Z",
     "start_time": "2022-06-20T14:04:40.365874Z"
    }
   },
   "outputs": [
    {
     "ename": "TypeError",
     "evalue": "'str' object does not support item assignment",
     "output_type": "error",
     "traceback": [
      "\u001b[1;31m---------------------------------------------------------------------------\u001b[0m",
      "\u001b[1;31mTypeError\u001b[0m                                 Traceback (most recent call last)",
      "Input \u001b[1;32mIn [15]\u001b[0m, in \u001b[0;36m<cell line: 2>\u001b[1;34m()\u001b[0m\n\u001b[0;32m      1\u001b[0m \u001b[38;5;66;03m# String são imutáveis\u001b[39;00m\n\u001b[1;32m----> 2\u001b[0m nome[\u001b[38;5;241m0\u001b[39m] \u001b[38;5;241m=\u001b[39m \u001b[38;5;124m'\u001b[39m\u001b[38;5;124mP\u001b[39m\u001b[38;5;124m'\u001b[39m\n",
      "\u001b[1;31mTypeError\u001b[0m: 'str' object does not support item assignment"
     ]
    }
   ],
   "source": [
    "# String são imutáveis\n",
    "nome[0] = 'P'"
   ]
  },
  {
   "cell_type": "markdown",
   "metadata": {},
   "source": [
    "##### 8.5.2 Loops em String"
   ]
  },
  {
   "cell_type": "code",
   "execution_count": 16,
   "metadata": {
    "ExecuteTime": {
     "end_time": "2022-06-20T14:04:17.701531Z",
     "start_time": "2022-06-20T14:04:17.701531Z"
    }
   },
   "outputs": [],
   "source": [
    "def count_word(letter, texto):\n",
    "    count = 0\n",
    "    for c in texto:\n",
    "        if c == letter:\n",
    "            count = count + 1\n",
    "    print(count)"
   ]
  },
  {
   "cell_type": "code",
   "execution_count": 20,
   "metadata": {
    "ExecuteTime": {
     "end_time": "2022-06-20T14:04:17.703496Z",
     "start_time": "2022-06-20T14:04:17.703496Z"
    }
   },
   "outputs": [
    {
     "name": "stdout",
     "output_type": "stream",
     "text": [
      "3\n"
     ]
    }
   ],
   "source": [
    "count_word('a', 'padaria')"
   ]
  },
  {
   "cell_type": "markdown",
   "metadata": {},
   "source": [
    "##### 8.5.3 Operador in "
   ]
  },
  {
   "cell_type": "code",
   "execution_count": 3,
   "metadata": {
    "ExecuteTime": {
     "end_time": "2022-06-20T14:04:17.916505Z",
     "start_time": "2022-06-20T14:04:17.908505Z"
    }
   },
   "outputs": [
    {
     "data": {
      "text/plain": [
       "True"
      ]
     },
     "execution_count": 3,
     "metadata": {},
     "output_type": "execute_result"
    }
   ],
   "source": [
    "'nick' in 'nicksson'"
   ]
  },
  {
   "cell_type": "code",
   "execution_count": 4,
   "metadata": {
    "ExecuteTime": {
     "end_time": "2022-06-20T14:04:18.393499Z",
     "start_time": "2022-06-20T14:04:18.389511Z"
    }
   },
   "outputs": [
    {
     "data": {
      "text/plain": [
       "False"
      ]
     },
     "execution_count": 4,
     "metadata": {},
     "output_type": "execute_result"
    }
   ],
   "source": [
    "'ss' not in 'nicksson'"
   ]
  },
  {
   "cell_type": "markdown",
   "metadata": {},
   "source": [
    "##### 8.5.4 Buscando palavras em String"
   ]
  },
  {
   "cell_type": "code",
   "execution_count": 5,
   "metadata": {
    "ExecuteTime": {
     "end_time": "2022-06-20T14:04:19.086501Z",
     "start_time": "2022-06-20T14:04:19.083539Z"
    }
   },
   "outputs": [],
   "source": [
    "word = 'fruta'"
   ]
  },
  {
   "cell_type": "code",
   "execution_count": 6,
   "metadata": {
    "ExecuteTime": {
     "end_time": "2022-06-20T14:04:19.426497Z",
     "start_time": "2022-06-20T14:04:19.422498Z"
    }
   },
   "outputs": [
    {
     "data": {
      "text/plain": [
       "4"
      ]
     },
     "execution_count": 6,
     "metadata": {},
     "output_type": "execute_result"
    }
   ],
   "source": [
    "word.find('a')"
   ]
  },
  {
   "cell_type": "markdown",
   "metadata": {},
   "source": [
    "##### 8.5.5 Upper e Lower"
   ]
  },
  {
   "cell_type": "code",
   "execution_count": 9,
   "metadata": {
    "ExecuteTime": {
     "end_time": "2022-06-20T14:04:20.116538Z",
     "start_time": "2022-06-20T14:04:20.109540Z"
    }
   },
   "outputs": [
    {
     "data": {
      "text/plain": [
       "'FRUTA'"
      ]
     },
     "execution_count": 9,
     "metadata": {},
     "output_type": "execute_result"
    }
   ],
   "source": [
    "word.upper()"
   ]
  },
  {
   "cell_type": "code",
   "execution_count": 10,
   "metadata": {
    "ExecuteTime": {
     "end_time": "2022-06-20T14:04:20.406871Z",
     "start_time": "2022-06-20T14:04:20.400867Z"
    }
   },
   "outputs": [
    {
     "data": {
      "text/plain": [
       "'fruta'"
      ]
     },
     "execution_count": 10,
     "metadata": {},
     "output_type": "execute_result"
    }
   ],
   "source": [
    "word.lower()"
   ]
  },
  {
   "cell_type": "markdown",
   "metadata": {},
   "source": [
    "##### 8.5.6 Split"
   ]
  },
  {
   "cell_type": "code",
   "execution_count": 7,
   "metadata": {
    "ExecuteTime": {
     "end_time": "2022-06-20T14:04:21.042873Z",
     "start_time": "2022-06-20T14:04:21.038871Z"
    }
   },
   "outputs": [],
   "source": [
    "texto = 'você vai? Eu preciso ir?'"
   ]
  },
  {
   "cell_type": "code",
   "execution_count": 8,
   "metadata": {
    "ExecuteTime": {
     "end_time": "2022-06-20T14:04:21.363868Z",
     "start_time": "2022-06-20T14:04:21.358868Z"
    }
   },
   "outputs": [
    {
     "data": {
      "text/plain": [
       "['você vai', ' Eu preciso ir', '']"
      ]
     },
     "execution_count": 8,
     "metadata": {},
     "output_type": "execute_result"
    }
   ],
   "source": [
    "texto.split('?')"
   ]
  },
  {
   "cell_type": "code",
   "execution_count": null,
   "metadata": {},
   "outputs": [],
   "source": []
  },
  {
   "cell_type": "markdown",
   "metadata": {},
   "source": [
    "# Agora é sua vez!"
   ]
  },
  {
   "cell_type": "markdown",
   "metadata": {},
   "source": [
    "**1) Faça um programa que leia 2 strings e informe o conteúdo delas seguido do seu comprimento. Informe também se as duas strings possuem o mesmo comprimento e são iguais ou diferentes no conteúdo.**\n",
    "\n",
    "Exemplo:\n",
    "- String 1: Brasil Hexa 2006\n",
    "- String 2: Brasil! Hexa 2006!\n",
    "- Tamanho de \"Brasil Hexa 2006\": 16 caracteres\n",
    "- Tamanho de \"Brasil! Hexa 2006!\": 18 caracteres\n",
    "- As duas strings são de tamanhos diferentes.\n",
    "- As duas strings possuem conteúdo diferente."
   ]
  },
  {
   "cell_type": "code",
   "execution_count": 1,
   "metadata": {},
   "outputs": [
    {
     "name": "stdout",
     "output_type": "stream",
     "text": [
      " A string1 possui 16 caracteres \n",
      " A string2 possui 18 caracteres\n",
      " As duas strings são de tamanhos diferentes\n",
      " As duas strings possuem conteúdo diferente\n"
     ]
    }
   ],
   "source": [
    "string1 = 'Brasil Hexa 2006'\n",
    "string2 = 'Brasil! Hexa 2006!'\n",
    "\n",
    "p1 = len(string1)\n",
    "p2 = len(string2)\n",
    "print(' A string1 possui',p1,'caracteres \\n','A string2 possui',p2,'caracteres')\n",
    "\n",
    "if (p1 != p2):\n",
    "    print(' As duas strings são de tamanhos diferentes')\n",
    "else:\n",
    "    print('As duas strings tem o mesmo tamanho')\n",
    "    \n",
    "if (string1 != string2):\n",
    "    print(' As duas strings possuem conteúdo diferente')\n",
    "else:\n",
    "    print('As duas strings possuem o mesmo conteúdo')"
   ]
  },
  {
   "cell_type": "markdown",
   "metadata": {},
   "source": [
    "**2) Jogo de Forca. Desenvolva um jogo da forca. O programa terá uma lista de palavras lidas de um arquivo texto (ou em uma sequência de string) e escolherá uma aleatoriamente. O jogador poderá errar 6 vezes antes de ser enforcado.**\n",
    "\n",
    "Exemplo:\n",
    "\n",
    "- Digite uma letra: A\n",
    "- Você errou pela 1ª vez. Tente de novo!\n",
    "\n",
    "------------------------------\n",
    "\n",
    "- Digite uma letra: O\n",
    "- A palavra é: _ _ _ _ O\n",
    "\n",
    "\n",
    "- Digite uma letra: E\n",
    "- A palavra é: _ E _ _ O\n",
    "\n",
    "------------------------------\n",
    "\n",
    "- Digite uma letra: S\n",
    "- Você errou pela 2ª vez. Tente de novo!"
   ]
  },
  {
   "cell_type": "code",
   "execution_count": 37,
   "metadata": {},
   "outputs": [
    {
     "name": "stdout",
     "output_type": "stream",
     "text": [
      "Digite uma letra: p\n",
      "A palavra é: _ _ p _ _ p _\n",
      "Digite uma letra: a\n",
      "A palavra é: _ _ p _ _ p a\n",
      "Digite uma letra: l\n",
      "Você errou pela 1a vez. Tente de novo!\n",
      "Digite uma letra: i\n",
      "A palavra é: _ _ p i _ p a\n",
      "Digite uma letra: m\n",
      "A palavra é: _ _ p i m p a\n",
      "Digite uma letra: s\n",
      "A palavra é: s _ p i m p a\n",
      "Digite uma letra: u\n",
      "A palavra é: s u p i m p a\n",
      "Parabéns!\n"
     ]
    }
   ],
   "source": [
    "palavras = ['bonito', 'supimpa', 'carrocel', 'paralelepípedo', 'celular', 'notebook']\n",
    "\n",
    "from random import randint\n",
    "selecao = palavras[randint(0, 5)]\n",
    "forca = ['_'] * len(selecao)\n",
    "tentativa = 0\n",
    "match = False\n",
    "while (tentativa <= 6) and not match:\n",
    "    letra = input(\"Digite uma letra: \")\n",
    "    indices = [i for i in range(len(selecao)) if selecao.startswith(letra, i)]\n",
    "    if indices == []:\n",
    "        tentativa += 1\n",
    "        print(f'Você errou pela {tentativa}a vez. Tente de novo!')\n",
    "    else:\n",
    "        for i in indices:\n",
    "            forca[i] = letra\n",
    "        print('A palavra é:', ' '.join(forca))\n",
    "        if ''.join(forca) == selecao:\n",
    "            print(\"Parabéns!\")\n",
    "            match = True\n",
    "if not match:\n",
    "    print(\"Infelizmente vc foi enforcado!\")"
   ]
  },
  {
   "cell_type": "markdown",
   "metadata": {
    "ExecuteTime": {
     "end_time": "2022-06-20T14:12:32.916101Z",
     "start_time": "2022-06-20T14:12:32.908102Z"
    }
   },
   "source": [
    "**3) Faca um programa que, dada uma string, diga se ela é um palíndromo ou não. Lembrando que um palíndromo é uma palavra que tenha a propriedade de poder ser lida tanto da direita para a esquerda como da esquerda para a direita**\n",
    "- Exemplos:\n",
    "    - ovo \n",
    "    - arara \n",
    "    - Socorram-me, subi no onibus em Marrocos. \n",
    "    - Anotaram a data da maratona"
   ]
  },
  {
   "cell_type": "code",
   "execution_count": 2,
   "metadata": {},
   "outputs": [
    {
     "name": "stdout",
     "output_type": "stream",
     "text": [
      "Digite uma palavra para verificar se é um palíndromopão\n",
      "não palíndromo\n"
     ]
    }
   ],
   "source": [
    "palavra = input('Digite uma palavra para verificar se é um palíndromo')\n",
    "\n",
    "if str(palavra) == str(palavra)[::-1] :\n",
    "    print(\"palíndromo\")\n",
    "else:\n",
    "    print(\"não palíndromo\")"
   ]
  },
  {
   "cell_type": "markdown",
   "metadata": {},
   "source": [
    "**4) Faca um programa que encontre o conjunto de 5 dígitos consecutivos na sequência abaixo que gera o maior produto**"
   ]
  },
  {
   "cell_type": "code",
   "execution_count": 31,
   "metadata": {
    "ExecuteTime": {
     "end_time": "2022-06-20T14:16:33.552012Z",
     "start_time": "2022-06-20T14:16:33.548010Z"
    }
   },
   "outputs": [],
   "source": [
    "sequencia = '''\n",
    "    73167176531330624919225119674426574742355349194934969835203127745063262\n",
    "    39578318016984801869478851843 85861560789112949495459501737958331952853\n",
    "    20880551112540698747158523863050715693290963295227443043557668966489504\n",
    "    45244523161731856403098711121722383113622298934233803081353362766142828\n",
    "    06444486645238749303589072962904915604407723907138105158593079608667017\n",
    "    2427121883998797908792274921901699720888093776 657273330010533678812202\n",
    "    35421809751254540594752243525849077116705560136048395864467063244157221\n",
    "    55397536978179778461740649551492908625693219784686224828397224137565705\n",
    "    6057490261407972968652414535100474 821663704844031998900088952434506585\n",
    "    41227588666881164271714799244429282308634656748139191231628245861786645\n",
    "    83591245665294765456828489128831426076900422421902267105562632111110937\n",
    "    0544217506941658960408 071984038509624554443629812309878799272442849091\n",
    "    88 84580156166097919133875499200524063689912560717606058861164671094050\n",
    "    77541002256983155200055935729725716362695618826704282524836008232575304\n",
    "'''"
   ]
  },
  {
   "cell_type": "code",
   "execution_count": 32,
   "metadata": {},
   "outputs": [],
   "source": [
    "def contar_sub(sequencia):\n",
    "    sequencia = sequencia.replace('\\n', '')\n",
    "    sequencia = sequencia.replace(' ', '')\n",
    "\n",
    "    total = 0\n",
    "    seq = ''\n",
    "\n",
    "    ini = 0\n",
    "    fim = 5\n",
    "\n",
    "    while fim < len(sequencia):\n",
    "        try:\n",
    "            sub = sequencia[ini:fim]\n",
    "        except:\n",
    "            break\n",
    "        mult = 1\n",
    "        for i in sub:\n",
    "            mult *= int(i)\n",
    "\n",
    "        if mult > total:\n",
    "            total = mult\n",
    "            seq = sub\n",
    "        ini+=1\n",
    "        fim+=1\n",
    "\n",
    "    return seq, total"
   ]
  },
  {
   "cell_type": "code",
   "execution_count": 33,
   "metadata": {},
   "outputs": [
    {
     "data": {
      "text/plain": [
       "('99879', 40824)"
      ]
     },
     "execution_count": 33,
     "metadata": {},
     "output_type": "execute_result"
    }
   ],
   "source": [
    "contar_sub(sequencia)"
   ]
  },
  {
   "cell_type": "markdown",
   "metadata": {},
   "source": [
    "**5) Desenvolva uma função que ira contar a ocorrência de palavras em um texto**\n",
    "\n",
    "- Exemplo: \n",
    "    - palavra='covid'\n",
    "    - há 6 ocorrências"
   ]
  },
  {
   "cell_type": "code",
   "execution_count": 59,
   "metadata": {
    "ExecuteTime": {
     "end_time": "2022-06-20T14:52:55.311230Z",
     "start_time": "2022-06-20T14:52:55.304255Z"
    }
   },
   "outputs": [],
   "source": [
    "texto = '''\n",
    "11 de agosto de 2020 — A pandemia de covid-19, que matou mais de 390 mil pessoas nas Américas, \n",
    "está ameaçando os planos regionais para eliminar e controlar doenças infecciosas, incluindo tuberculose,\n",
    "HIV e hepatites, disse nesta terça-feira (11) Carissa F. Etienne, diretora da OPAS.\n",
    "Com mais de 10,5 milhões de casos de COVID-19 nas Américas e 100 mil novos casos sendo notificados todos os dias,\n",
    "“os países não podem atrasar a luta contra COVID-19, mas não devem permitir que a doença nos atrase para completar\n",
    "a agenda inacabada de eliminar e controlar as doenças infecciosas em nossa região”, afirmou Etienne em coletiva\n",
    "de imprensa. Desafios na distribuição de tratamentos de TB durante a pandemia foram relatados por 80% \n",
    "dos países da América Latina e do Caribe, o que poderia transformar casos controláveis de TB em infecções ativas.\n",
    "Da mesma forma, 30% das pessoas que vivem com HIV evitam procurar atendimento e os medicamentos antirretrovirais \n",
    "são limitados. Interrupções nos exames de hepatites, chave para detecção e tratamento, também foram relatadas\n",
    "por um terço dos países. A diretora da OPAS lembrou que a prevenção e o tratamento de doenças infecciosas \n",
    "foram o ímpeto para a criação da Organização Pan-Americana da Saúde há quase 120 anos e que a região continua \n",
    "“na vanguarda da eliminação de doenças infecciosas”. De fato, em outubro de 2019, os Estados Membros da \n",
    "OPAS se comprometeram com um enfoque regional para a eliminação de mais de 30 doenças transmissíveis e condições \n",
    "relacionadas nas Américas até 2030. Mas “o progresso para alcançar este marco está agora ameaçado devido à \n",
    "carga da COVID-19 nos sistemas de saúde e à interrupção dos serviços essenciais, incluindo programas \n",
    "prioritários de controle de doenças, iniciativas de eliminação e imunização de rotina”, observou Etienne.\n",
    "A pandemia também interrompeu as campanhas de administração de medicamentos em massa que são vitais para os\n",
    "esforços de eliminação “exatamente quando estávamos fazendo um progresso significativo contra doenças \n",
    "tropicais negligenciadas como filariose linfática, esquistossomose e helmintíases transmitidas pelo solo”, pontuou a diretora da OPAS.\n",
    "A dengue e a malária continuam sendo uma grande carga para os serviços de saúde e, como a COVID-19, têm um \n",
    "impacto desproporcional nas populações pobres e vulneráveis, incluindo as comunidades indígenas, acrescentou.\n",
    "A diretora da OPAS relevou ainda que, “nos primeiros dois meses de 2020, as Américas relataram um aumento de \n",
    "139% nos casos de dengue em comparação ao mesmo período de 2019. No entanto, desde que a COVID-19 atingiu\n",
    "nossa região em março, os casos notificados de dengue diminuíram”.\n",
    "As notificações de doenças transmitidas por mosquitos, como a malária, “caíram mais de 40%, e houve uma \n",
    "redução observada no número de pessoas fazendo o teste. No entanto, sabemos que esses dados não contam a \n",
    "história completa”, disse Etienne. A diretora da OPAS explicou que, “embora seja verdade que, como muitos\n",
    "de nós estamos presos em casa, estamos menos propensos a ser picados por mosquitos, a realidade é que os \n",
    "mosquitos e os patógenos que eles transmitem ainda estão circulando. E sem testes ou tratamento, os \n",
    "casos graves de doenças transmitidas por mosquitos podem ir de condições facilmente tratáveis à morte”.\n",
    "Etienne disse que os sistemas de saúde devem tornar mais fácil para os pacientes receber cuidados, \n",
    "“aproveitando a telemedicina e oferecendo cuidados fora dos ambientes hospitalares, por meio de programas \n",
    "de extensão à comunidade e visitas domiciliares, por exemplo”.\n",
    "Os sistemas de saúde também precisam proteger os profissionais de saúde na linha de frente desta pandemia. \n",
    "“Nossos médicos, enfermeiras e equipe devem ter o equipamento de proteção, suprimentos e tecnologias de que precisam para oferecer cuidados com segurança” e garantir que os pacientes possam continuar a receber atenção médica e os medicamentos para gerenciar com segurança suas condições”.\n",
    "'''"
   ]
  },
  {
   "cell_type": "code",
   "execution_count": 64,
   "metadata": {},
   "outputs": [
    {
     "name": "stdout",
     "output_type": "stream",
     "text": [
      "digite uma palavra para verificar sua ocorrencia covid\n"
     ]
    },
    {
     "data": {
      "text/plain": [
       "38"
      ]
     },
     "execution_count": 64,
     "metadata": {},
     "output_type": "execute_result"
    }
   ],
   "source": [
    "word = input(\"digite uma palavra para verificar sua ocorrencia \")\n",
    "texto.find(word)"
   ]
  },
  {
   "cell_type": "code",
   "execution_count": null,
   "metadata": {},
   "outputs": [],
   "source": [
    "import random\n",
    "lista = ['ostra', 'ventilador', 'louça', 'brasil']\n",
    "st = []\n",
    "cont = 0\n",
    "c = 0\n",
    "escolha = random.randint(0, 3)\n",
    "p = lista[escolha]\n",
    "n = len(lista[escolha])\n",
    "print(f'{lista[escolha]}')\n",
    "for i in range(0,n):\n",
    "    st.append(' _ ')\n",
    "\n",
    "while True:\n",
    "    print(st)\n",
    "\n",
    "    palavra = input('Digite uma letra:')\n",
    "    c = p.find(palavra)\n",
    "\n",
    "    if(c < 0 ):\n",
    "        cont+=1\n",
    "        print(f'Você errou pela {cont} vez. tente de novo.')\n",
    "    if ( cont == 7):\n",
    "        print('Você foi enfrocado!')\n",
    "        break\n",
    "        \n",
    "    st[c] = palavra\n",
    "    \n",
    "    pp= ', '.join(st)\n",
    "    pp.replace(',','')\n",
    "\n",
    "    if (pp == p):\n",
    "        print('Parabéns! Você acertou!')\n",
    "        break\n",
    "        "
   ]
  },
  {
   "cell_type": "code",
   "execution_count": null,
   "metadata": {},
   "outputs": [],
   "source": []
  }
 ],
 "metadata": {
  "kernelspec": {
   "display_name": "Python 3 (ipykernel)",
   "language": "python",
   "name": "python3"
  },
  "language_info": {
   "codemirror_mode": {
    "name": "ipython",
    "version": 3
   },
   "file_extension": ".py",
   "mimetype": "text/x-python",
   "name": "python",
   "nbconvert_exporter": "python",
   "pygments_lexer": "ipython3",
   "version": "3.9.12"
  }
 },
 "nbformat": 4,
 "nbformat_minor": 1
}

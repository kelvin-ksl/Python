{
 "cells": [
  {
   "cell_type": "markdown",
   "metadata": {},
   "source": [
    "# Curso de Python Básico\n",
    "\n",
    "Este é um curso básico de python que tem o objetivo de apresentar a linguagem python de uma **maneira rápida e objetiva**. Vamos direto ao ponto nos conceitos básicos da programação e python com muita mão na massa! \n",
    "\n",
    "Neste curso, vamos trabalhar no **modo iterativo** do python. Porém, entenda que você pode trabalhar no modo script com várias linhas de código usando um arquivo no formato .py.\n",
    "\n",
    "Ao final desse Curso, espero que você se aprenda python e se motive cada vez mais em utilizar a linguagem para diversas tarefas e problemas do mundo real.\n",
    "\n",
    "Este notebook vai apenas passar pelos tópicos básicos em ordem:\n",
    "\n",
    "* 1. Conceitos Básicos\n",
    "    * 1.1 Variáveis\n",
    "    * 1.2 Comentários\n",
    "    * 1.3 Expressões\n",
    "    * 1.4 Imprimindo Valores"
   ]
  },
  {
   "cell_type": "markdown",
   "metadata": {},
   "source": [
    "##  1. Conceitos Básicos\n",
    "#### 1.1 Variáveis\n",
    "**Conceito**: Uma variável é um nome que se refere a um valor.\n",
    "\n",
    "***Regras básicas***:\n",
    "- Nomes de variáveis sempre devem começar por caractere alfabético\n",
    "- Podem conter letras e números\n",
    "- Não se pode iniciar uma variável com números ou carateres especiais (@, %, &, |, ...), \n",
    "- Não é necessário colocar o tipo da variável (Python é não tipada)\n",
    "- Não utilizar linguagem reservadas da linguagem (class, int, float, False, finally, return, lambda, else, elif, pass, assert, break, with, ...)\n",
    "- A declaração é case sensitive, ou seja, a variável \"Nome\" é diferente de \"nome\""
   ]
  },
  {
   "cell_type": "code",
   "execution_count": 1,
   "metadata": {
    "ExecuteTime": {
     "end_time": "2022-05-14T14:14:01.261000Z",
     "start_time": "2022-05-14T14:14:01.247997Z"
    }
   },
   "outputs": [],
   "source": [
    "nome_da_variave = 2"
   ]
  },
  {
   "cell_type": "code",
   "execution_count": 2,
   "metadata": {
    "ExecuteTime": {
     "end_time": "2022-05-14T14:14:01.618400Z",
     "start_time": "2022-05-14T14:14:01.615399Z"
    }
   },
   "outputs": [],
   "source": [
    "mensagem = \"Esta é mais uma aula do curso de python\""
   ]
  },
  {
   "cell_type": "code",
   "execution_count": 3,
   "metadata": {
    "ExecuteTime": {
     "end_time": "2022-05-14T14:14:01.975436Z",
     "start_time": "2022-05-14T14:14:01.967435Z"
    }
   },
   "outputs": [
    {
     "ename": "SyntaxError",
     "evalue": "unexpected EOF while parsing (<ipython-input-3-cc2a0452e24a>, line 1)",
     "output_type": "error",
     "traceback": [
      "\u001b[1;36m  File \u001b[1;32m\"<ipython-input-3-cc2a0452e24a>\"\u001b[1;36m, line \u001b[1;32m1\u001b[0m\n\u001b[1;33m    @_variavel_1\u001b[0m\n\u001b[1;37m                ^\u001b[0m\n\u001b[1;31mSyntaxError\u001b[0m\u001b[1;31m:\u001b[0m unexpected EOF while parsing\n"
     ]
    }
   ],
   "source": [
    "@_variavel_1"
   ]
  },
  {
   "cell_type": "code",
   "execution_count": 4,
   "metadata": {
    "ExecuteTime": {
     "end_time": "2022-05-14T14:14:06.615335Z",
     "start_time": "2022-05-14T14:14:06.600335Z"
    }
   },
   "outputs": [
    {
     "ename": "SyntaxError",
     "evalue": "invalid syntax (<ipython-input-4-dcfc9c562f91>, line 1)",
     "output_type": "error",
     "traceback": [
      "\u001b[1;36m  File \u001b[1;32m\"<ipython-input-4-dcfc9c562f91>\"\u001b[1;36m, line \u001b[1;32m1\u001b[0m\n\u001b[1;33m    m@is = 2\u001b[0m\n\u001b[1;37m      ^\u001b[0m\n\u001b[1;31mSyntaxError\u001b[0m\u001b[1;31m:\u001b[0m invalid syntax\n"
     ]
    }
   ],
   "source": [
    "m@is = 2"
   ]
  },
  {
   "cell_type": "code",
   "execution_count": 5,
   "metadata": {
    "ExecuteTime": {
     "end_time": "2022-05-14T14:14:06.865469Z",
     "start_time": "2022-05-14T14:14:06.855470Z"
    }
   },
   "outputs": [
    {
     "ename": "SyntaxError",
     "evalue": "invalid syntax (<ipython-input-5-57339dcf3068>, line 1)",
     "output_type": "error",
     "traceback": [
      "\u001b[1;36m  File \u001b[1;32m\"<ipython-input-5-57339dcf3068>\"\u001b[1;36m, line \u001b[1;32m1\u001b[0m\n\u001b[1;33m    class = 55\u001b[0m\n\u001b[1;37m          ^\u001b[0m\n\u001b[1;31mSyntaxError\u001b[0m\u001b[1;31m:\u001b[0m invalid syntax\n"
     ]
    }
   ],
   "source": [
    "class = 55"
   ]
  },
  {
   "cell_type": "markdown",
   "metadata": {},
   "source": [
    "#### 1.2 Expressão\n",
    "**Conceito**: É uma combinação de valores, variáveis e operadores. Um valor por si só já é considerado uma expressão, portanto, nos códigos acimas temos variáveis empressões"
   ]
  },
  {
   "cell_type": "code",
   "execution_count": 4,
   "metadata": {
    "ExecuteTime": {
     "end_time": "2022-05-14T14:14:09.374380Z",
     "start_time": "2022-05-14T14:14:09.360445Z"
    }
   },
   "outputs": [],
   "source": [
    "x = 2\n",
    "y = 3\n",
    "z = x + y"
   ]
  },
  {
   "cell_type": "code",
   "execution_count": 5,
   "metadata": {
    "ExecuteTime": {
     "end_time": "2022-05-14T14:14:09.621084Z",
     "start_time": "2022-05-14T14:14:09.599587Z"
    }
   },
   "outputs": [
    {
     "data": {
      "text/plain": [
       "5"
      ]
     },
     "execution_count": 5,
     "metadata": {},
     "output_type": "execute_result"
    }
   ],
   "source": [
    "z"
   ]
  },
  {
   "cell_type": "markdown",
   "metadata": {},
   "source": [
    "#### 1.3 Comentários\n",
    "\n",
    "Texto que escrevemos junto com código que não é executado. Usamos comentários para indicar a função do código, operação e documentação."
   ]
  },
  {
   "cell_type": "code",
   "execution_count": 6,
   "metadata": {
    "ExecuteTime": {
     "end_time": "2022-05-14T14:14:11.845175Z",
     "start_time": "2022-05-14T14:14:11.832174Z"
    }
   },
   "outputs": [],
   "source": [
    "# Este é um comentários curto"
   ]
  },
  {
   "cell_type": "code",
   "execution_count": 7,
   "metadata": {
    "ExecuteTime": {
     "end_time": "2022-05-14T14:14:14.328146Z",
     "start_time": "2022-05-14T14:14:14.320144Z"
    }
   },
   "outputs": [
    {
     "data": {
      "text/plain": [
       "'\\nEste comentário composto\\npode conter multiplas linhas\\nfdfdf\\n\\n'"
      ]
     },
     "execution_count": 7,
     "metadata": {},
     "output_type": "execute_result"
    }
   ],
   "source": [
    "'''\n",
    "Este comentário composto\n",
    "pode conter multiplas linhas\n",
    "fdfdf\n",
    "\n",
    "'''"
   ]
  },
  {
   "cell_type": "markdown",
   "metadata": {},
   "source": [
    "#### 1.4 Imprimindo valores"
   ]
  },
  {
   "cell_type": "code",
   "execution_count": 8,
   "metadata": {
    "ExecuteTime": {
     "end_time": "2022-05-14T14:14:16.696988Z",
     "start_time": "2022-05-14T14:14:16.687988Z"
    }
   },
   "outputs": [],
   "source": [
    "nome = 'João'\n",
    "idade = 50\n",
    "salario = 50000.00"
   ]
  },
  {
   "cell_type": "code",
   "execution_count": 9,
   "metadata": {
    "ExecuteTime": {
     "end_time": "2022-05-14T14:14:17.174508Z",
     "start_time": "2022-05-14T14:14:17.167508Z"
    }
   },
   "outputs": [],
   "source": [
    "verdade = False"
   ]
  },
  {
   "cell_type": "code",
   "execution_count": 10,
   "metadata": {
    "ExecuteTime": {
     "end_time": "2022-05-14T14:14:17.390519Z",
     "start_time": "2022-05-14T14:14:17.383517Z"
    }
   },
   "outputs": [
    {
     "name": "stdout",
     "output_type": "stream",
     "text": [
      "João\n"
     ]
    }
   ],
   "source": [
    "print(nome)"
   ]
  },
  {
   "cell_type": "code",
   "execution_count": 11,
   "metadata": {
    "ExecuteTime": {
     "end_time": "2022-05-14T14:14:17.579151Z",
     "start_time": "2022-05-14T14:14:17.576149Z"
    }
   },
   "outputs": [
    {
     "name": "stdout",
     "output_type": "stream",
     "text": [
      "50\n"
     ]
    }
   ],
   "source": [
    "print(idade)"
   ]
  },
  {
   "cell_type": "code",
   "execution_count": 12,
   "metadata": {
    "ExecuteTime": {
     "end_time": "2022-05-14T14:14:17.749289Z",
     "start_time": "2022-05-14T14:14:17.736290Z"
    }
   },
   "outputs": [
    {
     "name": "stdout",
     "output_type": "stream",
     "text": [
      "Nicksson_Arrais_Sq3\n"
     ]
    }
   ],
   "source": [
    "# Usando separador\n",
    "print('Nicksson', 'Arrais', \"Sq3\", sep='_')"
   ]
  },
  {
   "cell_type": "code",
   "execution_count": 13,
   "metadata": {
    "ExecuteTime": {
     "end_time": "2022-05-14T14:14:17.904323Z",
     "start_time": "2022-05-14T14:14:17.895323Z"
    }
   },
   "outputs": [
    {
     "name": "stdout",
     "output_type": "stream",
     "text": [
      "Meu nome é: João, e minha idade é: 50\n"
     ]
    }
   ],
   "source": [
    "# Usando format\n",
    "print('Meu nome é: {var1}, e minha idade é: {var2}'.format(var2=idade,var1=nome))"
   ]
  },
  {
   "cell_type": "code",
   "execution_count": 14,
   "metadata": {
    "ExecuteTime": {
     "end_time": "2022-05-14T14:14:18.075300Z",
     "start_time": "2022-05-14T14:14:18.063668Z"
    }
   },
   "outputs": [
    {
     "name": "stdout",
     "output_type": "stream",
     "text": [
      "Meu nome é: 50, e minha idade é: João\n"
     ]
    }
   ],
   "source": [
    "# Usando format\n",
    "print('Meu nome é: {}, e minha idade é: {}'.format(idade, nome))"
   ]
  },
  {
   "cell_type": "code",
   "execution_count": 15,
   "metadata": {
    "ExecuteTime": {
     "end_time": "2022-05-14T14:14:18.556064Z",
     "start_time": "2022-05-14T14:14:18.552064Z"
    }
   },
   "outputs": [
    {
     "name": "stdout",
     "output_type": "stream",
     "text": [
      "Eu sou o João e eu tenho 50 anos\n"
     ]
    }
   ],
   "source": [
    "# Usando format\n",
    "print(f'Eu sou o {nome} e eu tenho {idade} anos')"
   ]
  },
  {
   "cell_type": "code",
   "execution_count": 16,
   "metadata": {
    "ExecuteTime": {
     "end_time": "2022-05-14T14:14:18.770743Z",
     "start_time": "2022-05-14T14:14:18.760742Z"
    },
    "scrolled": true
   },
   "outputs": [
    {
     "name": "stdout",
     "output_type": "stream",
     "text": [
      "Oi João, 50\n"
     ]
    }
   ],
   "source": [
    "print('Oi {}, {}'.format(nome, idade))"
   ]
  },
  {
   "cell_type": "markdown",
   "metadata": {},
   "source": [
    "## Agora é a sua vez!\n",
    "\n",
    "1) Crie um programa que receba seu nome, idade, telefone, salário e endereço e imprima uma saída desejada. \n",
    "\n",
    "Saída: Eu sou {NOME}, eu tenho {IDADE}, você pode me contatar no número {TELEFONE} ou me visitar no endereço {ENDERECO}. Meu salário atual circula em torno de {SALARIO}.\n"
   ]
  },
  {
   "cell_type": "code",
   "execution_count": 21,
   "metadata": {},
   "outputs": [
    {
     "name": "stdout",
     "output_type": "stream",
     "text": [
      "olá, eu sou kelvin, tenho 22, meu número é 15997871423, e meu endereço é palmira marques. Meu salário é 2500\n"
     ]
    }
   ],
   "source": [
    "nome = 'kelvin'\n",
    "idade = 22\n",
    "telefone = 15997871423\n",
    "endereco = 'palmira marques' \n",
    "salario = 2500\n",
    "print('olá, eu sou {}, tenho {}, meu número é {}, e meu endereço é {}. Meu salário é {}'.format(nome, idade, telefone, endereco, salario))"
   ]
  },
  {
   "cell_type": "code",
   "execution_count": null,
   "metadata": {},
   "outputs": [],
   "source": [
    "\n"
   ]
  }
 ],
 "metadata": {
  "kernelspec": {
   "display_name": "Python 3 (ipykernel)",
   "language": "python",
   "name": "python3"
  },
  "language_info": {
   "codemirror_mode": {
    "name": "ipython",
    "version": 3
   },
   "file_extension": ".py",
   "mimetype": "text/x-python",
   "name": "python",
   "nbconvert_exporter": "python",
   "pygments_lexer": "ipython3",
   "version": "3.9.12"
  }
 },
 "nbformat": 4,
 "nbformat_minor": 1
}

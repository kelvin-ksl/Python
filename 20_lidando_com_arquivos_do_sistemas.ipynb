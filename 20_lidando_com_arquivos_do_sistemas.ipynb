{
 "cells": [
  {
   "cell_type": "markdown",
   "metadata": {},
   "source": [
    "# Curso de Python Básico\n",
    "\n",
    "Este é um curso básico de python que tem o objetivo de apresentar a linguagem python de uma **maneira rápida e objetiva**. Vamos direto ao ponto nos conceitos básicos da programação e python com muita mão na massa! \n",
    "\n",
    "Neste curso, vamos trabalhar no **modo iterativo** do python. Porém, entenda que você pode trabalhar no modo script com várias linhas de código usando um arquivo no formato .py.\n",
    "\n",
    "Ao final desse Curso, espero que você se aprenda python e se motive cada vez mais em utilizar a linguagem para diversas tarefas e problemas do mundo real.\n",
    "\n",
    "Este notebook vai apenas passar pelos tópicos básicos em ordem"
   ]
  },
  {
   "cell_type": "markdown",
   "metadata": {},
   "source": [
    "# Arquivos do Sistema Operacional\n",
    "\n",
    "- dataset: https://dados.gov.br/dataset/ensino-pos-graduacao-fcrb"
   ]
  },
  {
   "cell_type": "markdown",
   "metadata": {},
   "source": [
    "### 01. Abrir arquivos no disco"
   ]
  },
  {
   "cell_type": "code",
   "execution_count": 7,
   "metadata": {
    "ExecuteTime": {
     "end_time": "2022-06-20T14:39:18.748100Z",
     "start_time": "2022-06-20T14:39:18.745080Z"
    }
   },
   "outputs": [],
   "source": [
    "file = open('docentes20162021.csv', 'r', encoding='utf-8')"
   ]
  },
  {
   "cell_type": "code",
   "execution_count": 8,
   "metadata": {
    "ExecuteTime": {
     "end_time": "2022-06-20T14:39:19.119182Z",
     "start_time": "2022-06-20T14:39:19.115081Z"
    }
   },
   "outputs": [
    {
     "name": "stdout",
     "output_type": "stream",
     "text": [
      "<_io.TextIOWrapper name='docentes20162021.csv' mode='r' encoding='utf-8'>\n"
     ]
    }
   ],
   "source": [
    "print(file)"
   ]
  },
  {
   "cell_type": "markdown",
   "metadata": {},
   "source": [
    "#### Modo de leitura\n",
    "- r: permissão de leitura (read)\n",
    "- w: permissão de escrita (write)\n",
    "- a: permissão de escrita somente no final do arquivo (append)"
   ]
  },
  {
   "cell_type": "markdown",
   "metadata": {},
   "source": [
    "### 02. Leitura de arquivos no disco"
   ]
  },
  {
   "cell_type": "code",
   "execution_count": 9,
   "metadata": {
    "ExecuteTime": {
     "end_time": "2022-06-20T14:39:19.962085Z",
     "start_time": "2022-06-20T14:39:19.958114Z"
    }
   },
   "outputs": [],
   "source": [
    "dados = file.readlines()"
   ]
  },
  {
   "cell_type": "code",
   "execution_count": 10,
   "metadata": {
    "ExecuteTime": {
     "end_time": "2022-06-20T14:39:20.286087Z",
     "start_time": "2022-06-20T14:39:20.273081Z"
    }
   },
   "outputs": [
    {
     "name": "stdout",
     "output_type": "stream",
     "text": [
      "Docentes,Linha de Pesquisa,Ano\n",
      "\n",
      "Ana Célia Rodrigues,'L1: Patrimônio Documental: Representação, Gerenciamento e Preservação de Espaços de Memória.',2016\n",
      "\n",
      "Ana Lígia Medeiros,'L1: Patrimônio Documental: Representação, Gerenciamento e Preservação de Espaços de Memória.',2016\n",
      "\n",
      "Ana Maria Pessoa dos Santos,'L2: Práticas críticas em acervos: difusão, acesso, uso e apropriação do patrimônio documental material e imaterial.',2016\n",
      "\n",
      "Antonio Herculano Lopes,'L2: Práticas críticas em acervos: difusão, acesso, uso e apropriação do patrimônio documental material e imaterial.',2016\n",
      "\n",
      "Aparecida Marina de Souza Rangel,'L1: Patrimônio Documental: Representação, Gerenciamento e Preservação de Espaços de Memória.',2016\n",
      "\n",
      "Charles Matheus Pontes Gomes,'L2: Práticas críticas em acervos: difusão, acesso, uso e apropriação do patrimônio documental material e imaterial.',2016\n",
      "\n",
      "Christian Edward Cyril Lynch,'L2: Práticas críticas em acervos: difusão, acesso, uso e apropriação do patrimônio documental material e imaterial.',2016\n",
      "\n",
      "Claudia Suely Rodrigues Carvalho,'L1: Patrimônio Documental: Representação, Gerenciamento e Preservação de Espaços de Memória.',2016\n",
      "\n",
      "Edmar Moraes Gonçalves,'L1: Patrimônio Documental: Representação, Gerenciamento e Preservação de Espaços de Memória.',2016\n",
      "\n",
      "Eduardo Silva,'L1: Patrimônio Documental: Representação, Gerenciamento e Preservação de Espaços de Memória.',2016\n",
      "\n",
      "Eliane Vasconcellos,'L1: Patrimônio Documental: Representação, Gerenciamento e Preservação de Espaços de Memória.',2016\n",
      "\n",
      "Isabel Idelzuite Lustosa da Costa,'L2: Práticas críticas em acervos: difusão, acesso, uso e apropriação do patrimônio documental material e imaterial.',2016\n",
      "\n",
      "Maria Flora Sussekind,'L2: Práticas críticas em acervos: difusão, acesso, uso e apropriação do patrimônio documental material e imaterial.',2016\n",
      "\n",
      "Joëlle Rachel Rouchou,'L2: Práticas críticas em acervos: difusão, acesso, uso e apropriação do patrimônio documental material e imaterial.',2016\n",
      "\n",
      "José Almino de Alencar e Silva Neto,'L2: Práticas críticas em acervos: difusão, acesso, uso e apropriação do patrimônio documental material e imaterial.',2016\n",
      "\n",
      "Laura do Carmo,'L2: Práticas críticas em acervos: difusão, acesso, uso e apropriação do patrimônio documental material e imaterial.',2016\n",
      "\n",
      "Lia Calabre de Azevedo,'L2: Práticas críticas em acervos: difusão, acesso, uso e apropriação do patrimônio documental material e imaterial.',2016\n",
      "\n",
      "Lucia Maria Velloso de Oliveira,'L1: Patrimônio Documental: Representação, Gerenciamento e Preservação de Espaços de Memória.',2016\n",
      "\n",
      "Luis Fernando Sayão,'L1: Patrimônio Documental: Representação, Gerenciamento e Preservação de Espaços de Memória.',2016\n",
      "\n",
      "Maria Luisa Ramos de Oliveira Soares,'L1: Patrimônio Documental: Representação, Gerenciamento e Preservação de Espaços de Memória.',2016\n",
      "\n",
      "Marta de Senna,'L2: Práticas críticas em acervos: difusão, acesso, uso e apropriação do patrimônio documental material e imaterial.',2016\n",
      "\n",
      "Mauricio Siqueira,'L2: Práticas críticas em acervos: difusão, acesso, uso e apropriação do patrimônio documental material e imaterial.',2016\n",
      "\n",
      "Mônica Pimenta Velloso ,'L2: Práticas críticas em acervos: difusão, acesso, uso e apropriação do patrimônio documental material e imaterial.',2016\n",
      "\n",
      "Soraia Farias Reolon Pereira,'L2: Práticas críticas em acervos: difusão, acesso, uso e apropriação do patrimônio documental material e imaterial.',2016\n",
      "\n",
      "Ana Célia Rodrigues,'L1: Patrimônio Documental: Representação, Gerenciamento e Preservação de Espaços de Memória.',2017\n",
      "\n",
      "Ana Maria Pessoa dos Santos,'L1: Patrimônio Documental: Representação, Gerenciamento e Preservação de Espaços de Memória.',2017\n",
      "\n",
      "Antonio Herculano Lopes,'L2: Práticas críticas em acervos: difusão, acesso, uso e apropriação do patrimônio documental material e imaterial.',2017\n",
      "\n",
      "Aparecida Marina de Souza Rangel,'L1: Patrimônio Documental: Representação, Gerenciamento e Preservação de Espaços de Memória.',2017\n",
      "\n",
      "Charles Matheus Pontes Gomes,'L2: Práticas críticas em acervos: difusão, acesso, uso e apropriação do patrimônio documental material e imaterial.',2017\n",
      "\n",
      "Claudia Suely Rodrigues Carvalho,'L1: Patrimônio Documental: Representação, Gerenciamento e Preservação de Espaços de Memória.',2017\n",
      "\n",
      "Edmar Moraes Gonçalves,'L1: Patrimônio Documental: Representação, Gerenciamento e Preservação de Espaços de Memória.',2017\n",
      "\n",
      "Eliane Vasconcellos,'L1: Patrimônio Documental: Representação, Gerenciamento e Preservação de Espaços de Memória.',2017\n",
      "\n",
      "Maria Flora Sussekind,'L2: Práticas críticas em acervos: difusão, acesso, uso e apropriação do patrimônio documental material e imaterial.',2017\n",
      "\n",
      "Joëlle Rachel Rouchou,'L2: Práticas críticas em acervos: difusão, acesso, uso e apropriação do patrimônio documental material e imaterial.',2017\n",
      "\n",
      "Laura do Carmo,'L2: Práticas críticas em acervos: difusão, acesso, uso e apropriação do patrimônio documental material e imaterial.',2017\n",
      "\n",
      "Lia Calabre de Azevedo,'L2: Práticas críticas em acervos: difusão, acesso, uso e apropriação do patrimônio documental material e imaterial.',2017\n",
      "\n",
      "Lucia Maria Velloso de Oliveira,'L1: Patrimônio Documental: Representação, Gerenciamento e Preservação de Espaços de Memória.',2017\n",
      "\n",
      "Luis Fernando Sayão,'L1: Patrimônio Documental: Representação, Gerenciamento e Preservação de Espaços de Memória.',2017\n",
      "\n",
      "Margareth da Silva,'L1: Patrimônio Documental: Representação, Gerenciamento e Preservação de Espaços de Memória.',2017\n",
      "\n",
      "Marta de Senna,'L2: Práticas críticas em acervos: difusão, acesso, uso e apropriação do patrimônio documental material e imaterial.',2017\n",
      "\n",
      "Mauricio Siqueira,'L2: Práticas críticas em acervos: difusão, acesso, uso e apropriação do patrimônio documental material e imaterial.',2017\n",
      "\n",
      "Soraia Farias Reolon Pereira,'L2: Práticas críticas em acervos: difusão, acesso, uso e apropriação do patrimônio documental material e imaterial.',2017\n",
      "\n",
      "Ana Célia Rodrigues,'L1: Patrimônio Documental: Representação, Gerenciamento e Preservação de Espaços de Memória.',2018\n",
      "\n",
      "Ana Lígia Medeiros,'L1: Patrimônio Documental: Representação, Gerenciamento e Preservação de Espaços de Memória.',2018\n",
      "\n",
      "Ana Maria Pessoa dos Santos,'L2: Práticas críticas em acervos: difusão, acesso, uso e apropriação do patrimônio documental material e imaterial.',2018\n",
      "\n",
      "Antonio Herculano Lopes,'L2: Práticas críticas em acervos: difusão, acesso, uso e apropriação do patrimônio documental material e imaterial.',2018\n",
      "\n",
      "Aparecida Marina de Souza Rangel,'L1: Patrimônio Documental: Representação, Gerenciamento e Preservação de Espaços de Memória.',2018\n",
      "\n",
      "Charles Matheus Pontes Gomes,'L2: Práticas críticas em acervos: difusão, acesso, uso e apropriação do patrimônio documental material e imaterial.',2018\n",
      "\n",
      "Christian Edward Cyril Lynch,'L2: Práticas críticas em acervos: difusão, acesso, uso e apropriação do patrimônio documental material e imaterial.',2018\n",
      "\n",
      "Claudia Suely Rodrigues Carvalho,'L1: Patrimônio Documental: Representação, Gerenciamento e Preservação de Espaços de Memória.',2018\n",
      "\n",
      "Edmar Moraes Gonçalves,'L1: Patrimônio Documental: Representação, Gerenciamento e Preservação de Espaços de Memória.',2018\n",
      "\n",
      "Eduardo Silva,'L1: Patrimônio Documental: Representação, Gerenciamento e Preservação de Espaços de Memória.',2018\n",
      "\n",
      "Eula Dantas Taveira Cabral,'L2: Práticas críticas em acervos: difusão, acesso, uso e apropriação do patrimônio documental material e imaterial.',2018\n",
      "\n",
      "Maria Flora Sussekind,'L2: Práticas críticas em acervos: difusão, acesso, uso e apropriação do patrimônio documental material e imaterial.',2018\n",
      "\n",
      "Joëlle Rachel Rouchou,'L2: Práticas críticas em acervos: difusão, acesso, uso e apropriação do patrimônio documental material e imaterial.',2018\n",
      "\n",
      "José Almino de Alencar e Silva Neto,'L2: Práticas críticas em acervos: difusão, acesso, uso e apropriação do patrimônio documental material e imaterial.',2018\n",
      "\n",
      "Laura do Carmo,'L2: Práticas críticas em acervos: difusão, acesso, uso e apropriação do patrimônio documental material e imaterial.',2018\n",
      "\n",
      "Lia Calabre de Azevedo,'L2: Práticas críticas em acervos: difusão, acesso, uso e apropriação do patrimônio documental material e imaterial.',2018\n",
      "\n",
      "Lucia Maria Velloso de Oliveira,'L1: Patrimônio Documental: Representação, Gerenciamento e Preservação de Espaços de Memória.',2018\n",
      "\n",
      "Luis Fernando Sayão,'L1: Patrimônio Documental: Representação, Gerenciamento e Preservação de Espaços de Memória.',2018\n",
      "\n",
      "Maria Luisa Ramos de Oliveira Soares,'L1: Patrimônio Documental: Representação, Gerenciamento e Preservação de Espaços de Memória.',2018\n",
      "\n",
      "Margareth da Silva,'L1: Patrimônio Documental: Representação, Gerenciamento e Preservação de Espaços de Memória.',2018\n",
      "\n",
      "Soraia Farias Reolon Pereira,'L2: Práticas críticas em acervos: difusão, acesso, uso e apropriação do patrimônio documental material e imaterial.',2018\n",
      "\n",
      "Ana Maria Pessoa dos Santos,'L2: Práticas críticas em acervos: difusão, acesso, uso e apropriação do patrimônio documental material e imaterial.',2019\n",
      "\n",
      "Antonio Herculano Lopes,'L2: Práticas críticas em acervos: difusão, acesso, uso e apropriação do patrimônio documental material e imaterial.',2019\n",
      "\n",
      "Aparecida Marina de Souza Rangel,'L1: Patrimônio Documental: Representação, Gerenciamento e Preservação de Espaços de Memória.',2019\n",
      "\n",
      "Charles Matheus Pontes Gomes,'L2: Práticas críticas em acervos: difusão, acesso, uso e apropriação do patrimônio documental material e imaterial.',2019\n",
      "\n",
      "Christian Edward Cyril Lynch,'L2: Práticas críticas em acervos: difusão, acesso, uso e apropriação do patrimônio documental material e imaterial.',2019\n",
      "\n",
      "Claudia Suely Rodrigues Carvalho,'L1: Patrimônio Documental: Representação, Gerenciamento e Preservação de Espaços de Memória.',2019\n",
      "\n",
      "Edmar Moraes Gonçalves,'L1: Patrimônio Documental: Representação, Gerenciamento e Preservação de Espaços de Memória.',2019\n",
      "\n",
      "Eliane Vasconcellos,'L1: Patrimônio Documental: Representação, Gerenciamento e Preservação de Espaços de Memória.',2019\n",
      "\n",
      "Eula Dantas Taveira Cabral,'L2: Práticas críticas em acervos: difusão, acesso, uso e apropriação do patrimônio documental material e imaterial.',2019\n",
      "\n",
      "Fábio José Kerche Nunes,'L2: Práticas críticas em acervos: difusão, acesso, uso e apropriação do patrimônio documental material e imaterial.',2019\n",
      "\n",
      "Maria Flora Sussekind,'L2: Práticas críticas em acervos: difusão, acesso, uso e apropriação do patrimônio documental material e imaterial.',2019\n",
      "\n",
      "Joëlle Rachel Rouchou,'L2: Práticas críticas em acervos: difusão, acesso, uso e apropriação do patrimônio documental material e imaterial.',2019\n",
      "\n",
      "José Almino de Alencar e Silva Neto,'L2: Práticas críticas em acervos: difusão, acesso, uso e apropriação do patrimônio documental material e imaterial.',2019\n",
      "\n",
      "José Maria Jardim,'L1: Patrimônio Documental: Representação, Gerenciamento e Preservação de Espaços de Memória.',2019\n",
      "\n",
      "Laura do Carmo,'L2: Práticas críticas em acervos: difusão, acesso, uso e apropriação do patrimônio documental material e imaterial.',2019\n",
      "\n",
      "Lia Calabre de Azevedo,'L2: Práticas críticas em acervos: difusão, acesso, uso e apropriação do patrimônio documental material e imaterial.',2019\n",
      "\n",
      "Luis Fernando Sayão,'L1: Patrimônio Documental: Representação, Gerenciamento e Preservação de Espaços de Memória.',2019\n",
      "\n",
      "Maria Luisa Ramos de Oliveira Soares,'L1: Patrimônio Documental: Representação, Gerenciamento e Preservação de Espaços de Memória.',2019\n",
      "\n",
      "Margareth da Silva,'L1: Patrimônio Documental: Representação, Gerenciamento e Preservação de Espaços de Memória.',2019\n",
      "\n",
      "Soraia Farias Reolon Pereira,'L2: Práticas críticas em acervos: difusão, acesso, uso e apropriação do patrimônio documental material e imaterial.',2019\n",
      "\n",
      "Ana Lígia Medeiros,'L1: Patrimônio Documental: Representação, Gerenciamento e Preservação de Espaços de Memória.',2020\n",
      "\n",
      "Ana Maria Pessoa dos Santos,'L2: Práticas críticas em acervos: difusão, acesso, uso e apropriação do patrimônio documental material e imaterial.',2020\n",
      "\n",
      "Antonio Herculano Lopes,'L2: Práticas críticas em acervos: difusão, acesso, uso e apropriação do patrimônio documental material e imaterial.',2020\n",
      "\n",
      "Aparecida Marina de Souza Rangel,'L1: Patrimônio Documental: Representação, Gerenciamento e Preservação de Espaços de Memória.',2020\n",
      "\n",
      "Christian Edward Cyril Lynch,'L2: Práticas críticas em acervos: difusão, acesso, uso e apropriação do patrimônio documental material e imaterial.',2020\n",
      "\n",
      "Claudia Suely Rodrigues Carvalho,'L1: Patrimônio Documental: Representação, Gerenciamento e Preservação de Espaços de Memória.',2020\n",
      "\n",
      "Edmar Moraes Gonçalves,'L1: Patrimônio Documental: Representação, Gerenciamento e Preservação de Espaços de Memória.',2020\n",
      "\n",
      "Eula Dantas Taveira Cabral,'L2: Práticas críticas em acervos: difusão, acesso, uso e apropriação do patrimônio documental material e imaterial.',2020\n",
      "\n",
      "Isabel Idelzuite Lustosa da Costa,'L2: Práticas críticas em acervos: difusão, acesso, uso e apropriação do patrimônio documental material e imaterial.',2020\n",
      "\n",
      "Maria Flora Sussekind,'L2: Práticas críticas em acervos: difusão, acesso, uso e apropriação do patrimônio documental material e imaterial.',2020\n",
      "\n",
      "Joëlle Rachel Rouchou,'L2: Práticas críticas em acervos: difusão, acesso, uso e apropriação do patrimônio documental material e imaterial.',2020\n",
      "\n",
      "José Almino de Alencar e Silva Neto,'L2: Práticas críticas em acervos: difusão, acesso, uso e apropriação do patrimônio documental material e imaterial.',2020\n",
      "\n",
      "Lia Calabre de Azevedo,'L2: Práticas críticas em acervos: difusão, acesso, uso e apropriação do patrimônio documental material e imaterial.',2020\n",
      "\n",
      "Lucia Maria Velloso de Oliveira,'L1: Patrimônio Documental: Representação, Gerenciamento e Preservação de Espaços de Memória.',2020\n",
      "\n",
      "Maria Luisa Ramos de Oliveira Soares,'L1: Patrimônio Documental: Representação, Gerenciamento e Preservação de Espaços de Memória.',2020\n",
      "\n",
      "Soraia Farias Reolon Pereira,'L2: Práticas críticas em acervos: difusão, acesso, uso e apropriação do patrimônio documental material e imaterial.',2020\n",
      "\n",
      "Ana Lígia Medeiros,'L1: Patrimônio Documental: Representação, Gerenciamento e Preservação de Espaços de Memória.',2021\n",
      "\n",
      "Ana Maria Pessoa dos Santos,'L2: Práticas críticas em acervos: difusão, acesso, uso e apropriação do patrimônio documental material e imaterial.',2021\n",
      "\n",
      "Antonio Herculano Lopes,'L2: Práticas críticas em acervos: difusão, acesso, uso e apropriação do patrimônio documental material e imaterial.',2021\n",
      "\n",
      "Aparecida Marina de Souza Rangel,'L1: Patrimônio Documental: Representação, Gerenciamento e Preservação de Espaços de Memória.',2021\n",
      "\n",
      "Claudia Suely Rodrigues Carvalho,'L1: Patrimônio Documental: Representação, Gerenciamento e Preservação de Espaços de Memória.',2021\n",
      "\n",
      "Edmar Moraes Gonçalves,'L1: Patrimônio Documental: Representação, Gerenciamento e Preservação de Espaços de Memória.',2021\n",
      "\n",
      "Eula Dantas Taveira Cabral,'L2: Práticas críticas em acervos: difusão, acesso, uso e apropriação do patrimônio documental material e imaterial.',2021\n",
      "\n",
      "Joëlle Rachel Rouchou,'L2: Práticas críticas em acervos: difusão, acesso, uso e apropriação do patrimônio documental material e imaterial.',2021\n",
      "\n",
      "José Almino de Alencar e Silva Neto,'L2: Práticas críticas em acervos: difusão, acesso, uso e apropriação do patrimônio documental material e imaterial.',2021\n",
      "\n",
      "Lia Calabre de Azevedo,'L2: Práticas críticas em acervos: difusão, acesso, uso e apropriação do patrimônio documental material e imaterial.',2021\n",
      "\n",
      "Lucia Maria Velloso de Oliveira,'L1: Patrimônio Documental: Representação, Gerenciamento e Preservação de Espaços de Memória.',2021\n",
      "\n",
      "Luis Fernando Sayão,'L1: Patrimônio Documental: Representação, Gerenciamento e Preservação de Espaços de Memória.',2021\n",
      "\n",
      "Margareth da Silva,'L1: Patrimônio Documental: Representação, Gerenciamento e Preservação de Espaços de Memória.',2021\n",
      "\n",
      "Maria Luisa Ramos de Oliveira Soares,'L1: Patrimônio Documental: Representação, Gerenciamento e Preservação de Espaços de Memória.',2021\n",
      "\n",
      "Soraia Farias Reolon Pereira,'L2: Práticas críticas em acervos: difusão, acesso, uso e apropriação do patrimônio documental material e imaterial.',2021\n",
      "\n"
     ]
    }
   ],
   "source": [
    "for word in dados:\n",
    "    print(word)"
   ]
  },
  {
   "cell_type": "code",
   "execution_count": 13,
   "metadata": {
    "ExecuteTime": {
     "end_time": "2022-06-20T14:40:10.856601Z",
     "start_time": "2022-06-20T14:40:10.850592Z"
    }
   },
   "outputs": [
    {
     "name": "stdout",
     "output_type": "stream",
     "text": [
      "Docentes,Linha de Pesquisa,Ano\n",
      "Ana CÃ©lia Rodrigues,'L1: PatrimÃ´nio Documental: RepresentaÃ§Ã£o, Gerenciamento e PreservaÃ§Ã£o de EspaÃ§os de MemÃ³ria.',2016\n",
      "Ana LÃ­gia Medeiros,'L1: PatrimÃ´nio Documental: RepresentaÃ§Ã£o, Gerenciamento e PreservaÃ§Ã£o de EspaÃ§os de MemÃ³ria.',2016\n",
      "Ana Maria Pessoa dos Santos,'L2: PrÃ¡ticas crÃ­ticas em acervos: difusÃ£o, acesso, uso e apropriaÃ§Ã£o do patrimÃ´nio documental material e imaterial.',2016\n",
      "Antonio Herculano Lopes,'L2: PrÃ¡ticas crÃ­ticas em acervos: difusÃ£o, acesso, uso e apropriaÃ§Ã£o do patrimÃ´nio documental material e imaterial.',2016\n",
      "Aparecida Marina de Souza Rangel,'L1: PatrimÃ´nio Documental: RepresentaÃ§Ã£o, Gerenciamento e PreservaÃ§Ã£o de EspaÃ§os de MemÃ³ria.',2016\n",
      "Charles Matheus Pontes Gomes,'L2: PrÃ¡ticas crÃ­ticas em acervos: difusÃ£o, acesso, uso e apropriaÃ§Ã£o do patrimÃ´nio documental material e imaterial.',2016\n",
      "Christian Edward Cyril Lynch,'L2: PrÃ¡ticas crÃ­ticas em acervos: difusÃ£o, acesso, uso e apropriaÃ§Ã£o do patrimÃ´nio documental material e imaterial.',2016\n",
      "Claudia Suely Rodrigues Carvalho,'L1: PatrimÃ´nio Documental: RepresentaÃ§Ã£o, Gerenciamento e PreservaÃ§Ã£o de EspaÃ§os de MemÃ³ria.',2016\n",
      "Edmar Moraes GonÃ§alves,'L1: PatrimÃ´nio Documental: RepresentaÃ§Ã£o, Gerenciamento e PreservaÃ§Ã£o de EspaÃ§os de MemÃ³ria.',2016\n",
      "Eduardo Silva,'L1: PatrimÃ´nio Documental: RepresentaÃ§Ã£o, Gerenciamento e PreservaÃ§Ã£o de EspaÃ§os de MemÃ³ria.',2016\n",
      "Eliane Vasconcellos,'L1: PatrimÃ´nio Documental: RepresentaÃ§Ã£o, Gerenciamento e PreservaÃ§Ã£o de EspaÃ§os de MemÃ³ria.',2016\n",
      "Isabel Idelzuite Lustosa da Costa,'L2: PrÃ¡ticas crÃ­ticas em acervos: difusÃ£o, acesso, uso e apropriaÃ§Ã£o do patrimÃ´nio documental material e imaterial.',2016\n",
      "Maria Flora Sussekind,'L2: PrÃ¡ticas crÃ­ticas em acervos: difusÃ£o, acesso, uso e apropriaÃ§Ã£o do patrimÃ´nio documental material e imaterial.',2016\n",
      "JoÃ«lle Rachel Rouchou,'L2: PrÃ¡ticas crÃ­ticas em acervos: difusÃ£o, acesso, uso e apropriaÃ§Ã£o do patrimÃ´nio documental material e imaterial.',2016\n",
      "JosÃ© Almino de Alencar e Silva Neto,'L2: PrÃ¡ticas crÃ­ticas em acervos: difusÃ£o, acesso, uso e apropriaÃ§Ã£o do patrimÃ´nio documental material e imaterial.',2016\n",
      "Laura do Carmo,'L2: PrÃ¡ticas crÃ­ticas em acervos: difusÃ£o, acesso, uso e apropriaÃ§Ã£o do patrimÃ´nio documental material e imaterial.',2016\n",
      "Lia Calabre de Azevedo,'L2: PrÃ¡ticas crÃ­ticas em acervos: difusÃ£o, acesso, uso e apropriaÃ§Ã£o do patrimÃ´nio documental material e imaterial.',2016\n",
      "Lucia Maria Velloso de Oliveira,'L1: PatrimÃ´nio Documental: RepresentaÃ§Ã£o, Gerenciamento e PreservaÃ§Ã£o de EspaÃ§os de MemÃ³ria.',2016\n",
      "Luis Fernando SayÃ£o,'L1: PatrimÃ´nio Documental: RepresentaÃ§Ã£o, Gerenciamento e PreservaÃ§Ã£o de EspaÃ§os de MemÃ³ria.',2016\n",
      "Maria Luisa Ramos de Oliveira Soares,'L1: PatrimÃ´nio Documental: RepresentaÃ§Ã£o, Gerenciamento e PreservaÃ§Ã£o de EspaÃ§os de MemÃ³ria.',2016\n",
      "Marta de Senna,'L2: PrÃ¡ticas crÃ­ticas em acervos: difusÃ£o, acesso, uso e apropriaÃ§Ã£o do patrimÃ´nio documental material e imaterial.',2016\n",
      "Mauricio Siqueira,'L2: PrÃ¡ticas crÃ­ticas em acervos: difusÃ£o, acesso, uso e apropriaÃ§Ã£o do patrimÃ´nio documental material e imaterial.',2016\n",
      "MÃ´nica Pimenta Velloso ,'L2: PrÃ¡ticas crÃ­ticas em acervos: difusÃ£o, acesso, uso e apropriaÃ§Ã£o do patrimÃ´nio documental material e imaterial.',2016\n",
      "Soraia Farias Reolon Pereira,'L2: PrÃ¡ticas crÃ­ticas em acervos: difusÃ£o, acesso, uso e apropriaÃ§Ã£o do patrimÃ´nio documental material e imaterial.',2016\n",
      "Ana CÃ©lia Rodrigues,'L1: PatrimÃ´nio Documental: RepresentaÃ§Ã£o, Gerenciamento e PreservaÃ§Ã£o de EspaÃ§os de MemÃ³ria.',2017\n",
      "Ana Maria Pessoa dos Santos,'L1: PatrimÃ´nio Documental: RepresentaÃ§Ã£o, Gerenciamento e PreservaÃ§Ã£o de EspaÃ§os de MemÃ³ria.',2017\n",
      "Antonio Herculano Lopes,'L2: PrÃ¡ticas crÃ­ticas em acervos: difusÃ£o, acesso, uso e apropriaÃ§Ã£o do patrimÃ´nio documental material e imaterial.',2017\n",
      "Aparecida Marina de Souza Rangel,'L1: PatrimÃ´nio Documental: RepresentaÃ§Ã£o, Gerenciamento e PreservaÃ§Ã£o de EspaÃ§os de MemÃ³ria.',2017\n",
      "Charles Matheus Pontes Gomes,'L2: PrÃ¡ticas crÃ­ticas em acervos: difusÃ£o, acesso, uso e apropriaÃ§Ã£o do patrimÃ´nio documental material e imaterial.',2017\n",
      "Claudia Suely Rodrigues Carvalho,'L1: PatrimÃ´nio Documental: RepresentaÃ§Ã£o, Gerenciamento e PreservaÃ§Ã£o de EspaÃ§os de MemÃ³ria.',2017\n",
      "Edmar Moraes GonÃ§alves,'L1: PatrimÃ´nio Documental: RepresentaÃ§Ã£o, Gerenciamento e PreservaÃ§Ã£o de EspaÃ§os de MemÃ³ria.',2017\n",
      "Eliane Vasconcellos,'L1: PatrimÃ´nio Documental: RepresentaÃ§Ã£o, Gerenciamento e PreservaÃ§Ã£o de EspaÃ§os de MemÃ³ria.',2017\n",
      "Maria Flora Sussekind,'L2: PrÃ¡ticas crÃ­ticas em acervos: difusÃ£o, acesso, uso e apropriaÃ§Ã£o do patrimÃ´nio documental material e imaterial.',2017\n",
      "JoÃ«lle Rachel Rouchou,'L2: PrÃ¡ticas crÃ­ticas em acervos: difusÃ£o, acesso, uso e apropriaÃ§Ã£o do patrimÃ´nio documental material e imaterial.',2017\n",
      "Laura do Carmo,'L2: PrÃ¡ticas crÃ­ticas em acervos: difusÃ£o, acesso, uso e apropriaÃ§Ã£o do patrimÃ´nio documental material e imaterial.',2017\n",
      "Lia Calabre de Azevedo,'L2: PrÃ¡ticas crÃ­ticas em acervos: difusÃ£o, acesso, uso e apropriaÃ§Ã£o do patrimÃ´nio documental material e imaterial.',2017\n",
      "Lucia Maria Velloso de Oliveira,'L1: PatrimÃ´nio Documental: RepresentaÃ§Ã£o, Gerenciamento e PreservaÃ§Ã£o de EspaÃ§os de MemÃ³ria.',2017\n",
      "Luis Fernando SayÃ£o,'L1: PatrimÃ´nio Documental: RepresentaÃ§Ã£o, Gerenciamento e PreservaÃ§Ã£o de EspaÃ§os de MemÃ³ria.',2017\n",
      "Margareth da Silva,'L1: PatrimÃ´nio Documental: RepresentaÃ§Ã£o, Gerenciamento e PreservaÃ§Ã£o de EspaÃ§os de MemÃ³ria.',2017\n",
      "Marta de Senna,'L2: PrÃ¡ticas crÃ­ticas em acervos: difusÃ£o, acesso, uso e apropriaÃ§Ã£o do patrimÃ´nio documental material e imaterial.',2017\n",
      "Mauricio Siqueira,'L2: PrÃ¡ticas crÃ­ticas em acervos: difusÃ£o, acesso, uso e apropriaÃ§Ã£o do patrimÃ´nio documental material e imaterial.',2017\n",
      "Soraia Farias Reolon Pereira,'L2: PrÃ¡ticas crÃ­ticas em acervos: difusÃ£o, acesso, uso e apropriaÃ§Ã£o do patrimÃ´nio documental material e imaterial.',2017\n",
      "Ana CÃ©lia Rodrigues,'L1: PatrimÃ´nio Documental: RepresentaÃ§Ã£o, Gerenciamento e PreservaÃ§Ã£o de EspaÃ§os de MemÃ³ria.',2018\n",
      "Ana LÃ­gia Medeiros,'L1: PatrimÃ´nio Documental: RepresentaÃ§Ã£o, Gerenciamento e PreservaÃ§Ã£o de EspaÃ§os de MemÃ³ria.',2018\n",
      "Ana Maria Pessoa dos Santos,'L2: PrÃ¡ticas crÃ­ticas em acervos: difusÃ£o, acesso, uso e apropriaÃ§Ã£o do patrimÃ´nio documental material e imaterial.',2018\n",
      "Antonio Herculano Lopes,'L2: PrÃ¡ticas crÃ­ticas em acervos: difusÃ£o, acesso, uso e apropriaÃ§Ã£o do patrimÃ´nio documental material e imaterial.',2018\n",
      "Aparecida Marina de Souza Rangel,'L1: PatrimÃ´nio Documental: RepresentaÃ§Ã£o, Gerenciamento e PreservaÃ§Ã£o de EspaÃ§os de MemÃ³ria.',2018\n",
      "Charles Matheus Pontes Gomes,'L2: PrÃ¡ticas crÃ­ticas em acervos: difusÃ£o, acesso, uso e apropriaÃ§Ã£o do patrimÃ´nio documental material e imaterial.',2018\n",
      "Christian Edward Cyril Lynch,'L2: PrÃ¡ticas crÃ­ticas em acervos: difusÃ£o, acesso, uso e apropriaÃ§Ã£o do patrimÃ´nio documental material e imaterial.',2018\n",
      "Claudia Suely Rodrigues Carvalho,'L1: PatrimÃ´nio Documental: RepresentaÃ§Ã£o, Gerenciamento e PreservaÃ§Ã£o de EspaÃ§os de MemÃ³ria.',2018\n",
      "Edmar Moraes GonÃ§alves,'L1: PatrimÃ´nio Documental: RepresentaÃ§Ã£o, Gerenciamento e PreservaÃ§Ã£o de EspaÃ§os de MemÃ³ria.',2018\n",
      "Eduardo Silva,'L1: PatrimÃ´nio Documental: RepresentaÃ§Ã£o, Gerenciamento e PreservaÃ§Ã£o de EspaÃ§os de MemÃ³ria.',2018\n",
      "Eula Dantas Taveira Cabral,'L2: PrÃ¡ticas crÃ­ticas em acervos: difusÃ£o, acesso, uso e apropriaÃ§Ã£o do patrimÃ´nio documental material e imaterial.',2018\n",
      "Maria Flora Sussekind,'L2: PrÃ¡ticas crÃ­ticas em acervos: difusÃ£o, acesso, uso e apropriaÃ§Ã£o do patrimÃ´nio documental material e imaterial.',2018\n",
      "JoÃ«lle Rachel Rouchou,'L2: PrÃ¡ticas crÃ­ticas em acervos: difusÃ£o, acesso, uso e apropriaÃ§Ã£o do patrimÃ´nio documental material e imaterial.',2018\n",
      "JosÃ© Almino de Alencar e Silva Neto,'L2: PrÃ¡ticas crÃ­ticas em acervos: difusÃ£o, acesso, uso e apropriaÃ§Ã£o do patrimÃ´nio documental material e imaterial.',2018\n",
      "Laura do Carmo,'L2: PrÃ¡ticas crÃ­ticas em acervos: difusÃ£o, acesso, uso e apropriaÃ§Ã£o do patrimÃ´nio documental material e imaterial.',2018\n",
      "Lia Calabre de Azevedo,'L2: PrÃ¡ticas crÃ­ticas em acervos: difusÃ£o, acesso, uso e apropriaÃ§Ã£o do patrimÃ´nio documental material e imaterial.',2018\n",
      "Lucia Maria Velloso de Oliveira,'L1: PatrimÃ´nio Documental: RepresentaÃ§Ã£o, Gerenciamento e PreservaÃ§Ã£o de EspaÃ§os de MemÃ³ria.',2018\n",
      "Luis Fernando SayÃ£o,'L1: PatrimÃ´nio Documental: RepresentaÃ§Ã£o, Gerenciamento e PreservaÃ§Ã£o de EspaÃ§os de MemÃ³ria.',2018\n",
      "Maria Luisa Ramos de Oliveira Soares,'L1: PatrimÃ´nio Documental: RepresentaÃ§Ã£o, Gerenciamento e PreservaÃ§Ã£o de EspaÃ§os de MemÃ³ria.',2018\n",
      "Margareth da Silva,'L1: PatrimÃ´nio Documental: RepresentaÃ§Ã£o, Gerenciamento e PreservaÃ§Ã£o de EspaÃ§os de MemÃ³ria.',2018\n",
      "Soraia Farias Reolon Pereira,'L2: PrÃ¡ticas crÃ­ticas em acervos: difusÃ£o, acesso, uso e apropriaÃ§Ã£o do patrimÃ´nio documental material e imaterial.',2018\n",
      "Ana Maria Pessoa dos Santos,'L2: PrÃ¡ticas crÃ­ticas em acervos: difusÃ£o, acesso, uso e apropriaÃ§Ã£o do patrimÃ´nio documental material e imaterial.',2019\n",
      "Antonio Herculano Lopes,'L2: PrÃ¡ticas crÃ­ticas em acervos: difusÃ£o, acesso, uso e apropriaÃ§Ã£o do patrimÃ´nio documental material e imaterial.',2019\n",
      "Aparecida Marina de Souza Rangel,'L1: PatrimÃ´nio Documental: RepresentaÃ§Ã£o, Gerenciamento e PreservaÃ§Ã£o de EspaÃ§os de MemÃ³ria.',2019\n",
      "Charles Matheus Pontes Gomes,'L2: PrÃ¡ticas crÃ­ticas em acervos: difusÃ£o, acesso, uso e apropriaÃ§Ã£o do patrimÃ´nio documental material e imaterial.',2019\n",
      "Christian Edward Cyril Lynch,'L2: PrÃ¡ticas crÃ­ticas em acervos: difusÃ£o, acesso, uso e apropriaÃ§Ã£o do patrimÃ´nio documental material e imaterial.',2019\n",
      "Claudia Suely Rodrigues Carvalho,'L1: PatrimÃ´nio Documental: RepresentaÃ§Ã£o, Gerenciamento e PreservaÃ§Ã£o de EspaÃ§os de MemÃ³ria.',2019\n",
      "Edmar Moraes GonÃ§alves,'L1: PatrimÃ´nio Documental: RepresentaÃ§Ã£o, Gerenciamento e PreservaÃ§Ã£o de EspaÃ§os de MemÃ³ria.',2019\n",
      "Eliane Vasconcellos,'L1: PatrimÃ´nio Documental: RepresentaÃ§Ã£o, Gerenciamento e PreservaÃ§Ã£o de EspaÃ§os de MemÃ³ria.',2019\n",
      "Eula Dantas Taveira Cabral,'L2: PrÃ¡ticas crÃ­ticas em acervos: difusÃ£o, acesso, uso e apropriaÃ§Ã£o do patrimÃ´nio documental material e imaterial.',2019\n",
      "FÃ¡bio JosÃ© Kerche Nunes,'L2: PrÃ¡ticas crÃ­ticas em acervos: difusÃ£o, acesso, uso e apropriaÃ§Ã£o do patrimÃ´nio documental material e imaterial.',2019\n",
      "Maria Flora Sussekind,'L2: PrÃ¡ticas crÃ­ticas em acervos: difusÃ£o, acesso, uso e apropriaÃ§Ã£o do patrimÃ´nio documental material e imaterial.',2019\n",
      "JoÃ«lle Rachel Rouchou,'L2: PrÃ¡ticas crÃ­ticas em acervos: difusÃ£o, acesso, uso e apropriaÃ§Ã£o do patrimÃ´nio documental material e imaterial.',2019\n",
      "JosÃ© Almino de Alencar e Silva Neto,'L2: PrÃ¡ticas crÃ­ticas em acervos: difusÃ£o, acesso, uso e apropriaÃ§Ã£o do patrimÃ´nio documental material e imaterial.',2019\n",
      "JosÃ© Maria Jardim,'L1: PatrimÃ´nio Documental: RepresentaÃ§Ã£o, Gerenciamento e PreservaÃ§Ã£o de EspaÃ§os de MemÃ³ria.',2019\n",
      "Laura do Carmo,'L2: PrÃ¡ticas crÃ­ticas em acervos: difusÃ£o, acesso, uso e apropriaÃ§Ã£o do patrimÃ´nio documental material e imaterial.',2019\n",
      "Lia Calabre de Azevedo,'L2: PrÃ¡ticas crÃ­ticas em acervos: difusÃ£o, acesso, uso e apropriaÃ§Ã£o do patrimÃ´nio documental material e imaterial.',2019\n",
      "Luis Fernando SayÃ£o,'L1: PatrimÃ´nio Documental: RepresentaÃ§Ã£o, Gerenciamento e PreservaÃ§Ã£o de EspaÃ§os de MemÃ³ria.',2019\n",
      "Maria Luisa Ramos de Oliveira Soares,'L1: PatrimÃ´nio Documental: RepresentaÃ§Ã£o, Gerenciamento e PreservaÃ§Ã£o de EspaÃ§os de MemÃ³ria.',2019\n",
      "Margareth da Silva,'L1: PatrimÃ´nio Documental: RepresentaÃ§Ã£o, Gerenciamento e PreservaÃ§Ã£o de EspaÃ§os de MemÃ³ria.',2019\n",
      "Soraia Farias Reolon Pereira,'L2: PrÃ¡ticas crÃ­ticas em acervos: difusÃ£o, acesso, uso e apropriaÃ§Ã£o do patrimÃ´nio documental material e imaterial.',2019\n",
      "Ana LÃ­gia Medeiros,'L1: PatrimÃ´nio Documental: RepresentaÃ§Ã£o, Gerenciamento e PreservaÃ§Ã£o de EspaÃ§os de MemÃ³ria.',2020\n",
      "Ana Maria Pessoa dos Santos,'L2: PrÃ¡ticas crÃ­ticas em acervos: difusÃ£o, acesso, uso e apropriaÃ§Ã£o do patrimÃ´nio documental material e imaterial.',2020\n",
      "Antonio Herculano Lopes,'L2: PrÃ¡ticas crÃ­ticas em acervos: difusÃ£o, acesso, uso e apropriaÃ§Ã£o do patrimÃ´nio documental material e imaterial.',2020\n",
      "Aparecida Marina de Souza Rangel,'L1: PatrimÃ´nio Documental: RepresentaÃ§Ã£o, Gerenciamento e PreservaÃ§Ã£o de EspaÃ§os de MemÃ³ria.',2020\n",
      "Christian Edward Cyril Lynch,'L2: PrÃ¡ticas crÃ­ticas em acervos: difusÃ£o, acesso, uso e apropriaÃ§Ã£o do patrimÃ´nio documental material e imaterial.',2020\n",
      "Claudia Suely Rodrigues Carvalho,'L1: PatrimÃ´nio Documental: RepresentaÃ§Ã£o, Gerenciamento e PreservaÃ§Ã£o de EspaÃ§os de MemÃ³ria.',2020\n",
      "Edmar Moraes GonÃ§alves,'L1: PatrimÃ´nio Documental: RepresentaÃ§Ã£o, Gerenciamento e PreservaÃ§Ã£o de EspaÃ§os de MemÃ³ria.',2020\n",
      "Eula Dantas Taveira Cabral,'L2: PrÃ¡ticas crÃ­ticas em acervos: difusÃ£o, acesso, uso e apropriaÃ§Ã£o do patrimÃ´nio documental material e imaterial.',2020\n",
      "Isabel Idelzuite Lustosa da Costa,'L2: PrÃ¡ticas crÃ­ticas em acervos: difusÃ£o, acesso, uso e apropriaÃ§Ã£o do patrimÃ´nio documental material e imaterial.',2020\n",
      "Maria Flora Sussekind,'L2: PrÃ¡ticas crÃ­ticas em acervos: difusÃ£o, acesso, uso e apropriaÃ§Ã£o do patrimÃ´nio documental material e imaterial.',2020\n",
      "JoÃ«lle Rachel Rouchou,'L2: PrÃ¡ticas crÃ­ticas em acervos: difusÃ£o, acesso, uso e apropriaÃ§Ã£o do patrimÃ´nio documental material e imaterial.',2020\n",
      "JosÃ© Almino de Alencar e Silva Neto,'L2: PrÃ¡ticas crÃ­ticas em acervos: difusÃ£o, acesso, uso e apropriaÃ§Ã£o do patrimÃ´nio documental material e imaterial.',2020\n",
      "Lia Calabre de Azevedo,'L2: PrÃ¡ticas crÃ­ticas em acervos: difusÃ£o, acesso, uso e apropriaÃ§Ã£o do patrimÃ´nio documental material e imaterial.',2020\n",
      "Lucia Maria Velloso de Oliveira,'L1: PatrimÃ´nio Documental: RepresentaÃ§Ã£o, Gerenciamento e PreservaÃ§Ã£o de EspaÃ§os de MemÃ³ria.',2020\n",
      "Maria Luisa Ramos de Oliveira Soares,'L1: PatrimÃ´nio Documental: RepresentaÃ§Ã£o, Gerenciamento e PreservaÃ§Ã£o de EspaÃ§os de MemÃ³ria.',2020\n",
      "Soraia Farias Reolon Pereira,'L2: PrÃ¡ticas crÃ­ticas em acervos: difusÃ£o, acesso, uso e apropriaÃ§Ã£o do patrimÃ´nio documental material e imaterial.',2020\n",
      "Ana LÃ­gia Medeiros,'L1: PatrimÃ´nio Documental: RepresentaÃ§Ã£o, Gerenciamento e PreservaÃ§Ã£o de EspaÃ§os de MemÃ³ria.',2021\n",
      "Ana Maria Pessoa dos Santos,'L2: PrÃ¡ticas crÃ­ticas em acervos: difusÃ£o, acesso, uso e apropriaÃ§Ã£o do patrimÃ´nio documental material e imaterial.',2021\n",
      "Antonio Herculano Lopes,'L2: PrÃ¡ticas crÃ­ticas em acervos: difusÃ£o, acesso, uso e apropriaÃ§Ã£o do patrimÃ´nio documental material e imaterial.',2021\n",
      "Aparecida Marina de Souza Rangel,'L1: PatrimÃ´nio Documental: RepresentaÃ§Ã£o, Gerenciamento e PreservaÃ§Ã£o de EspaÃ§os de MemÃ³ria.',2021\n",
      "Claudia Suely Rodrigues Carvalho,'L1: PatrimÃ´nio Documental: RepresentaÃ§Ã£o, Gerenciamento e PreservaÃ§Ã£o de EspaÃ§os de MemÃ³ria.',2021\n",
      "Edmar Moraes GonÃ§alves,'L1: PatrimÃ´nio Documental: RepresentaÃ§Ã£o, Gerenciamento e PreservaÃ§Ã£o de EspaÃ§os de MemÃ³ria.',2021\n",
      "Eula Dantas Taveira Cabral,'L2: PrÃ¡ticas crÃ­ticas em acervos: difusÃ£o, acesso, uso e apropriaÃ§Ã£o do patrimÃ´nio documental material e imaterial.',2021\n",
      "JoÃ«lle Rachel Rouchou,'L2: PrÃ¡ticas crÃ­ticas em acervos: difusÃ£o, acesso, uso e apropriaÃ§Ã£o do patrimÃ´nio documental material e imaterial.',2021\n",
      "JosÃ© Almino de Alencar e Silva Neto,'L2: PrÃ¡ticas crÃ­ticas em acervos: difusÃ£o, acesso, uso e apropriaÃ§Ã£o do patrimÃ´nio documental material e imaterial.',2021\n",
      "Lia Calabre de Azevedo,'L2: PrÃ¡ticas crÃ­ticas em acervos: difusÃ£o, acesso, uso e apropriaÃ§Ã£o do patrimÃ´nio documental material e imaterial.',2021\n",
      "Lucia Maria Velloso de Oliveira,'L1: PatrimÃ´nio Documental: RepresentaÃ§Ã£o, Gerenciamento e PreservaÃ§Ã£o de EspaÃ§os de MemÃ³ria.',2021\n",
      "Luis Fernando SayÃ£o,'L1: PatrimÃ´nio Documental: RepresentaÃ§Ã£o, Gerenciamento e PreservaÃ§Ã£o de EspaÃ§os de MemÃ³ria.',2021\n",
      "Margareth da Silva,'L1: PatrimÃ´nio Documental: RepresentaÃ§Ã£o, Gerenciamento e PreservaÃ§Ã£o de EspaÃ§os de MemÃ³ria.',2021\n",
      "Maria Luisa Ramos de Oliveira Soares,'L1: PatrimÃ´nio Documental: RepresentaÃ§Ã£o, Gerenciamento e PreservaÃ§Ã£o de EspaÃ§os de MemÃ³ria.',2021\n",
      "Soraia Farias Reolon Pereira,'L2: PrÃ¡ticas crÃ­ticas em acervos: difusÃ£o, acesso, uso e apropriaÃ§Ã£o do patrimÃ´nio documental material e imaterial.',2021\n",
      "\n"
     ]
    }
   ],
   "source": [
    "file = open('docentes20162021.csv', 'r')\n",
    "print(file.read())"
   ]
  },
  {
   "cell_type": "markdown",
   "metadata": {},
   "source": [
    "#### leitura usando with"
   ]
  },
  {
   "cell_type": "code",
   "execution_count": 14,
   "metadata": {
    "ExecuteTime": {
     "end_time": "2022-06-20T14:40:16.055857Z",
     "start_time": "2022-06-20T14:40:16.048857Z"
    }
   },
   "outputs": [
    {
     "name": "stdout",
     "output_type": "stream",
     "text": [
      "Docentes,Linha de Pesquisa,Ano\n",
      "Ana CÃ©lia Rodrigues,'L1: PatrimÃ´nio Documental: RepresentaÃ§Ã£o, Gerenciamento e PreservaÃ§Ã£o de EspaÃ§os de MemÃ³ria.',2016\n",
      "Ana LÃ­gia Medeiros,'L1: PatrimÃ´nio Documental: RepresentaÃ§Ã£o, Gerenciamento e PreservaÃ§Ã£o de EspaÃ§os de MemÃ³ria.',2016\n",
      "Ana Maria Pessoa dos Santos,'L2: PrÃ¡ticas crÃ­ticas em acervos: difusÃ£o, acesso, uso e apropriaÃ§Ã£o do patrimÃ´nio documental material e imaterial.',2016\n",
      "Antonio Herculano Lopes,'L2: PrÃ¡ticas crÃ­ticas em acervos: difusÃ£o, acesso, uso e apropriaÃ§Ã£o do patrimÃ´nio documental material e imaterial.',2016\n",
      "Aparecida Marina de Souza Rangel,'L1: PatrimÃ´nio Documental: RepresentaÃ§Ã£o, Gerenciamento e PreservaÃ§Ã£o de EspaÃ§os de MemÃ³ria.',2016\n",
      "Charles Matheus Pontes Gomes,'L2: PrÃ¡ticas crÃ­ticas em acervos: difusÃ£o, acesso, uso e apropriaÃ§Ã£o do patrimÃ´nio documental material e imaterial.',2016\n",
      "Christian Edward Cyril Lynch,'L2: PrÃ¡ticas crÃ­ticas em acervos: difusÃ£o, acesso, uso e apropriaÃ§Ã£o do patrimÃ´nio documental material e imaterial.',2016\n",
      "Claudia Suely Rodrigues Carvalho,'L1: PatrimÃ´nio Documental: RepresentaÃ§Ã£o, Gerenciamento e PreservaÃ§Ã£o de EspaÃ§os de MemÃ³ria.',2016\n",
      "Edmar Moraes GonÃ§alves,'L1: PatrimÃ´nio Documental: RepresentaÃ§Ã£o, Gerenciamento e PreservaÃ§Ã£o de EspaÃ§os de MemÃ³ria.',2016\n",
      "Eduardo Silva,'L1: PatrimÃ´nio Documental: RepresentaÃ§Ã£o, Gerenciamento e PreservaÃ§Ã£o de EspaÃ§os de MemÃ³ria.',2016\n",
      "Eliane Vasconcellos,'L1: PatrimÃ´nio Documental: RepresentaÃ§Ã£o, Gerenciamento e PreservaÃ§Ã£o de EspaÃ§os de MemÃ³ria.',2016\n",
      "Isabel Idelzuite Lustosa da Costa,'L2: PrÃ¡ticas crÃ­ticas em acervos: difusÃ£o, acesso, uso e apropriaÃ§Ã£o do patrimÃ´nio documental material e imaterial.',2016\n",
      "Maria Flora Sussekind,'L2: PrÃ¡ticas crÃ­ticas em acervos: difusÃ£o, acesso, uso e apropriaÃ§Ã£o do patrimÃ´nio documental material e imaterial.',2016\n",
      "JoÃ«lle Rachel Rouchou,'L2: PrÃ¡ticas crÃ­ticas em acervos: difusÃ£o, acesso, uso e apropriaÃ§Ã£o do patrimÃ´nio documental material e imaterial.',2016\n",
      "JosÃ© Almino de Alencar e Silva Neto,'L2: PrÃ¡ticas crÃ­ticas em acervos: difusÃ£o, acesso, uso e apropriaÃ§Ã£o do patrimÃ´nio documental material e imaterial.',2016\n",
      "Laura do Carmo,'L2: PrÃ¡ticas crÃ­ticas em acervos: difusÃ£o, acesso, uso e apropriaÃ§Ã£o do patrimÃ´nio documental material e imaterial.',2016\n",
      "Lia Calabre de Azevedo,'L2: PrÃ¡ticas crÃ­ticas em acervos: difusÃ£o, acesso, uso e apropriaÃ§Ã£o do patrimÃ´nio documental material e imaterial.',2016\n",
      "Lucia Maria Velloso de Oliveira,'L1: PatrimÃ´nio Documental: RepresentaÃ§Ã£o, Gerenciamento e PreservaÃ§Ã£o de EspaÃ§os de MemÃ³ria.',2016\n",
      "Luis Fernando SayÃ£o,'L1: PatrimÃ´nio Documental: RepresentaÃ§Ã£o, Gerenciamento e PreservaÃ§Ã£o de EspaÃ§os de MemÃ³ria.',2016\n",
      "Maria Luisa Ramos de Oliveira Soares,'L1: PatrimÃ´nio Documental: RepresentaÃ§Ã£o, Gerenciamento e PreservaÃ§Ã£o de EspaÃ§os de MemÃ³ria.',2016\n",
      "Marta de Senna,'L2: PrÃ¡ticas crÃ­ticas em acervos: difusÃ£o, acesso, uso e apropriaÃ§Ã£o do patrimÃ´nio documental material e imaterial.',2016\n",
      "Mauricio Siqueira,'L2: PrÃ¡ticas crÃ­ticas em acervos: difusÃ£o, acesso, uso e apropriaÃ§Ã£o do patrimÃ´nio documental material e imaterial.',2016\n",
      "MÃ´nica Pimenta Velloso ,'L2: PrÃ¡ticas crÃ­ticas em acervos: difusÃ£o, acesso, uso e apropriaÃ§Ã£o do patrimÃ´nio documental material e imaterial.',2016\n",
      "Soraia Farias Reolon Pereira,'L2: PrÃ¡ticas crÃ­ticas em acervos: difusÃ£o, acesso, uso e apropriaÃ§Ã£o do patrimÃ´nio documental material e imaterial.',2016\n",
      "Ana CÃ©lia Rodrigues,'L1: PatrimÃ´nio Documental: RepresentaÃ§Ã£o, Gerenciamento e PreservaÃ§Ã£o de EspaÃ§os de MemÃ³ria.',2017\n",
      "Ana Maria Pessoa dos Santos,'L1: PatrimÃ´nio Documental: RepresentaÃ§Ã£o, Gerenciamento e PreservaÃ§Ã£o de EspaÃ§os de MemÃ³ria.',2017\n",
      "Antonio Herculano Lopes,'L2: PrÃ¡ticas crÃ­ticas em acervos: difusÃ£o, acesso, uso e apropriaÃ§Ã£o do patrimÃ´nio documental material e imaterial.',2017\n",
      "Aparecida Marina de Souza Rangel,'L1: PatrimÃ´nio Documental: RepresentaÃ§Ã£o, Gerenciamento e PreservaÃ§Ã£o de EspaÃ§os de MemÃ³ria.',2017\n",
      "Charles Matheus Pontes Gomes,'L2: PrÃ¡ticas crÃ­ticas em acervos: difusÃ£o, acesso, uso e apropriaÃ§Ã£o do patrimÃ´nio documental material e imaterial.',2017\n",
      "Claudia Suely Rodrigues Carvalho,'L1: PatrimÃ´nio Documental: RepresentaÃ§Ã£o, Gerenciamento e PreservaÃ§Ã£o de EspaÃ§os de MemÃ³ria.',2017\n",
      "Edmar Moraes GonÃ§alves,'L1: PatrimÃ´nio Documental: RepresentaÃ§Ã£o, Gerenciamento e PreservaÃ§Ã£o de EspaÃ§os de MemÃ³ria.',2017\n",
      "Eliane Vasconcellos,'L1: PatrimÃ´nio Documental: RepresentaÃ§Ã£o, Gerenciamento e PreservaÃ§Ã£o de EspaÃ§os de MemÃ³ria.',2017\n",
      "Maria Flora Sussekind,'L2: PrÃ¡ticas crÃ­ticas em acervos: difusÃ£o, acesso, uso e apropriaÃ§Ã£o do patrimÃ´nio documental material e imaterial.',2017\n",
      "JoÃ«lle Rachel Rouchou,'L2: PrÃ¡ticas crÃ­ticas em acervos: difusÃ£o, acesso, uso e apropriaÃ§Ã£o do patrimÃ´nio documental material e imaterial.',2017\n",
      "Laura do Carmo,'L2: PrÃ¡ticas crÃ­ticas em acervos: difusÃ£o, acesso, uso e apropriaÃ§Ã£o do patrimÃ´nio documental material e imaterial.',2017\n",
      "Lia Calabre de Azevedo,'L2: PrÃ¡ticas crÃ­ticas em acervos: difusÃ£o, acesso, uso e apropriaÃ§Ã£o do patrimÃ´nio documental material e imaterial.',2017\n",
      "Lucia Maria Velloso de Oliveira,'L1: PatrimÃ´nio Documental: RepresentaÃ§Ã£o, Gerenciamento e PreservaÃ§Ã£o de EspaÃ§os de MemÃ³ria.',2017\n",
      "Luis Fernando SayÃ£o,'L1: PatrimÃ´nio Documental: RepresentaÃ§Ã£o, Gerenciamento e PreservaÃ§Ã£o de EspaÃ§os de MemÃ³ria.',2017\n",
      "Margareth da Silva,'L1: PatrimÃ´nio Documental: RepresentaÃ§Ã£o, Gerenciamento e PreservaÃ§Ã£o de EspaÃ§os de MemÃ³ria.',2017\n",
      "Marta de Senna,'L2: PrÃ¡ticas crÃ­ticas em acervos: difusÃ£o, acesso, uso e apropriaÃ§Ã£o do patrimÃ´nio documental material e imaterial.',2017\n",
      "Mauricio Siqueira,'L2: PrÃ¡ticas crÃ­ticas em acervos: difusÃ£o, acesso, uso e apropriaÃ§Ã£o do patrimÃ´nio documental material e imaterial.',2017\n",
      "Soraia Farias Reolon Pereira,'L2: PrÃ¡ticas crÃ­ticas em acervos: difusÃ£o, acesso, uso e apropriaÃ§Ã£o do patrimÃ´nio documental material e imaterial.',2017\n",
      "Ana CÃ©lia Rodrigues,'L1: PatrimÃ´nio Documental: RepresentaÃ§Ã£o, Gerenciamento e PreservaÃ§Ã£o de EspaÃ§os de MemÃ³ria.',2018\n",
      "Ana LÃ­gia Medeiros,'L1: PatrimÃ´nio Documental: RepresentaÃ§Ã£o, Gerenciamento e PreservaÃ§Ã£o de EspaÃ§os de MemÃ³ria.',2018\n",
      "Ana Maria Pessoa dos Santos,'L2: PrÃ¡ticas crÃ­ticas em acervos: difusÃ£o, acesso, uso e apropriaÃ§Ã£o do patrimÃ´nio documental material e imaterial.',2018\n",
      "Antonio Herculano Lopes,'L2: PrÃ¡ticas crÃ­ticas em acervos: difusÃ£o, acesso, uso e apropriaÃ§Ã£o do patrimÃ´nio documental material e imaterial.',2018\n",
      "Aparecida Marina de Souza Rangel,'L1: PatrimÃ´nio Documental: RepresentaÃ§Ã£o, Gerenciamento e PreservaÃ§Ã£o de EspaÃ§os de MemÃ³ria.',2018\n",
      "Charles Matheus Pontes Gomes,'L2: PrÃ¡ticas crÃ­ticas em acervos: difusÃ£o, acesso, uso e apropriaÃ§Ã£o do patrimÃ´nio documental material e imaterial.',2018\n",
      "Christian Edward Cyril Lynch,'L2: PrÃ¡ticas crÃ­ticas em acervos: difusÃ£o, acesso, uso e apropriaÃ§Ã£o do patrimÃ´nio documental material e imaterial.',2018\n",
      "Claudia Suely Rodrigues Carvalho,'L1: PatrimÃ´nio Documental: RepresentaÃ§Ã£o, Gerenciamento e PreservaÃ§Ã£o de EspaÃ§os de MemÃ³ria.',2018\n",
      "Edmar Moraes GonÃ§alves,'L1: PatrimÃ´nio Documental: RepresentaÃ§Ã£o, Gerenciamento e PreservaÃ§Ã£o de EspaÃ§os de MemÃ³ria.',2018\n",
      "Eduardo Silva,'L1: PatrimÃ´nio Documental: RepresentaÃ§Ã£o, Gerenciamento e PreservaÃ§Ã£o de EspaÃ§os de MemÃ³ria.',2018\n",
      "Eula Dantas Taveira Cabral,'L2: PrÃ¡ticas crÃ­ticas em acervos: difusÃ£o, acesso, uso e apropriaÃ§Ã£o do patrimÃ´nio documental material e imaterial.',2018\n",
      "Maria Flora Sussekind,'L2: PrÃ¡ticas crÃ­ticas em acervos: difusÃ£o, acesso, uso e apropriaÃ§Ã£o do patrimÃ´nio documental material e imaterial.',2018\n",
      "JoÃ«lle Rachel Rouchou,'L2: PrÃ¡ticas crÃ­ticas em acervos: difusÃ£o, acesso, uso e apropriaÃ§Ã£o do patrimÃ´nio documental material e imaterial.',2018\n",
      "JosÃ© Almino de Alencar e Silva Neto,'L2: PrÃ¡ticas crÃ­ticas em acervos: difusÃ£o, acesso, uso e apropriaÃ§Ã£o do patrimÃ´nio documental material e imaterial.',2018\n",
      "Laura do Carmo,'L2: PrÃ¡ticas crÃ­ticas em acervos: difusÃ£o, acesso, uso e apropriaÃ§Ã£o do patrimÃ´nio documental material e imaterial.',2018\n",
      "Lia Calabre de Azevedo,'L2: PrÃ¡ticas crÃ­ticas em acervos: difusÃ£o, acesso, uso e apropriaÃ§Ã£o do patrimÃ´nio documental material e imaterial.',2018\n",
      "Lucia Maria Velloso de Oliveira,'L1: PatrimÃ´nio Documental: RepresentaÃ§Ã£o, Gerenciamento e PreservaÃ§Ã£o de EspaÃ§os de MemÃ³ria.',2018\n",
      "Luis Fernando SayÃ£o,'L1: PatrimÃ´nio Documental: RepresentaÃ§Ã£o, Gerenciamento e PreservaÃ§Ã£o de EspaÃ§os de MemÃ³ria.',2018\n",
      "Maria Luisa Ramos de Oliveira Soares,'L1: PatrimÃ´nio Documental: RepresentaÃ§Ã£o, Gerenciamento e PreservaÃ§Ã£o de EspaÃ§os de MemÃ³ria.',2018\n",
      "Margareth da Silva,'L1: PatrimÃ´nio Documental: RepresentaÃ§Ã£o, Gerenciamento e PreservaÃ§Ã£o de EspaÃ§os de MemÃ³ria.',2018\n",
      "Soraia Farias Reolon Pereira,'L2: PrÃ¡ticas crÃ­ticas em acervos: difusÃ£o, acesso, uso e apropriaÃ§Ã£o do patrimÃ´nio documental material e imaterial.',2018\n",
      "Ana Maria Pessoa dos Santos,'L2: PrÃ¡ticas crÃ­ticas em acervos: difusÃ£o, acesso, uso e apropriaÃ§Ã£o do patrimÃ´nio documental material e imaterial.',2019\n",
      "Antonio Herculano Lopes,'L2: PrÃ¡ticas crÃ­ticas em acervos: difusÃ£o, acesso, uso e apropriaÃ§Ã£o do patrimÃ´nio documental material e imaterial.',2019\n",
      "Aparecida Marina de Souza Rangel,'L1: PatrimÃ´nio Documental: RepresentaÃ§Ã£o, Gerenciamento e PreservaÃ§Ã£o de EspaÃ§os de MemÃ³ria.',2019\n",
      "Charles Matheus Pontes Gomes,'L2: PrÃ¡ticas crÃ­ticas em acervos: difusÃ£o, acesso, uso e apropriaÃ§Ã£o do patrimÃ´nio documental material e imaterial.',2019\n",
      "Christian Edward Cyril Lynch,'L2: PrÃ¡ticas crÃ­ticas em acervos: difusÃ£o, acesso, uso e apropriaÃ§Ã£o do patrimÃ´nio documental material e imaterial.',2019\n",
      "Claudia Suely Rodrigues Carvalho,'L1: PatrimÃ´nio Documental: RepresentaÃ§Ã£o, Gerenciamento e PreservaÃ§Ã£o de EspaÃ§os de MemÃ³ria.',2019\n",
      "Edmar Moraes GonÃ§alves,'L1: PatrimÃ´nio Documental: RepresentaÃ§Ã£o, Gerenciamento e PreservaÃ§Ã£o de EspaÃ§os de MemÃ³ria.',2019\n",
      "Eliane Vasconcellos,'L1: PatrimÃ´nio Documental: RepresentaÃ§Ã£o, Gerenciamento e PreservaÃ§Ã£o de EspaÃ§os de MemÃ³ria.',2019\n",
      "Eula Dantas Taveira Cabral,'L2: PrÃ¡ticas crÃ­ticas em acervos: difusÃ£o, acesso, uso e apropriaÃ§Ã£o do patrimÃ´nio documental material e imaterial.',2019\n",
      "FÃ¡bio JosÃ© Kerche Nunes,'L2: PrÃ¡ticas crÃ­ticas em acervos: difusÃ£o, acesso, uso e apropriaÃ§Ã£o do patrimÃ´nio documental material e imaterial.',2019\n",
      "Maria Flora Sussekind,'L2: PrÃ¡ticas crÃ­ticas em acervos: difusÃ£o, acesso, uso e apropriaÃ§Ã£o do patrimÃ´nio documental material e imaterial.',2019\n",
      "JoÃ«lle Rachel Rouchou,'L2: PrÃ¡ticas crÃ­ticas em acervos: difusÃ£o, acesso, uso e apropriaÃ§Ã£o do patrimÃ´nio documental material e imaterial.',2019\n",
      "JosÃ© Almino de Alencar e Silva Neto,'L2: PrÃ¡ticas crÃ­ticas em acervos: difusÃ£o, acesso, uso e apropriaÃ§Ã£o do patrimÃ´nio documental material e imaterial.',2019\n",
      "JosÃ© Maria Jardim,'L1: PatrimÃ´nio Documental: RepresentaÃ§Ã£o, Gerenciamento e PreservaÃ§Ã£o de EspaÃ§os de MemÃ³ria.',2019\n",
      "Laura do Carmo,'L2: PrÃ¡ticas crÃ­ticas em acervos: difusÃ£o, acesso, uso e apropriaÃ§Ã£o do patrimÃ´nio documental material e imaterial.',2019\n",
      "Lia Calabre de Azevedo,'L2: PrÃ¡ticas crÃ­ticas em acervos: difusÃ£o, acesso, uso e apropriaÃ§Ã£o do patrimÃ´nio documental material e imaterial.',2019\n",
      "Luis Fernando SayÃ£o,'L1: PatrimÃ´nio Documental: RepresentaÃ§Ã£o, Gerenciamento e PreservaÃ§Ã£o de EspaÃ§os de MemÃ³ria.',2019\n",
      "Maria Luisa Ramos de Oliveira Soares,'L1: PatrimÃ´nio Documental: RepresentaÃ§Ã£o, Gerenciamento e PreservaÃ§Ã£o de EspaÃ§os de MemÃ³ria.',2019\n",
      "Margareth da Silva,'L1: PatrimÃ´nio Documental: RepresentaÃ§Ã£o, Gerenciamento e PreservaÃ§Ã£o de EspaÃ§os de MemÃ³ria.',2019\n",
      "Soraia Farias Reolon Pereira,'L2: PrÃ¡ticas crÃ­ticas em acervos: difusÃ£o, acesso, uso e apropriaÃ§Ã£o do patrimÃ´nio documental material e imaterial.',2019\n",
      "Ana LÃ­gia Medeiros,'L1: PatrimÃ´nio Documental: RepresentaÃ§Ã£o, Gerenciamento e PreservaÃ§Ã£o de EspaÃ§os de MemÃ³ria.',2020\n",
      "Ana Maria Pessoa dos Santos,'L2: PrÃ¡ticas crÃ­ticas em acervos: difusÃ£o, acesso, uso e apropriaÃ§Ã£o do patrimÃ´nio documental material e imaterial.',2020\n",
      "Antonio Herculano Lopes,'L2: PrÃ¡ticas crÃ­ticas em acervos: difusÃ£o, acesso, uso e apropriaÃ§Ã£o do patrimÃ´nio documental material e imaterial.',2020\n",
      "Aparecida Marina de Souza Rangel,'L1: PatrimÃ´nio Documental: RepresentaÃ§Ã£o, Gerenciamento e PreservaÃ§Ã£o de EspaÃ§os de MemÃ³ria.',2020\n",
      "Christian Edward Cyril Lynch,'L2: PrÃ¡ticas crÃ­ticas em acervos: difusÃ£o, acesso, uso e apropriaÃ§Ã£o do patrimÃ´nio documental material e imaterial.',2020\n",
      "Claudia Suely Rodrigues Carvalho,'L1: PatrimÃ´nio Documental: RepresentaÃ§Ã£o, Gerenciamento e PreservaÃ§Ã£o de EspaÃ§os de MemÃ³ria.',2020\n",
      "Edmar Moraes GonÃ§alves,'L1: PatrimÃ´nio Documental: RepresentaÃ§Ã£o, Gerenciamento e PreservaÃ§Ã£o de EspaÃ§os de MemÃ³ria.',2020\n",
      "Eula Dantas Taveira Cabral,'L2: PrÃ¡ticas crÃ­ticas em acervos: difusÃ£o, acesso, uso e apropriaÃ§Ã£o do patrimÃ´nio documental material e imaterial.',2020\n",
      "Isabel Idelzuite Lustosa da Costa,'L2: PrÃ¡ticas crÃ­ticas em acervos: difusÃ£o, acesso, uso e apropriaÃ§Ã£o do patrimÃ´nio documental material e imaterial.',2020\n",
      "Maria Flora Sussekind,'L2: PrÃ¡ticas crÃ­ticas em acervos: difusÃ£o, acesso, uso e apropriaÃ§Ã£o do patrimÃ´nio documental material e imaterial.',2020\n",
      "JoÃ«lle Rachel Rouchou,'L2: PrÃ¡ticas crÃ­ticas em acervos: difusÃ£o, acesso, uso e apropriaÃ§Ã£o do patrimÃ´nio documental material e imaterial.',2020\n",
      "JosÃ© Almino de Alencar e Silva Neto,'L2: PrÃ¡ticas crÃ­ticas em acervos: difusÃ£o, acesso, uso e apropriaÃ§Ã£o do patrimÃ´nio documental material e imaterial.',2020\n",
      "Lia Calabre de Azevedo,'L2: PrÃ¡ticas crÃ­ticas em acervos: difusÃ£o, acesso, uso e apropriaÃ§Ã£o do patrimÃ´nio documental material e imaterial.',2020\n",
      "Lucia Maria Velloso de Oliveira,'L1: PatrimÃ´nio Documental: RepresentaÃ§Ã£o, Gerenciamento e PreservaÃ§Ã£o de EspaÃ§os de MemÃ³ria.',2020\n",
      "Maria Luisa Ramos de Oliveira Soares,'L1: PatrimÃ´nio Documental: RepresentaÃ§Ã£o, Gerenciamento e PreservaÃ§Ã£o de EspaÃ§os de MemÃ³ria.',2020\n",
      "Soraia Farias Reolon Pereira,'L2: PrÃ¡ticas crÃ­ticas em acervos: difusÃ£o, acesso, uso e apropriaÃ§Ã£o do patrimÃ´nio documental material e imaterial.',2020\n",
      "Ana LÃ­gia Medeiros,'L1: PatrimÃ´nio Documental: RepresentaÃ§Ã£o, Gerenciamento e PreservaÃ§Ã£o de EspaÃ§os de MemÃ³ria.',2021\n",
      "Ana Maria Pessoa dos Santos,'L2: PrÃ¡ticas crÃ­ticas em acervos: difusÃ£o, acesso, uso e apropriaÃ§Ã£o do patrimÃ´nio documental material e imaterial.',2021\n",
      "Antonio Herculano Lopes,'L2: PrÃ¡ticas crÃ­ticas em acervos: difusÃ£o, acesso, uso e apropriaÃ§Ã£o do patrimÃ´nio documental material e imaterial.',2021\n",
      "Aparecida Marina de Souza Rangel,'L1: PatrimÃ´nio Documental: RepresentaÃ§Ã£o, Gerenciamento e PreservaÃ§Ã£o de EspaÃ§os de MemÃ³ria.',2021\n",
      "Claudia Suely Rodrigues Carvalho,'L1: PatrimÃ´nio Documental: RepresentaÃ§Ã£o, Gerenciamento e PreservaÃ§Ã£o de EspaÃ§os de MemÃ³ria.',2021\n",
      "Edmar Moraes GonÃ§alves,'L1: PatrimÃ´nio Documental: RepresentaÃ§Ã£o, Gerenciamento e PreservaÃ§Ã£o de EspaÃ§os de MemÃ³ria.',2021\n",
      "Eula Dantas Taveira Cabral,'L2: PrÃ¡ticas crÃ­ticas em acervos: difusÃ£o, acesso, uso e apropriaÃ§Ã£o do patrimÃ´nio documental material e imaterial.',2021\n",
      "JoÃ«lle Rachel Rouchou,'L2: PrÃ¡ticas crÃ­ticas em acervos: difusÃ£o, acesso, uso e apropriaÃ§Ã£o do patrimÃ´nio documental material e imaterial.',2021\n",
      "JosÃ© Almino de Alencar e Silva Neto,'L2: PrÃ¡ticas crÃ­ticas em acervos: difusÃ£o, acesso, uso e apropriaÃ§Ã£o do patrimÃ´nio documental material e imaterial.',2021\n",
      "Lia Calabre de Azevedo,'L2: PrÃ¡ticas crÃ­ticas em acervos: difusÃ£o, acesso, uso e apropriaÃ§Ã£o do patrimÃ´nio documental material e imaterial.',2021\n",
      "Lucia Maria Velloso de Oliveira,'L1: PatrimÃ´nio Documental: RepresentaÃ§Ã£o, Gerenciamento e PreservaÃ§Ã£o de EspaÃ§os de MemÃ³ria.',2021\n",
      "Luis Fernando SayÃ£o,'L1: PatrimÃ´nio Documental: RepresentaÃ§Ã£o, Gerenciamento e PreservaÃ§Ã£o de EspaÃ§os de MemÃ³ria.',2021\n",
      "Margareth da Silva,'L1: PatrimÃ´nio Documental: RepresentaÃ§Ã£o, Gerenciamento e PreservaÃ§Ã£o de EspaÃ§os de MemÃ³ria.',2021\n",
      "Maria Luisa Ramos de Oliveira Soares,'L1: PatrimÃ´nio Documental: RepresentaÃ§Ã£o, Gerenciamento e PreservaÃ§Ã£o de EspaÃ§os de MemÃ³ria.',2021\n",
      "Soraia Farias Reolon Pereira,'L2: PrÃ¡ticas crÃ­ticas em acervos: difusÃ£o, acesso, uso e apropriaÃ§Ã£o do patrimÃ´nio documental material e imaterial.',2021\n",
      "\n"
     ]
    }
   ],
   "source": [
    "with open('docentes20162021.csv', 'r') as file:\n",
    "    print(file.read())"
   ]
  },
  {
   "cell_type": "code",
   "execution_count": null,
   "metadata": {},
   "outputs": [],
   "source": []
  },
  {
   "cell_type": "markdown",
   "metadata": {},
   "source": [
    "### 03. Escrevendo em arquivos"
   ]
  },
  {
   "cell_type": "code",
   "execution_count": 15,
   "metadata": {
    "ExecuteTime": {
     "end_time": "2022-06-20T14:40:41.348601Z",
     "start_time": "2022-06-20T14:40:41.344587Z"
    }
   },
   "outputs": [],
   "source": [
    "file2 = open('novo_arquivo.txt', 'w')"
   ]
  },
  {
   "cell_type": "code",
   "execution_count": 16,
   "metadata": {
    "ExecuteTime": {
     "end_time": "2022-06-20T14:40:41.773988Z",
     "start_time": "2022-06-20T14:40:41.760949Z"
    }
   },
   "outputs": [
    {
     "data": {
      "text/plain": [
       "44"
      ]
     },
     "execution_count": 16,
     "metadata": {},
     "output_type": "execute_result"
    }
   ],
   "source": [
    "file2.write('Este é minha primeira linha do arquivo file2')"
   ]
  },
  {
   "cell_type": "code",
   "execution_count": 17,
   "metadata": {
    "ExecuteTime": {
     "end_time": "2022-06-20T14:40:42.237528Z",
     "start_time": "2022-06-20T14:40:42.230483Z"
    }
   },
   "outputs": [
    {
     "data": {
      "text/plain": [
       "39"
      ]
     },
     "execution_count": 17,
     "metadata": {},
     "output_type": "execute_result"
    }
   ],
   "source": [
    "file2.write('Esta é a segunda linha do arquivo file2')"
   ]
  },
  {
   "cell_type": "code",
   "execution_count": 18,
   "metadata": {
    "ExecuteTime": {
     "end_time": "2022-06-20T14:40:42.660486Z",
     "start_time": "2022-06-20T14:40:42.654483Z"
    }
   },
   "outputs": [],
   "source": [
    "file2.close()"
   ]
  },
  {
   "cell_type": "code",
   "execution_count": 19,
   "metadata": {
    "ExecuteTime": {
     "end_time": "2022-06-20T14:40:42.976488Z",
     "start_time": "2022-06-20T14:40:42.964481Z"
    }
   },
   "outputs": [
    {
     "ename": "ValueError",
     "evalue": "I/O operation on closed file.",
     "output_type": "error",
     "traceback": [
      "\u001b[1;31m---------------------------------------------------------------------------\u001b[0m",
      "\u001b[1;31mValueError\u001b[0m                                Traceback (most recent call last)",
      "\u001b[1;32m~\\AppData\\Local\\Temp/ipykernel_9328/2229553692.py\u001b[0m in \u001b[0;36m<module>\u001b[1;34m\u001b[0m\n\u001b[0;32m      1\u001b[0m \u001b[1;31m# arquivo está fechado (error)\u001b[0m\u001b[1;33m\u001b[0m\u001b[1;33m\u001b[0m\u001b[0m\n\u001b[1;32m----> 2\u001b[1;33m \u001b[0mfile2\u001b[0m\u001b[1;33m.\u001b[0m\u001b[0mread\u001b[0m\u001b[1;33m(\u001b[0m\u001b[1;33m)\u001b[0m\u001b[1;33m\u001b[0m\u001b[1;33m\u001b[0m\u001b[0m\n\u001b[0m",
      "\u001b[1;31mValueError\u001b[0m: I/O operation on closed file."
     ]
    }
   ],
   "source": [
    "# arquivo está fechado (error)\n",
    "file2.read()"
   ]
  },
  {
   "cell_type": "markdown",
   "metadata": {},
   "source": [
    "- O arquivo está fechado! Você não pode escrever nele!"
   ]
  },
  {
   "cell_type": "code",
   "execution_count": 20,
   "metadata": {
    "ExecuteTime": {
     "end_time": "2022-06-20T14:41:09.639541Z",
     "start_time": "2022-06-20T14:41:09.634540Z"
    }
   },
   "outputs": [],
   "source": [
    "file2 = open('novo_arquivo.txt', 'r')"
   ]
  },
  {
   "cell_type": "code",
   "execution_count": 21,
   "metadata": {
    "ExecuteTime": {
     "end_time": "2022-06-20T14:41:09.962542Z",
     "start_time": "2022-06-20T14:41:09.954544Z"
    }
   },
   "outputs": [
    {
     "data": {
      "text/plain": [
       "['Este é minha primeira linha do arquivo file2Esta é a segunda linha do arquivo file2']"
      ]
     },
     "execution_count": 21,
     "metadata": {},
     "output_type": "execute_result"
    }
   ],
   "source": [
    "file2.readlines()"
   ]
  },
  {
   "cell_type": "markdown",
   "metadata": {},
   "source": [
    "#### Escrevendo no final do arquivo\n",
    "- Use a tag 'a'"
   ]
  },
  {
   "cell_type": "code",
   "execution_count": null,
   "metadata": {
    "ExecuteTime": {
     "end_time": "2022-06-20T14:37:32.177860Z",
     "start_time": "2022-06-20T14:37:32.174856Z"
    }
   },
   "outputs": [],
   "source": [
    "file3 = open('novo_arquivo.txt', 'a')"
   ]
  },
  {
   "cell_type": "code",
   "execution_count": null,
   "metadata": {
    "ExecuteTime": {
     "end_time": "2022-06-20T14:37:33.510024Z",
     "start_time": "2022-06-20T14:37:33.505022Z"
    }
   },
   "outputs": [],
   "source": [
    "file3.write('Vamos escrever no final do arquivo\\n')"
   ]
  },
  {
   "cell_type": "code",
   "execution_count": null,
   "metadata": {
    "ExecuteTime": {
     "end_time": "2022-06-20T14:37:34.276548Z",
     "start_time": "2022-06-20T14:37:34.272583Z"
    }
   },
   "outputs": [],
   "source": [
    "file3.close()"
   ]
  },
  {
   "cell_type": "markdown",
   "metadata": {},
   "source": [
    "#### Escrevendo lista de dados em arquivos"
   ]
  },
  {
   "cell_type": "code",
   "execution_count": 22,
   "metadata": {
    "ExecuteTime": {
     "end_time": "2022-06-20T14:41:44.055205Z",
     "start_time": "2022-06-20T14:41:44.050199Z"
    }
   },
   "outputs": [],
   "source": [
    "lista = ['primeira linha', 'segunda linha', 'terceira linha']"
   ]
  },
  {
   "cell_type": "code",
   "execution_count": 23,
   "metadata": {
    "ExecuteTime": {
     "end_time": "2022-06-20T14:41:45.444237Z",
     "start_time": "2022-06-20T14:41:45.440235Z"
    }
   },
   "outputs": [],
   "source": [
    "file = open('novo_arquivo.txt', 'w')"
   ]
  },
  {
   "cell_type": "code",
   "execution_count": 24,
   "metadata": {
    "ExecuteTime": {
     "end_time": "2022-06-20T14:41:47.813240Z",
     "start_time": "2022-06-20T14:41:47.808228Z"
    }
   },
   "outputs": [],
   "source": [
    "file.writelines(lista)\n",
    "file.close()"
   ]
  },
  {
   "cell_type": "code",
   "execution_count": 25,
   "metadata": {
    "ExecuteTime": {
     "end_time": "2022-06-20T14:41:48.435264Z",
     "start_time": "2022-06-20T14:41:48.432263Z"
    }
   },
   "outputs": [],
   "source": [
    "file = open('novo_arquivo.txt', 'r')"
   ]
  },
  {
   "cell_type": "code",
   "execution_count": 26,
   "metadata": {
    "ExecuteTime": {
     "end_time": "2022-06-20T14:41:49.046259Z",
     "start_time": "2022-06-20T14:41:49.040259Z"
    }
   },
   "outputs": [
    {
     "data": {
      "text/plain": [
       "['primeira linhasegunda linhaterceira linha']"
      ]
     },
     "execution_count": 26,
     "metadata": {},
     "output_type": "execute_result"
    }
   ],
   "source": [
    "file.readlines()"
   ]
  },
  {
   "cell_type": "code",
   "execution_count": null,
   "metadata": {},
   "outputs": [],
   "source": []
  },
  {
   "cell_type": "markdown",
   "metadata": {},
   "source": [
    "# Agora é sua vez"
   ]
  },
  {
   "cell_type": "markdown",
   "metadata": {
    "ExecuteTime": {
     "end_time": "2022-06-20T14:44:01.991164Z",
     "start_time": "2022-06-20T14:44:01.986195Z"
    }
   },
   "source": [
    "**1) Crie um arquivo turma.csv e escreva o nome e a idade dos alunos da turma neste arquivo.**\n",
    "- Exemplo\n",
    "    - id, nome, idade\n",
    "    - 1, joão, 10\n",
    "    - 2, pedro, 20\n",
    "    - 3, maria, 30\n"
   ]
  },
  {
   "cell_type": "code",
   "execution_count": 1,
   "metadata": {},
   "outputs": [],
   "source": [
    "import csv\n",
    "\n",
    "with open('turma_1.csv', mode='w', newline='') as csv_file:\n",
    "# Define as colunas       \n",
    "    fieldnames = ['id', 'nome', 'idade']\n",
    "    writer = csv.DictWriter(csv_file, fieldnames=fieldnames)\n",
    "    \n",
    "# Define a partir das colunas as linhas  \n",
    "    writer.writeheader()\n",
    "    writer.writerow({'id': 1, \"nome\": 'joão', \"idade\": 10})\n",
    "    writer.writerow({'id': 2, \"nome\": 'pedro', \"idade\": 20})\n",
    "    writer.writerow({'id': 3, \"nome\": 'maria', \"idade\": 30})"
   ]
  },
  {
   "cell_type": "code",
   "execution_count": 2,
   "metadata": {
    "scrolled": true
   },
   "outputs": [
    {
     "name": "stdout",
     "output_type": "stream",
     "text": [
      "id,nome,idade\n",
      "1,joão,10\n",
      "2,pedro,20\n",
      "3,maria,30\n",
      "\n"
     ]
    }
   ],
   "source": [
    "file = open('turma1.csv', 'r')\n",
    "print(file.read())"
   ]
  },
  {
   "cell_type": "code",
   "execution_count": 3,
   "metadata": {},
   "outputs": [],
   "source": [
    "# Cria com linhas nulas\n",
    "with open('./turma2.csv', 'w') as csvfile:\n",
    "    writer = csv.writer(csvfile, delimiter=',')\n",
    "    writer.writerow(['id', 'nome', 'idade'])\n",
    "    writer.writerow(['1', 'joão', '10'])\n",
    "    writer.writerow(['2','pedro', '20'])\n",
    "    writer.writerow(['3','maria', '30'])"
   ]
  },
  {
   "cell_type": "code",
   "execution_count": 4,
   "metadata": {},
   "outputs": [
    {
     "name": "stdout",
     "output_type": "stream",
     "text": [
      "id,nome,idade\n",
      "\n",
      "1,joão,10\n",
      "\n",
      "2,pedro,20\n",
      "\n",
      "3,maria,30\n",
      "\n",
      "\n"
     ]
    }
   ],
   "source": [
    "file = open('turma_2.csv', 'r')\n",
    "print(file.read())"
   ]
  },
  {
   "cell_type": "markdown",
   "metadata": {
    "ExecuteTime": {
     "end_time": "2022-06-20T14:46:37.172113Z",
     "start_time": "2022-06-20T14:46:37.163573Z"
    }
   },
   "source": [
    "**2) Crie um novo arquivo soma_idade.csv que irá receber a soma das idades do arquivo turma.csv**\n",
    "- Exemplo (turma.csv)\n",
    "    - id, nome, idade\n",
    "    - 1, joão, 10\n",
    "    - 2, pedro, 20\n",
    "    - 3, maria, 30\n",
    "\n",
    "- Exemplo (soma.csv)\n",
    "    - soma\n",
    "    - 60"
   ]
  },
  {
   "cell_type": "code",
   "execution_count": 5,
   "metadata": {},
   "outputs": [],
   "source": [
    "import csv\n",
    "\n",
    "with open('soma_idade.csv', mode='w', newline='') as csv_file:\n",
    "# Define as colunas    \n",
    "    fieldnames = ['soma']\n",
    "    writer = csv.DictWriter(csv_file, fieldnames=fieldnames)\n",
    "\n",
    "    writer.writeheader()\n",
    "# Define a partir das colunas as linhas    \n",
    "    writer.writerow({'soma': 60})"
   ]
  },
  {
   "cell_type": "code",
   "execution_count": 6,
   "metadata": {},
   "outputs": [
    {
     "name": "stdout",
     "output_type": "stream",
     "text": [
      "soma\n",
      "60\n",
      "\n"
     ]
    }
   ],
   "source": [
    "file = open('soma_idade.csv', 'r')\n",
    "print(file.read())"
   ]
  },
  {
   "cell_type": "code",
   "execution_count": null,
   "metadata": {},
   "outputs": [],
   "source": []
  }
 ],
 "metadata": {
  "kernelspec": {
   "display_name": "Python 3 (ipykernel)",
   "language": "python",
   "name": "python3"
  },
  "language_info": {
   "codemirror_mode": {
    "name": "ipython",
    "version": 3
   },
   "file_extension": ".py",
   "mimetype": "text/x-python",
   "name": "python",
   "nbconvert_exporter": "python",
   "pygments_lexer": "ipython3",
   "version": "3.9.12"
  }
 },
 "nbformat": 4,
 "nbformat_minor": 1
}

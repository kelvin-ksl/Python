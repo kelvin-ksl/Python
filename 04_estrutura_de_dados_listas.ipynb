{
 "cells": [
  {
   "cell_type": "markdown",
   "metadata": {},
   "source": [
    "# Curso de Python Básico\n",
    "\n",
    "Este é um curso básico de python que tem o objetivo de apresentar a linguagem python de uma **maneira rápida e objetiva**. Vamos direto ao ponto nos conceitos básicos da programação e python com muita mão na massa! \n",
    "\n",
    "Neste curso, vamos trabalhar no **modo iterativo** do python. Porém, entenda que você pode trabalhar no modo script com várias linhas de código usando um arquivo no formato .py.\n",
    "\n",
    "Ao final desse Curso, espero que você se aprenda python e se motive cada vez mais em utilizar a linguagem para diversas tarefas e problemas do mundo real.\n",
    "\n",
    "Este notebook vai apenas passar pelos tópicos básicos em ordem:\n",
    "\n",
    "* 2. Estrutura de dados\n",
    "    * 2.1 Listas\n",
    "    * 2.2 Dicionários\n",
    "    * 2.3 Tuplas\n",
    "    * 2.4 Sets"
   ]
  },
  {
   "cell_type": "markdown",
   "metadata": {},
   "source": [
    "## 2. Estrutura de Dados\n",
    "- Listas\n",
    "- Dicionários\n",
    "- Tuplas\n",
    "- Conjuntos\n",
    "\n",
    "#### 2.1 Listas \n",
    "Estrutura de dados utilizada para armazenar sequências de valores de forma organizada a partir de um índice que representa a posição na coletação (o índice iniciando em zero)\n",
    "\n",
    "#### 2.1.1 Definição de Listas"
   ]
  },
  {
   "cell_type": "code",
   "execution_count": 3,
   "metadata": {
    "ExecuteTime": {
     "end_time": "2022-05-14T14:14:56.045061Z",
     "start_time": "2022-05-14T14:14:56.034061Z"
    }
   },
   "outputs": [],
   "source": [
    "minha_lista = [1,2,3]"
   ]
  },
  {
   "cell_type": "code",
   "execution_count": 4,
   "metadata": {
    "ExecuteTime": {
     "end_time": "2022-05-14T14:14:56.183943Z",
     "start_time": "2022-05-14T14:14:56.177944Z"
    }
   },
   "outputs": [],
   "source": [
    "# lista vazia\n",
    "minha_lista = []"
   ]
  },
  {
   "cell_type": "code",
   "execution_count": 5,
   "metadata": {
    "ExecuteTime": {
     "end_time": "2022-05-14T14:14:57.293111Z",
     "start_time": "2022-05-14T14:14:57.274110Z"
    }
   },
   "outputs": [
    {
     "data": {
      "text/plain": [
       "['hi', 1.0, [1, 2], True]"
      ]
     },
     "execution_count": 5,
     "metadata": {},
     "output_type": "execute_result"
    }
   ],
   "source": [
    "# valores em listas\n",
    "minha_lista = ['hi',1.0,[1,2], True]\n",
    "minha_lista"
   ]
  },
  {
   "cell_type": "code",
   "execution_count": 6,
   "metadata": {
    "ExecuteTime": {
     "end_time": "2022-05-14T14:14:58.083647Z",
     "start_time": "2022-05-14T14:14:58.074144Z"
    }
   },
   "outputs": [
    {
     "data": {
      "text/plain": [
       "[1, 2]"
      ]
     },
     "execution_count": 6,
     "metadata": {},
     "output_type": "execute_result"
    }
   ],
   "source": [
    "minha_lista[2]"
   ]
  },
  {
   "cell_type": "code",
   "execution_count": 7,
   "metadata": {
    "ExecuteTime": {
     "end_time": "2022-05-14T14:15:00.033599Z",
     "start_time": "2022-05-14T14:15:00.018768Z"
    }
   },
   "outputs": [],
   "source": [
    "minha_lista = ['a','b','c']"
   ]
  },
  {
   "cell_type": "code",
   "execution_count": 8,
   "metadata": {
    "ExecuteTime": {
     "end_time": "2022-05-14T14:15:00.236006Z",
     "start_time": "2022-05-14T14:15:00.218354Z"
    }
   },
   "outputs": [
    {
     "data": {
      "text/plain": [
       "['a', 'b', 'c']"
      ]
     },
     "execution_count": 8,
     "metadata": {},
     "output_type": "execute_result"
    }
   ],
   "source": [
    "minha_lista"
   ]
  },
  {
   "cell_type": "code",
   "execution_count": 9,
   "metadata": {
    "ExecuteTime": {
     "end_time": "2022-05-14T14:15:00.482614Z",
     "start_time": "2022-05-14T14:15:00.474614Z"
    }
   },
   "outputs": [],
   "source": [
    "minha_lista.append('e')"
   ]
  },
  {
   "cell_type": "markdown",
   "metadata": {},
   "source": [
    "##### 2.1.2 Acessando listas"
   ]
  },
  {
   "cell_type": "code",
   "execution_count": 10,
   "metadata": {
    "ExecuteTime": {
     "end_time": "2022-05-14T14:15:01.117509Z",
     "start_time": "2022-05-14T14:15:01.106510Z"
    }
   },
   "outputs": [],
   "source": [
    "# - lista = [a, b, c, d]\n",
    "\n",
    "# - indíce [0, 1, 2, 3]\n",
    "# - índice [-4, -3, -2, -1]"
   ]
  },
  {
   "cell_type": "code",
   "execution_count": 11,
   "metadata": {
    "ExecuteTime": {
     "end_time": "2022-05-14T14:15:01.948457Z",
     "start_time": "2022-05-14T14:15:01.938459Z"
    }
   },
   "outputs": [
    {
     "data": {
      "text/plain": [
       "'c'"
      ]
     },
     "execution_count": 11,
     "metadata": {},
     "output_type": "execute_result"
    }
   ],
   "source": [
    "minha_lista[-2]"
   ]
  },
  {
   "cell_type": "code",
   "execution_count": 10,
   "metadata": {
    "ExecuteTime": {
     "end_time": "2022-05-14T14:15:02.165432Z",
     "start_time": "2022-05-14T14:15:02.154432Z"
    }
   },
   "outputs": [
    {
     "data": {
      "text/plain": [
       "'a'"
      ]
     },
     "execution_count": 10,
     "metadata": {},
     "output_type": "execute_result"
    }
   ],
   "source": [
    "minha_lista[0]"
   ]
  },
  {
   "cell_type": "code",
   "execution_count": 11,
   "metadata": {
    "ExecuteTime": {
     "end_time": "2022-05-14T14:15:02.367194Z",
     "start_time": "2022-05-14T14:15:02.355191Z"
    }
   },
   "outputs": [
    {
     "data": {
      "text/plain": [
       "'e'"
      ]
     },
     "execution_count": 11,
     "metadata": {},
     "output_type": "execute_result"
    }
   ],
   "source": [
    "minha_lista[-1]"
   ]
  },
  {
   "cell_type": "code",
   "execution_count": 12,
   "metadata": {
    "ExecuteTime": {
     "end_time": "2022-05-14T14:15:04.656029Z",
     "start_time": "2022-05-14T14:15:04.643032Z"
    }
   },
   "outputs": [
    {
     "data": {
      "text/plain": [
       "['a', 'b', 'c', 'e']"
      ]
     },
     "execution_count": 12,
     "metadata": {},
     "output_type": "execute_result"
    }
   ],
   "source": [
    "minha_lista"
   ]
  },
  {
   "cell_type": "code",
   "execution_count": 13,
   "metadata": {
    "ExecuteTime": {
     "end_time": "2022-05-14T14:15:04.887039Z",
     "start_time": "2022-05-14T14:15:04.882044Z"
    }
   },
   "outputs": [
    {
     "data": {
      "text/plain": [
       "['a', 'b', 'c', 'e']"
      ]
     },
     "execution_count": 13,
     "metadata": {},
     "output_type": "execute_result"
    }
   ],
   "source": [
    "minha_lista"
   ]
  },
  {
   "cell_type": "code",
   "execution_count": 14,
   "metadata": {
    "ExecuteTime": {
     "end_time": "2022-05-14T14:15:05.054920Z",
     "start_time": "2022-05-14T14:15:05.049921Z"
    }
   },
   "outputs": [],
   "source": [
    "minha_lista[0] = 'A'"
   ]
  },
  {
   "cell_type": "code",
   "execution_count": 15,
   "metadata": {
    "ExecuteTime": {
     "end_time": "2022-05-14T14:15:05.227677Z",
     "start_time": "2022-05-14T14:15:05.210677Z"
    }
   },
   "outputs": [
    {
     "data": {
      "text/plain": [
       "['A', 'b', 'c', 'e']"
      ]
     },
     "execution_count": 15,
     "metadata": {},
     "output_type": "execute_result"
    }
   ],
   "source": [
    "minha_lista"
   ]
  },
  {
   "cell_type": "code",
   "execution_count": 16,
   "metadata": {
    "ExecuteTime": {
     "end_time": "2022-05-14T14:15:05.367433Z",
     "start_time": "2022-05-14T14:15:05.354433Z"
    }
   },
   "outputs": [],
   "source": [
    "nest = [1,2,3,[4,5,['target']]]"
   ]
  },
  {
   "cell_type": "code",
   "execution_count": 17,
   "metadata": {
    "ExecuteTime": {
     "end_time": "2022-05-14T14:15:05.522567Z",
     "start_time": "2022-05-14T14:15:05.506566Z"
    }
   },
   "outputs": [
    {
     "data": {
      "text/plain": [
       "'target'"
      ]
     },
     "execution_count": 17,
     "metadata": {},
     "output_type": "execute_result"
    }
   ],
   "source": [
    "nest[3][2][0]"
   ]
  },
  {
   "cell_type": "code",
   "execution_count": 18,
   "metadata": {
    "ExecuteTime": {
     "end_time": "2022-05-14T14:15:05.645198Z",
     "start_time": "2022-05-14T14:15:05.643200Z"
    }
   },
   "outputs": [],
   "source": [
    "minha_lista = ['a', 'b', 'c', 'd']"
   ]
  },
  {
   "cell_type": "code",
   "execution_count": 19,
   "metadata": {
    "ExecuteTime": {
     "end_time": "2022-05-14T14:15:05.800584Z",
     "start_time": "2022-05-14T14:15:05.786586Z"
    }
   },
   "outputs": [
    {
     "data": {
      "text/plain": [
       "['c', 'd']"
      ]
     },
     "execution_count": 19,
     "metadata": {},
     "output_type": "execute_result"
    }
   ],
   "source": [
    "minha_lista[-2:]"
   ]
  },
  {
   "cell_type": "code",
   "execution_count": 20,
   "metadata": {
    "ExecuteTime": {
     "end_time": "2022-05-14T14:15:05.939498Z",
     "start_time": "2022-05-14T14:15:05.923501Z"
    }
   },
   "outputs": [
    {
     "data": {
      "text/plain": [
       "['c', 'd']"
      ]
     },
     "execution_count": 20,
     "metadata": {},
     "output_type": "execute_result"
    }
   ],
   "source": [
    "# retorne uma sublista\n",
    "minha_lista[2:4]"
   ]
  },
  {
   "cell_type": "markdown",
   "metadata": {},
   "source": [
    "##### 2.1.3 Adicionando elementos"
   ]
  },
  {
   "cell_type": "code",
   "execution_count": 12,
   "metadata": {
    "ExecuteTime": {
     "end_time": "2022-05-14T14:15:06.216718Z",
     "start_time": "2022-05-14T14:15:06.209716Z"
    }
   },
   "outputs": [
    {
     "data": {
      "text/plain": [
       "[]"
      ]
     },
     "execution_count": 12,
     "metadata": {},
     "output_type": "execute_result"
    }
   ],
   "source": [
    "minha_lista = []\n",
    "minha_lista"
   ]
  },
  {
   "cell_type": "code",
   "execution_count": 13,
   "metadata": {
    "ExecuteTime": {
     "end_time": "2022-05-14T14:15:07.238508Z",
     "start_time": "2022-05-14T14:15:07.234508Z"
    }
   },
   "outputs": [],
   "source": [
    "# Inserir elemento em listas\n",
    "minha_lista.append('Segundo elemento')"
   ]
  },
  {
   "cell_type": "code",
   "execution_count": 14,
   "metadata": {
    "ExecuteTime": {
     "end_time": "2022-05-14T14:15:07.439670Z",
     "start_time": "2022-05-14T14:15:07.426678Z"
    }
   },
   "outputs": [
    {
     "data": {
      "text/plain": [
       "['Segundo elemento']"
      ]
     },
     "execution_count": 14,
     "metadata": {},
     "output_type": "execute_result"
    }
   ],
   "source": [
    "minha_lista"
   ]
  },
  {
   "cell_type": "code",
   "execution_count": 15,
   "metadata": {
    "ExecuteTime": {
     "end_time": "2022-05-14T14:15:07.625272Z",
     "start_time": "2022-05-14T14:15:07.610273Z"
    }
   },
   "outputs": [],
   "source": [
    "# Inserir elemento usando o index\n",
    "minha_lista.insert(2, 'primeiro elemento')"
   ]
  },
  {
   "cell_type": "code",
   "execution_count": 16,
   "metadata": {
    "ExecuteTime": {
     "end_time": "2022-05-14T14:15:07.780546Z",
     "start_time": "2022-05-14T14:15:07.770547Z"
    }
   },
   "outputs": [],
   "source": [
    "minha_lista[1] = 'Alterando'"
   ]
  },
  {
   "cell_type": "code",
   "execution_count": 17,
   "metadata": {
    "ExecuteTime": {
     "end_time": "2022-05-14T14:15:07.933666Z",
     "start_time": "2022-05-14T14:15:07.930666Z"
    }
   },
   "outputs": [
    {
     "data": {
      "text/plain": [
       "['Segundo elemento', 'Alterando']"
      ]
     },
     "execution_count": 17,
     "metadata": {},
     "output_type": "execute_result"
    }
   ],
   "source": [
    "minha_lista"
   ]
  },
  {
   "cell_type": "markdown",
   "metadata": {},
   "source": [
    "##### 2.1.4 Removendo Elementos"
   ]
  },
  {
   "cell_type": "code",
   "execution_count": 27,
   "metadata": {
    "ExecuteTime": {
     "end_time": "2022-05-14T14:15:08.258801Z",
     "start_time": "2022-05-14T14:15:08.242799Z"
    }
   },
   "outputs": [],
   "source": [
    "minha_lista = ['A', 'B', 'C', 'D','B']"
   ]
  },
  {
   "cell_type": "code",
   "execution_count": 28,
   "metadata": {
    "ExecuteTime": {
     "end_time": "2022-05-14T14:15:08.397678Z",
     "start_time": "2022-05-14T14:15:08.386679Z"
    }
   },
   "outputs": [],
   "source": [
    "minha_lista.remove('B')"
   ]
  },
  {
   "cell_type": "code",
   "execution_count": 29,
   "metadata": {
    "ExecuteTime": {
     "end_time": "2022-05-14T14:15:08.536864Z",
     "start_time": "2022-05-14T14:15:08.530864Z"
    }
   },
   "outputs": [
    {
     "data": {
      "text/plain": [
       "['A', 'C', 'D', 'B']"
      ]
     },
     "execution_count": 29,
     "metadata": {},
     "output_type": "execute_result"
    }
   ],
   "source": [
    "minha_lista"
   ]
  },
  {
   "cell_type": "code",
   "execution_count": 30,
   "metadata": {
    "ExecuteTime": {
     "end_time": "2022-05-14T14:15:08.678227Z",
     "start_time": "2022-05-14T14:15:08.676226Z"
    }
   },
   "outputs": [],
   "source": [
    "del minha_lista"
   ]
  },
  {
   "cell_type": "markdown",
   "metadata": {
    "ExecuteTime": {
     "end_time": "2021-08-27T13:13:38.436915Z",
     "start_time": "2021-08-27T13:13:38.426915Z"
    }
   },
   "source": [
    "##### 2.1.5 Concatenando listas"
   ]
  },
  {
   "cell_type": "code",
   "execution_count": 18,
   "metadata": {
    "ExecuteTime": {
     "end_time": "2022-05-14T14:15:09.084077Z",
     "start_time": "2022-05-14T14:15:08.955080Z"
    }
   },
   "outputs": [
    {
     "data": {
      "text/plain": [
       "['Segundo elemento', 'Alterando']"
      ]
     },
     "execution_count": 18,
     "metadata": {},
     "output_type": "execute_result"
    }
   ],
   "source": [
    "minha_lista"
   ]
  },
  {
   "cell_type": "code",
   "execution_count": 19,
   "metadata": {
    "ExecuteTime": {
     "end_time": "2022-05-14T14:15:09.191851Z",
     "start_time": "2022-05-14T14:15:09.175851Z"
    }
   },
   "outputs": [],
   "source": [
    "minha_lista = ['Z','C'] + minha_lista "
   ]
  },
  {
   "cell_type": "code",
   "execution_count": 20,
   "metadata": {
    "ExecuteTime": {
     "end_time": "2022-05-14T14:15:09.316590Z",
     "start_time": "2022-05-14T14:15:09.300590Z"
    }
   },
   "outputs": [
    {
     "data": {
      "text/plain": [
       "['Z', 'C', 'Segundo elemento', 'Alterando']"
      ]
     },
     "execution_count": 20,
     "metadata": {},
     "output_type": "execute_result"
    }
   ],
   "source": [
    "minha_lista"
   ]
  },
  {
   "cell_type": "code",
   "execution_count": 21,
   "metadata": {
    "ExecuteTime": {
     "end_time": "2022-05-14T14:15:09.440230Z",
     "start_time": "2022-05-14T14:15:09.424726Z"
    }
   },
   "outputs": [],
   "source": [
    "minha_lista = ['farinha de trigo', 'ovo', 'leite', 'manteiga']"
   ]
  },
  {
   "cell_type": "code",
   "execution_count": 35,
   "metadata": {
    "ExecuteTime": {
     "end_time": "2022-05-14T14:15:09.547986Z",
     "start_time": "2022-05-14T14:15:09.530865Z"
    }
   },
   "outputs": [
    {
     "data": {
      "text/plain": [
       "['farinha de trigo', 'ovo', 'leite', 'manteiga']"
      ]
     },
     "execution_count": 35,
     "metadata": {},
     "output_type": "execute_result"
    }
   ],
   "source": [
    "minha_lista"
   ]
  },
  {
   "cell_type": "code",
   "execution_count": 36,
   "metadata": {
    "ExecuteTime": {
     "end_time": "2022-05-14T14:15:09.688731Z",
     "start_time": "2022-05-14T14:15:09.676242Z"
    }
   },
   "outputs": [],
   "source": [
    "minha_lista.extend(['açucar', 'fermento'])"
   ]
  },
  {
   "cell_type": "code",
   "execution_count": 37,
   "metadata": {
    "ExecuteTime": {
     "end_time": "2022-05-14T14:15:09.843648Z",
     "start_time": "2022-05-14T14:15:09.826647Z"
    }
   },
   "outputs": [
    {
     "data": {
      "text/plain": [
       "['farinha de trigo', 'ovo', 'leite', 'manteiga', 'açucar', 'fermento']"
      ]
     },
     "execution_count": 37,
     "metadata": {},
     "output_type": "execute_result"
    }
   ],
   "source": [
    "minha_lista"
   ]
  },
  {
   "cell_type": "markdown",
   "metadata": {},
   "source": [
    "##### 2.1.6 Ordenação de listas"
   ]
  },
  {
   "cell_type": "code",
   "execution_count": 38,
   "metadata": {
    "ExecuteTime": {
     "end_time": "2022-05-14T14:15:10.120623Z",
     "start_time": "2022-05-14T14:15:10.114624Z"
    }
   },
   "outputs": [],
   "source": [
    "minha_lista = [1,5,2,3,4]"
   ]
  },
  {
   "cell_type": "code",
   "execution_count": 39,
   "metadata": {
    "ExecuteTime": {
     "end_time": "2022-05-14T14:15:11.357046Z",
     "start_time": "2022-05-14T14:15:11.340050Z"
    }
   },
   "outputs": [
    {
     "data": {
      "text/plain": [
       "[1, 5, 2, 3, 4]"
      ]
     },
     "execution_count": 39,
     "metadata": {},
     "output_type": "execute_result"
    }
   ],
   "source": [
    "minha_lista"
   ]
  },
  {
   "cell_type": "code",
   "execution_count": 40,
   "metadata": {
    "ExecuteTime": {
     "end_time": "2022-05-14T14:15:11.573307Z",
     "start_time": "2022-05-14T14:15:11.562307Z"
    }
   },
   "outputs": [],
   "source": [
    "minha_lista.sort(reverse=False)"
   ]
  },
  {
   "cell_type": "code",
   "execution_count": 41,
   "metadata": {
    "ExecuteTime": {
     "end_time": "2022-05-14T14:15:11.744817Z",
     "start_time": "2022-05-14T14:15:11.739817Z"
    }
   },
   "outputs": [
    {
     "data": {
      "text/plain": [
       "[1, 2, 3, 4, 5]"
      ]
     },
     "execution_count": 41,
     "metadata": {},
     "output_type": "execute_result"
    }
   ],
   "source": [
    "minha_lista"
   ]
  },
  {
   "cell_type": "markdown",
   "metadata": {},
   "source": [
    "##### 2.1.7 Comprimento de listas"
   ]
  },
  {
   "cell_type": "code",
   "execution_count": 42,
   "metadata": {
    "ExecuteTime": {
     "end_time": "2022-05-14T14:15:12.101076Z",
     "start_time": "2022-05-14T14:15:12.091078Z"
    }
   },
   "outputs": [
    {
     "data": {
      "text/plain": [
       "5"
      ]
     },
     "execution_count": 42,
     "metadata": {},
     "output_type": "execute_result"
    }
   ],
   "source": [
    "len(minha_lista)"
   ]
  },
  {
   "cell_type": "markdown",
   "metadata": {},
   "source": [
    "##### 2.1.8 Convertendo lista para string"
   ]
  },
  {
   "cell_type": "code",
   "execution_count": 43,
   "metadata": {
    "ExecuteTime": {
     "end_time": "2022-05-14T14:15:12.425596Z",
     "start_time": "2022-05-14T14:15:12.410601Z"
    }
   },
   "outputs": [
    {
     "data": {
      "text/plain": [
       "['1', '2', '3', '4', '5']"
      ]
     },
     "execution_count": 43,
     "metadata": {},
     "output_type": "execute_result"
    }
   ],
   "source": [
    "minha_lista = ['1', '2', '3', '4', '5']\n",
    "minha_lista"
   ]
  },
  {
   "cell_type": "code",
   "execution_count": 44,
   "metadata": {
    "ExecuteTime": {
     "end_time": "2022-05-14T14:15:12.580510Z",
     "start_time": "2022-05-14T14:15:12.562511Z"
    }
   },
   "outputs": [
    {
     "data": {
      "text/plain": [
       "list"
      ]
     },
     "execution_count": 44,
     "metadata": {},
     "output_type": "execute_result"
    }
   ],
   "source": [
    "type(minha_lista)"
   ]
  },
  {
   "cell_type": "code",
   "execution_count": 45,
   "metadata": {
    "ExecuteTime": {
     "end_time": "2022-05-14T14:15:12.720352Z",
     "start_time": "2022-05-14T14:15:12.715351Z"
    }
   },
   "outputs": [
    {
     "data": {
      "text/plain": [
       "'12345'"
      ]
     },
     "execution_count": 45,
     "metadata": {},
     "output_type": "execute_result"
    }
   ],
   "source": [
    "''.join(minha_lista)"
   ]
  },
  {
   "cell_type": "code",
   "execution_count": 46,
   "metadata": {
    "ExecuteTime": {
     "end_time": "2022-05-14T14:15:13.418659Z",
     "start_time": "2022-05-14T14:15:13.410659Z"
    }
   },
   "outputs": [
    {
     "data": {
      "text/plain": [
       "str"
      ]
     },
     "execution_count": 46,
     "metadata": {},
     "output_type": "execute_result"
    }
   ],
   "source": [
    "type(''.join(minha_lista))"
   ]
  },
  {
   "cell_type": "markdown",
   "metadata": {},
   "source": [
    "## Agora é sua vez!"
   ]
  },
  {
   "cell_type": "markdown",
   "metadata": {},
   "source": [
    "**1) Crie uma lista \"familia\" com o nome dos membros da sua família (pais, filhos, avôs e irmãos)**"
   ]
  },
  {
   "cell_type": "code",
   "execution_count": 23,
   "metadata": {},
   "outputs": [
    {
     "data": {
      "text/plain": [
       "['pais', 'filhos', 'avos', 'irmaos']"
      ]
     },
     "execution_count": 23,
     "metadata": {},
     "output_type": "execute_result"
    }
   ],
   "source": [
    "familia = ['pais', 'filhos', 'avos', 'irmaos']\n",
    "familia"
   ]
  },
  {
   "cell_type": "markdown",
   "metadata": {},
   "source": [
    "**2) Adicione nesta lista os nomes dos seus animais de estimação que você já teve ou tem**"
   ]
  },
  {
   "cell_type": "code",
   "execution_count": 27,
   "metadata": {},
   "outputs": [
    {
     "data": {
      "text/plain": [
       "['pais', 'filhos', 'avos', 'irmaos', 'toby', 'toby']"
      ]
     },
     "execution_count": 27,
     "metadata": {},
     "output_type": "execute_result"
    }
   ],
   "source": [
    "familia.append ('toby')\n",
    "familia"
   ]
  },
  {
   "cell_type": "markdown",
   "metadata": {},
   "source": [
    "**3) Remova os animais de estimação que você não tem mais**"
   ]
  },
  {
   "cell_type": "code",
   "execution_count": 30,
   "metadata": {},
   "outputs": [
    {
     "data": {
      "text/plain": [
       "['pais', 'filhos', 'avos', 'irmaos']"
      ]
     },
     "execution_count": 30,
     "metadata": {},
     "output_type": "execute_result"
    }
   ],
   "source": [
    "familia.remove('toby')\n",
    "familia"
   ]
  },
  {
   "cell_type": "markdown",
   "metadata": {},
   "source": [
    "**4) Crie uma nova lista com nome Amigos e adicione seus principais amigos nesta lista**"
   ]
  },
  {
   "cell_type": "code",
   "execution_count": 31,
   "metadata": {},
   "outputs": [
    {
     "data": {
      "text/plain": [
       "['be', 'emerson', 'felipe', 'ramiro', 'vinicius']"
      ]
     },
     "execution_count": 31,
     "metadata": {},
     "output_type": "execute_result"
    }
   ],
   "source": [
    "amigos = ['be','emerson','felipe','ramiro','vinicius']\n",
    "amigos"
   ]
  },
  {
   "cell_type": "markdown",
   "metadata": {},
   "source": [
    "**5) Concatene as listas Familia e Amigos em uma nova lista chamada Networking**"
   ]
  },
  {
   "cell_type": "code",
   "execution_count": 32,
   "metadata": {},
   "outputs": [
    {
     "data": {
      "text/plain": [
       "['pais',\n",
       " 'filhos',\n",
       " 'avos',\n",
       " 'irmaos',\n",
       " 'be',\n",
       " 'emerson',\n",
       " 'felipe',\n",
       " 'ramiro',\n",
       " 'vinicius']"
      ]
     },
     "execution_count": 32,
     "metadata": {},
     "output_type": "execute_result"
    }
   ],
   "source": [
    "networking = familia + amigos\n",
    "networking"
   ]
  },
  {
   "cell_type": "markdown",
   "metadata": {},
   "source": [
    "**6) Delete as listas Familia e Amigos**"
   ]
  },
  {
   "cell_type": "code",
   "execution_count": 33,
   "metadata": {},
   "outputs": [],
   "source": [
    "del familia, amigos"
   ]
  },
  {
   "cell_type": "markdown",
   "metadata": {},
   "source": [
    "**8) Ordene a lista Networking por ordem alfabetica a-z**"
   ]
  },
  {
   "cell_type": "code",
   "execution_count": 34,
   "metadata": {},
   "outputs": [
    {
     "data": {
      "text/plain": [
       "['avos',\n",
       " 'be',\n",
       " 'emerson',\n",
       " 'felipe',\n",
       " 'filhos',\n",
       " 'irmaos',\n",
       " 'pais',\n",
       " 'ramiro',\n",
       " 'vinicius']"
      ]
     },
     "execution_count": 34,
     "metadata": {},
     "output_type": "execute_result"
    }
   ],
   "source": [
    "networking.sort(reverse=False)\n",
    "networking"
   ]
  },
  {
   "cell_type": "markdown",
   "metadata": {},
   "source": [
    "**9) Verifique o tamanho da lista networking**"
   ]
  },
  {
   "cell_type": "code",
   "execution_count": 36,
   "metadata": {},
   "outputs": [
    {
     "data": {
      "text/plain": [
       "9"
      ]
     },
     "execution_count": 36,
     "metadata": {},
     "output_type": "execute_result"
    }
   ],
   "source": [
    "len(networking)"
   ]
  },
  {
   "cell_type": "markdown",
   "metadata": {},
   "source": [
    "**10) Converta todos os itens da lista para string usando o separador '|'**"
   ]
  },
  {
   "cell_type": "code",
   "execution_count": 39,
   "metadata": {},
   "outputs": [
    {
     "data": {
      "text/plain": [
       "'avos|be|emerson|felipe|filhos|irmaos|pais|ramiro|vinicius'"
      ]
     },
     "execution_count": 39,
     "metadata": {},
     "output_type": "execute_result"
    }
   ],
   "source": [
    "'|'.join(networking)\n"
   ]
  },
  {
   "cell_type": "code",
   "execution_count": null,
   "metadata": {},
   "outputs": [],
   "source": []
  }
 ],
 "metadata": {
  "kernelspec": {
   "display_name": "Python 3 (ipykernel)",
   "language": "python",
   "name": "python3"
  },
  "language_info": {
   "codemirror_mode": {
    "name": "ipython",
    "version": 3
   },
   "file_extension": ".py",
   "mimetype": "text/x-python",
   "name": "python",
   "nbconvert_exporter": "python",
   "pygments_lexer": "ipython3",
   "version": "3.9.12"
  }
 },
 "nbformat": 4,
 "nbformat_minor": 1
}

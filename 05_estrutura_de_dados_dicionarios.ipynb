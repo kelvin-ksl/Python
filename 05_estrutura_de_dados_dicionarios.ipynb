{
 "cells": [
  {
   "cell_type": "markdown",
   "metadata": {},
   "source": [
    "# Curso de Python Básico\n",
    "\n",
    "Este é um curso básico de python que tem o objetivo de apresentar a linguagem python de uma **maneira rápida e objetiva**. Vamos direto ao ponto nos conceitos básicos da programação e python com muita mão na massa! \n",
    "\n",
    "Neste curso, vamos trabalhar no **modo iterativo** do python. Porém, entenda que você pode trabalhar no modo script com várias linhas de código usando um arquivo no formato .py.\n",
    "\n",
    "Ao final desse Curso, espero que você se aprenda python e se motive cada vez mais em utilizar a linguagem para diversas tarefas e problemas do mundo real.\n",
    "\n",
    "Este notebook vai apenas passar pelos tópicos básicos em ordem:\n",
    "\n",
    "* 2. Estrutura de dados\n",
    "    * 2.2 Dicionários"
   ]
  },
  {
   "cell_type": "markdown",
   "metadata": {},
   "source": [
    "## 2. Estrutura de Dados\n",
    "- Listas\n",
    "- Dicionários\n",
    "- Tuplas\n",
    "- Conjuntos"
   ]
  },
  {
   "cell_type": "markdown",
   "metadata": {},
   "source": [
    "#### 2.2 Dicionários\n",
    "Estrutura de dados utilizada para armazenar dados no formato de **chave-valor**. A chave é o campo utilizado para tipo imutável e o valor é um objeto de dados do python\n",
    "\n",
    "##### 2.2.1 Definição de Dicionários"
   ]
  },
  {
   "cell_type": "code",
   "execution_count": 1,
   "metadata": {
    "ExecuteTime": {
     "end_time": "2022-05-14T14:15:21.963721Z",
     "start_time": "2022-05-14T14:15:21.955722Z"
    }
   },
   "outputs": [],
   "source": [
    "d = {'chave1':'item1',\n",
    "     'chave2':'item2'}"
   ]
  },
  {
   "cell_type": "code",
   "execution_count": 2,
   "metadata": {
    "ExecuteTime": {
     "end_time": "2022-05-14T14:15:22.150741Z",
     "start_time": "2022-05-14T14:15:22.146742Z"
    }
   },
   "outputs": [],
   "source": [
    "json = {'Nome':'Nicksson',\n",
    "       'Idade': 50,\n",
    "       'profissão':'Motorista',\n",
    "       'telefone': ['tel1', 'tel2', 'tel3']}"
   ]
  },
  {
   "cell_type": "code",
   "execution_count": 3,
   "metadata": {
    "ExecuteTime": {
     "end_time": "2022-05-14T14:15:22.463241Z",
     "start_time": "2022-05-14T14:15:22.451241Z"
    }
   },
   "outputs": [
    {
     "data": {
      "text/plain": [
       "{'Nome': 'Nicksson',\n",
       " 'Idade': 50,\n",
       " 'profissão': 'Motorista',\n",
       " 'telefone': ['tel1', 'tel2', 'tel3']}"
      ]
     },
     "execution_count": 3,
     "metadata": {},
     "output_type": "execute_result"
    }
   ],
   "source": [
    "json"
   ]
  },
  {
   "cell_type": "code",
   "execution_count": 4,
   "metadata": {
    "ExecuteTime": {
     "end_time": "2022-05-14T14:15:23.129644Z",
     "start_time": "2022-05-14T14:15:23.122647Z"
    }
   },
   "outputs": [
    {
     "data": {
      "text/plain": [
       "{'Joao': [1, 2, 3], 'Maria': [1, 2, 3], 'José': [1, 2, 3]}"
      ]
     },
     "execution_count": 4,
     "metadata": {},
     "output_type": "execute_result"
    }
   ],
   "source": [
    "#Retorna um novo dicionário cujas chaves são os elementos de lista e cujos valores são todos iguais a valor\n",
    "dict.fromkeys([\"Joao\",\"Maria\",\"José\"],[1,2,3])"
   ]
  },
  {
   "cell_type": "markdown",
   "metadata": {
    "ExecuteTime": {
     "end_time": "2021-08-27T13:17:12.460923Z",
     "start_time": "2021-08-27T13:17:12.451926Z"
    }
   },
   "source": [
    "##### 2.2.2 Adicionando elementos em Dicionários"
   ]
  },
  {
   "cell_type": "code",
   "execution_count": 5,
   "metadata": {
    "ExecuteTime": {
     "end_time": "2022-05-14T14:15:24.095665Z",
     "start_time": "2022-05-14T14:15:24.082665Z"
    }
   },
   "outputs": [
    {
     "data": {
      "text/plain": [
       "{'Nome': 'Nicksson',\n",
       " 'Idade': 50,\n",
       " 'profissão': 'Motorista',\n",
       " 'telefone': ['tel1', 'tel2', 'tel3']}"
      ]
     },
     "execution_count": 5,
     "metadata": {},
     "output_type": "execute_result"
    }
   ],
   "source": [
    "json"
   ]
  },
  {
   "cell_type": "code",
   "execution_count": 6,
   "metadata": {
    "ExecuteTime": {
     "end_time": "2022-05-14T14:15:24.421069Z",
     "start_time": "2022-05-14T14:15:24.411070Z"
    }
   },
   "outputs": [
    {
     "data": {
      "text/plain": [
       "{'Nome': 'Nicksson',\n",
       " 'Idade': 50,\n",
       " 'profissão': 'Motorista',\n",
       " 'telefone': ['tel1', 'tel2', 'tel3']}"
      ]
     },
     "execution_count": 6,
     "metadata": {},
     "output_type": "execute_result"
    }
   ],
   "source": [
    "json"
   ]
  },
  {
   "cell_type": "code",
   "execution_count": 7,
   "metadata": {
    "ExecuteTime": {
     "end_time": "2022-05-14T14:15:24.997718Z",
     "start_time": "2022-05-14T14:15:24.986719Z"
    }
   },
   "outputs": [],
   "source": [
    "json['Idade'] = 28"
   ]
  },
  {
   "cell_type": "code",
   "execution_count": 8,
   "metadata": {
    "ExecuteTime": {
     "end_time": "2022-05-14T14:15:25.433014Z",
     "start_time": "2022-05-14T14:15:25.427184Z"
    }
   },
   "outputs": [],
   "source": [
    "json['estado civil'] = 'casado'"
   ]
  },
  {
   "cell_type": "code",
   "execution_count": 9,
   "metadata": {
    "ExecuteTime": {
     "end_time": "2022-05-14T14:15:25.666761Z",
     "start_time": "2022-05-14T14:15:25.650761Z"
    }
   },
   "outputs": [],
   "source": [
    "json['profissão'] = 'Cientista de Dados'"
   ]
  },
  {
   "cell_type": "code",
   "execution_count": 10,
   "metadata": {
    "ExecuteTime": {
     "end_time": "2022-05-14T14:15:25.853599Z",
     "start_time": "2022-05-14T14:15:25.842602Z"
    }
   },
   "outputs": [],
   "source": [
    "json['Endereço'] = 'Rua AAA, n 999'"
   ]
  },
  {
   "cell_type": "markdown",
   "metadata": {
    "ExecuteTime": {
     "end_time": "2021-08-27T13:33:28.035488Z",
     "start_time": "2021-08-27T13:33:28.022490Z"
    }
   },
   "source": [
    "##### 2.2.3 Acessando elementos em Dicionários"
   ]
  },
  {
   "cell_type": "code",
   "execution_count": 11,
   "metadata": {
    "ExecuteTime": {
     "end_time": "2022-05-14T14:15:26.242800Z",
     "start_time": "2022-05-14T14:15:26.235392Z"
    }
   },
   "outputs": [
    {
     "data": {
      "text/plain": [
       "dict_keys(['Nome', 'Idade', 'profissão', 'telefone', 'estado civil', 'Endereço'])"
      ]
     },
     "execution_count": 11,
     "metadata": {},
     "output_type": "execute_result"
    }
   ],
   "source": [
    "json.keys()"
   ]
  },
  {
   "cell_type": "code",
   "execution_count": 12,
   "metadata": {
    "ExecuteTime": {
     "end_time": "2022-05-14T14:15:26.427903Z",
     "start_time": "2022-05-14T14:15:26.410829Z"
    }
   },
   "outputs": [
    {
     "data": {
      "text/plain": [
       "dict_values(['Nicksson', 28, 'Cientista de Dados', ['tel1', 'tel2', 'tel3'], 'casado', 'Rua AAA, n 999'])"
      ]
     },
     "execution_count": 12,
     "metadata": {},
     "output_type": "execute_result"
    }
   ],
   "source": [
    "json.values()"
   ]
  },
  {
   "cell_type": "code",
   "execution_count": 13,
   "metadata": {
    "ExecuteTime": {
     "end_time": "2022-05-14T14:15:26.611567Z",
     "start_time": "2022-05-14T14:15:26.594567Z"
    }
   },
   "outputs": [
    {
     "data": {
      "text/plain": [
       "dict_items([('Nome', 'Nicksson'), ('Idade', 28), ('profissão', 'Cientista de Dados'), ('telefone', ['tel1', 'tel2', 'tel3']), ('estado civil', 'casado'), ('Endereço', 'Rua AAA, n 999')])"
      ]
     },
     "execution_count": 13,
     "metadata": {},
     "output_type": "execute_result"
    }
   ],
   "source": [
    "json.items()"
   ]
  },
  {
   "cell_type": "markdown",
   "metadata": {
    "ExecuteTime": {
     "end_time": "2021-08-27T13:37:13.141117Z",
     "start_time": "2021-08-27T13:37:13.137120Z"
    }
   },
   "source": [
    "##### 2.2.4 Removendo elementos em Dicionários"
   ]
  },
  {
   "cell_type": "code",
   "execution_count": 14,
   "metadata": {
    "ExecuteTime": {
     "end_time": "2022-05-14T14:15:26.969051Z",
     "start_time": "2022-05-14T14:15:26.963047Z"
    }
   },
   "outputs": [
    {
     "data": {
      "text/plain": [
       "{'Nome': 'Nicksson',\n",
       " 'Idade': 28,\n",
       " 'profissão': 'Cientista de Dados',\n",
       " 'telefone': ['tel1', 'tel2', 'tel3'],\n",
       " 'estado civil': 'casado',\n",
       " 'Endereço': 'Rua AAA, n 999'}"
      ]
     },
     "execution_count": 14,
     "metadata": {},
     "output_type": "execute_result"
    }
   ],
   "source": [
    "json"
   ]
  },
  {
   "cell_type": "code",
   "execution_count": 15,
   "metadata": {
    "ExecuteTime": {
     "end_time": "2022-05-14T14:15:27.140338Z",
     "start_time": "2022-05-14T14:15:27.123339Z"
    }
   },
   "outputs": [
    {
     "data": {
      "text/plain": [
       "'casado'"
      ]
     },
     "execution_count": 15,
     "metadata": {},
     "output_type": "execute_result"
    }
   ],
   "source": [
    "json.pop('estado civil')"
   ]
  },
  {
   "cell_type": "code",
   "execution_count": 16,
   "metadata": {
    "ExecuteTime": {
     "end_time": "2022-05-14T14:15:27.326029Z",
     "start_time": "2022-05-14T14:15:27.308661Z"
    }
   },
   "outputs": [],
   "source": [
    "del json['Idade']"
   ]
  },
  {
   "cell_type": "code",
   "execution_count": 17,
   "metadata": {
    "ExecuteTime": {
     "end_time": "2022-05-14T14:15:27.479323Z",
     "start_time": "2022-05-14T14:15:27.475324Z"
    }
   },
   "outputs": [
    {
     "data": {
      "text/plain": [
       "{'Nome': 'Nicksson',\n",
       " 'profissão': 'Cientista de Dados',\n",
       " 'telefone': ['tel1', 'tel2', 'tel3'],\n",
       " 'Endereço': 'Rua AAA, n 999'}"
      ]
     },
     "execution_count": 17,
     "metadata": {},
     "output_type": "execute_result"
    }
   ],
   "source": [
    "json"
   ]
  },
  {
   "cell_type": "code",
   "execution_count": 18,
   "metadata": {
    "ExecuteTime": {
     "end_time": "2022-05-14T14:15:27.650576Z",
     "start_time": "2022-05-14T14:15:27.635323Z"
    }
   },
   "outputs": [
    {
     "data": {
      "text/plain": [
       "('Endereço', 'Rua AAA, n 999')"
      ]
     },
     "execution_count": 18,
     "metadata": {},
     "output_type": "execute_result"
    }
   ],
   "source": [
    "json.popitem()"
   ]
  },
  {
   "cell_type": "code",
   "execution_count": 19,
   "metadata": {
    "ExecuteTime": {
     "end_time": "2022-05-14T14:15:27.804341Z",
     "start_time": "2022-05-14T14:15:27.787341Z"
    }
   },
   "outputs": [
    {
     "data": {
      "text/plain": [
       "{'Nome': 'Nicksson',\n",
       " 'profissão': 'Cientista de Dados',\n",
       " 'telefone': ['tel1', 'tel2', 'tel3']}"
      ]
     },
     "execution_count": 19,
     "metadata": {},
     "output_type": "execute_result"
    }
   ],
   "source": [
    "json"
   ]
  },
  {
   "cell_type": "code",
   "execution_count": 20,
   "metadata": {
    "ExecuteTime": {
     "end_time": "2022-05-14T14:15:27.929086Z",
     "start_time": "2022-05-14T14:15:27.923096Z"
    }
   },
   "outputs": [],
   "source": [
    "json.clear()"
   ]
  },
  {
   "cell_type": "code",
   "execution_count": 21,
   "metadata": {
    "ExecuteTime": {
     "end_time": "2022-05-14T14:15:28.083998Z",
     "start_time": "2022-05-14T14:15:28.066876Z"
    }
   },
   "outputs": [
    {
     "data": {
      "text/plain": [
       "{}"
      ]
     },
     "execution_count": 21,
     "metadata": {},
     "output_type": "execute_result"
    }
   ],
   "source": [
    "json"
   ]
  },
  {
   "cell_type": "markdown",
   "metadata": {},
   "source": [
    "##### 2.2.5 Criando dicionário a partir de duas listas"
   ]
  },
  {
   "cell_type": "code",
   "execution_count": 22,
   "metadata": {
    "ExecuteTime": {
     "end_time": "2022-05-14T14:15:28.363018Z",
     "start_time": "2022-05-14T14:15:28.355017Z"
    }
   },
   "outputs": [],
   "source": [
    "lista1 = [1, 2, 3, 4, 5]\n",
    "lista2 = ['v1', 'v2', 'v3', 'v4', 'v5']"
   ]
  },
  {
   "cell_type": "code",
   "execution_count": 23,
   "metadata": {
    "ExecuteTime": {
     "end_time": "2022-05-14T14:15:28.518358Z",
     "start_time": "2022-05-14T14:15:28.508362Z"
    }
   },
   "outputs": [
    {
     "data": {
      "text/plain": [
       "{1: 'v1', 2: 'v2', 3: 'v3', 4: 'v4', 5: 'v5'}"
      ]
     },
     "execution_count": 23,
     "metadata": {},
     "output_type": "execute_result"
    }
   ],
   "source": [
    "# A função zip pode ser usada para combitar duas listas facilmente\n",
    "my_dict = dict(zip(lista1, lista2))\n",
    "my_dict"
   ]
  },
  {
   "cell_type": "code",
   "execution_count": 24,
   "metadata": {
    "ExecuteTime": {
     "end_time": "2022-05-14T14:15:28.673525Z",
     "start_time": "2022-05-14T14:15:28.659524Z"
    }
   },
   "outputs": [
    {
     "data": {
      "text/plain": [
       "'v2'"
      ]
     },
     "execution_count": 24,
     "metadata": {},
     "output_type": "execute_result"
    }
   ],
   "source": [
    "my_dict[2]"
   ]
  },
  {
   "cell_type": "code",
   "execution_count": 25,
   "metadata": {
    "ExecuteTime": {
     "end_time": "2022-05-14T14:15:28.812497Z",
     "start_time": "2022-05-14T14:15:28.803494Z"
    }
   },
   "outputs": [],
   "source": [
    "# A função unzip pode ser usada para descombinar dados\n",
    "name_and_age = [('Joe', 23),\n",
    "                  ('Earnst', 65),\n",
    "                  ('Thomas', 11),\n",
    "                  ('Martin', 36),\n",
    "                  ('Charles', 83)]"
   ]
  },
  {
   "cell_type": "code",
   "execution_count": 26,
   "metadata": {
    "ExecuteTime": {
     "end_time": "2022-05-14T14:15:28.935751Z",
     "start_time": "2022-05-14T14:15:28.923751Z"
    }
   },
   "outputs": [],
   "source": [
    "nomes, idades = zip(*name_and_age)"
   ]
  },
  {
   "cell_type": "code",
   "execution_count": 27,
   "metadata": {
    "ExecuteTime": {
     "end_time": "2022-05-14T14:15:29.106382Z",
     "start_time": "2022-05-14T14:15:29.091382Z"
    }
   },
   "outputs": [
    {
     "data": {
      "text/plain": [
       "('Joe', 'Earnst', 'Thomas', 'Martin', 'Charles')"
      ]
     },
     "execution_count": 27,
     "metadata": {},
     "output_type": "execute_result"
    }
   ],
   "source": [
    "nomes"
   ]
  },
  {
   "cell_type": "code",
   "execution_count": 28,
   "metadata": {
    "ExecuteTime": {
     "end_time": "2022-05-14T14:15:29.369478Z",
     "start_time": "2022-05-14T14:15:29.355471Z"
    }
   },
   "outputs": [
    {
     "data": {
      "text/plain": [
       "(23, 65, 11, 36, 83)"
      ]
     },
     "execution_count": 28,
     "metadata": {},
     "output_type": "execute_result"
    }
   ],
   "source": [
    "idades"
   ]
  },
  {
   "cell_type": "markdown",
   "metadata": {},
   "source": [
    "## Agora é sua vez!"
   ]
  },
  {
   "cell_type": "markdown",
   "metadata": {},
   "source": [
    "**1) Crie um dicionário com seu nome, telefone e email. Mostre agora somente as chaves desse dicionário!**"
   ]
  },
  {
   "cell_type": "code",
   "execution_count": 7,
   "metadata": {},
   "outputs": [
    {
     "data": {
      "text/plain": [
       "dict_keys(['Nome', 'Idade', 'telefone', 'email'])"
      ]
     },
     "execution_count": 7,
     "metadata": {},
     "output_type": "execute_result"
    }
   ],
   "source": [
    "dicionario = {'Nome':'Kelvin',\n",
    "               'Idade': 22,\n",
    "               'telefone': ['tel1','tel3'],\n",
    "               'email':'kelvin@hotmailcom'}\n",
    "dicionario.keys()"
   ]
  },
  {
   "cell_type": "markdown",
   "metadata": {},
   "source": [
    "**2) Adicione o seu trabalho neste dicionário**"
   ]
  },
  {
   "cell_type": "code",
   "execution_count": 8,
   "metadata": {},
   "outputs": [
    {
     "data": {
      "text/plain": [
       "{'Nome': 'Kelvin',\n",
       " 'Idade': 22,\n",
       " 'telefone': ['tel1', 'tel3'],\n",
       " 'email': 'kelvin@hotmailcom',\n",
       " 'profissão': 'bolsista'}"
      ]
     },
     "execution_count": 8,
     "metadata": {},
     "output_type": "execute_result"
    }
   ],
   "source": [
    "dicionario['profissão'] = 'bolsista'\n",
    "dicionario"
   ]
  },
  {
   "cell_type": "markdown",
   "metadata": {},
   "source": [
    "**3) Remova o dado de telefone do seu dicionário**"
   ]
  },
  {
   "cell_type": "code",
   "execution_count": 12,
   "metadata": {},
   "outputs": [
    {
     "data": {
      "text/plain": [
       "{'Nome': 'Kelvin',\n",
       " 'Idade': 22,\n",
       " 'email': 'kelvin@hotmailcom',\n",
       " 'profissão': 'bolsista'}"
      ]
     },
     "execution_count": 12,
     "metadata": {},
     "output_type": "execute_result"
    }
   ],
   "source": [
    "del dicionario['telefone']\n",
    "dicionario"
   ]
  },
  {
   "cell_type": "markdown",
   "metadata": {},
   "source": [
    "**4) Crie um lista com 5 nomes e uma lista com 5 telefones. Crie um dicionário a partir d**"
   ]
  },
  {
   "cell_type": "code",
   "execution_count": 14,
   "metadata": {},
   "outputs": [
    {
     "data": {
      "text/plain": [
       "dict_keys(['nome', 'telefone'])"
      ]
     },
     "execution_count": 14,
     "metadata": {},
     "output_type": "execute_result"
    }
   ],
   "source": [
    "lista = {'nome' : ['kelvin','dunha','ciclano','fulano','detlano'],\n",
    "         'telefone' : ['123','456','567','890','059']}\n",
    "\n",
    "lista.keys()"
   ]
  },
  {
   "cell_type": "code",
   "execution_count": 15,
   "metadata": {},
   "outputs": [
    {
     "data": {
      "text/plain": [
       "dict_values([['kelvin', 'dunha', 'ciclano', 'fulano', 'detlano'], ['123', '456', '567', '890', '059']])"
      ]
     },
     "execution_count": 15,
     "metadata": {},
     "output_type": "execute_result"
    }
   ],
   "source": [
    "lista.values()"
   ]
  },
  {
   "cell_type": "code",
   "execution_count": null,
   "metadata": {},
   "outputs": [],
   "source": []
  }
 ],
 "metadata": {
  "kernelspec": {
   "display_name": "Python 3 (ipykernel)",
   "language": "python",
   "name": "python3"
  },
  "language_info": {
   "codemirror_mode": {
    "name": "ipython",
    "version": 3
   },
   "file_extension": ".py",
   "mimetype": "text/x-python",
   "name": "python",
   "nbconvert_exporter": "python",
   "pygments_lexer": "ipython3",
   "version": "3.9.12"
  }
 },
 "nbformat": 4,
 "nbformat_minor": 1
}

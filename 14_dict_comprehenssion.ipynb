{
 "cells": [
  {
   "cell_type": "markdown",
   "metadata": {},
   "source": [
    "# Curso de Python Básico\n",
    "\n",
    "Este é um curso básico de python que tem o objetivo de apresentar a linguagem python de uma **maneira rápida e objetiva**. Vamos direto ao ponto nos conceitos básicos da programação e python com muita mão na massa! \n",
    "\n",
    "Neste curso, vamos trabalhar no **modo iterativo** do python. Porém, entenda que você pode trabalhar no modo script com várias linhas de código usando um arquivo no formato .py.\n",
    "\n",
    "Ao final desse Curso, espero que você se aprenda python e se motive cada vez mais em utilizar a linguagem para diversas tarefas e problemas do mundo real.\n",
    "\n",
    "Este notebook vai apenas passar pelos tópicos básicos em ordem:"
   ]
  },
  {
   "cell_type": "markdown",
   "metadata": {},
   "source": [
    "###  8. Python Intermediario\n",
    "\n",
    "##### 8.1 Compreensão de Dicionários (Dict comprehension)\n",
    "É uma estrutura disponível em algumas linguagens de programação para  criar dicionários baseados em dicionários existentes. Use dict comprehension para deixar o código mais robusto "
   ]
  },
  {
   "cell_type": "code",
   "execution_count": 9,
   "metadata": {
    "ExecuteTime": {
     "end_time": "2022-06-20T13:16:00.133512Z",
     "start_time": "2022-06-20T13:16:00.123484Z"
    }
   },
   "outputs": [],
   "source": [
    "dic = {1:'impar', 2:'par', 3:'impar', 4:'par'}"
   ]
  },
  {
   "cell_type": "markdown",
   "metadata": {
    "ExecuteTime": {
     "end_time": "2022-06-20T12:06:05.579687Z",
     "start_time": "2022-06-20T12:06:05.576688Z"
    }
   },
   "source": [
    "**Estrutura básica:**\n",
    "- {retorne k1:v1 | para a iteração}"
   ]
  },
  {
   "cell_type": "code",
   "execution_count": 3,
   "metadata": {
    "ExecuteTime": {
     "end_time": "2022-06-20T13:16:00.145500Z",
     "start_time": "2022-06-20T13:16:00.135484Z"
    }
   },
   "outputs": [
    {
     "data": {
      "text/plain": [
       "{1: 'impar', 2: 'par', 3: 'impar', 4: 'par'}"
      ]
     },
     "execution_count": 3,
     "metadata": {},
     "output_type": "execute_result"
    }
   ],
   "source": [
    "{k: v for k,v in dic.items()}"
   ]
  },
  {
   "cell_type": "markdown",
   "metadata": {
    "ExecuteTime": {
     "end_time": "2022-06-20T12:06:23.183384Z",
     "start_time": "2022-06-20T12:06:23.178389Z"
    }
   },
   "source": [
    "**Estrutura com if:**\n",
    "- {retorne k1:v1 | para a iteração | if a condição ocorrer}"
   ]
  },
  {
   "cell_type": "code",
   "execution_count": 4,
   "metadata": {
    "ExecuteTime": {
     "end_time": "2022-06-20T13:16:00.222492Z",
     "start_time": "2022-06-20T13:16:00.216483Z"
    }
   },
   "outputs": [
    {
     "data": {
      "text/plain": [
       "{2: 'par', 4: 'par'}"
      ]
     },
     "execution_count": 4,
     "metadata": {},
     "output_type": "execute_result"
    }
   ],
   "source": [
    "{k: v for k,v in dic.items() if v=='par'}"
   ]
  },
  {
   "cell_type": "code",
   "execution_count": 5,
   "metadata": {
    "ExecuteTime": {
     "end_time": "2022-06-20T13:16:00.541485Z",
     "start_time": "2022-06-20T13:16:00.535510Z"
    }
   },
   "outputs": [
    {
     "data": {
      "text/plain": [
       "{2: 'par', 4: 'par'}"
      ]
     },
     "execution_count": 5,
     "metadata": {},
     "output_type": "execute_result"
    }
   ],
   "source": [
    "{k: v for k,v in dic.items() if k%2==0}"
   ]
  },
  {
   "cell_type": "markdown",
   "metadata": {
    "ExecuteTime": {
     "end_time": "2022-06-20T12:07:15.186462Z",
     "start_time": "2022-06-20T12:07:15.181424Z"
    }
   },
   "source": [
    "**Estrutura com if e else:**\n",
    "- {retorne k1 | se a condição ocorrer| else retorne k1+1: v | para a iteração}"
   ]
  },
  {
   "cell_type": "code",
   "execution_count": 6,
   "metadata": {
    "ExecuteTime": {
     "end_time": "2022-06-20T13:16:01.309823Z",
     "start_time": "2022-06-20T13:16:01.303850Z"
    }
   },
   "outputs": [
    {
     "data": {
      "text/plain": [
       "{2: 'par', 4: 'par'}"
      ]
     },
     "execution_count": 6,
     "metadata": {},
     "output_type": "execute_result"
    }
   ],
   "source": [
    "{k if k%2==0 \n",
    " else k+1:v \n",
    " for k,v in dic.items()}"
   ]
  },
  {
   "cell_type": "markdown",
   "metadata": {
    "ExecuteTime": {
     "end_time": "2022-06-20T12:26:49.221148Z",
     "start_time": "2022-06-20T12:26:49.215147Z"
    }
   },
   "source": [
    "**Estrutura com if e else:**\n",
    "- {retorne k: v | se a condição ocorrer| else retorne v2 | para a iteração}"
   ]
  },
  {
   "cell_type": "code",
   "execution_count": 7,
   "metadata": {
    "ExecuteTime": {
     "end_time": "2022-06-20T13:16:02.326407Z",
     "start_time": "2022-06-20T13:16:02.319406Z"
    }
   },
   "outputs": [
    {
     "data": {
      "text/plain": [
       "{1: 'IMPAR', 2: 'par', 3: 'IMPAR', 4: 'par'}"
      ]
     },
     "execution_count": 7,
     "metadata": {},
     "output_type": "execute_result"
    }
   ],
   "source": [
    "{k: v if v=='par' \n",
    " else v.upper() \n",
    " for k,v in dic.items()}"
   ]
  },
  {
   "cell_type": "markdown",
   "metadata": {
    "ExecuteTime": {
     "end_time": "2022-06-20T12:30:26.428118Z",
     "start_time": "2022-06-20T12:30:26.421124Z"
    }
   },
   "source": [
    "**Estrutura com if e else if e else:**\n",
    "- {retorne k: v | se a condição ocorrer| else retorne v2 | para a iteração}"
   ]
  },
  {
   "cell_type": "code",
   "execution_count": 11,
   "metadata": {
    "ExecuteTime": {
     "end_time": "2022-06-20T13:16:03.410962Z",
     "start_time": "2022-06-20T13:16:03.406967Z"
    }
   },
   "outputs": [
    {
     "data": {
      "text/plain": [
       "{'ferrari': 1299000, 'lamborghini': 1100000, 'porsche': 759000, 'gol': 50000}"
      ]
     },
     "execution_count": 11,
     "metadata": {},
     "output_type": "execute_result"
    }
   ],
   "source": [
    "carros = {  \n",
    "  'ferrari': 1299000,\n",
    "  'lamborghini': 1100000,\n",
    "  'porsche': 759000,\n",
    "  'gol': 50000\n",
    "}\n",
    "carros"
   ]
  },
  {
   "cell_type": "code",
   "execution_count": 9,
   "metadata": {
    "ExecuteTime": {
     "end_time": "2022-06-20T13:16:03.981117Z",
     "start_time": "2022-06-20T13:16:03.975160Z"
    }
   },
   "outputs": [
    {
     "data": {
      "text/plain": [
       "{'FERRARI': '1299000 R$',\n",
       " 'LAMBORGHINI': '1100000 R$',\n",
       " 'PORSCHE': '759000 R$',\n",
       " 'GOL': 'valor abaixo de 100000 R$'}"
      ]
     },
     "execution_count": 9,
     "metadata": {},
     "output_type": "execute_result"
    }
   ],
   "source": [
    "dic = {k.upper(): \n",
    " 'valor abaixo de 100000 R$' if v < 100000 else\n",
    " 'valor acima de 100000 R$' if v < 100000 else '{} R$'.format(v)\n",
    " for k, v in carros.items()\n",
    "}\n",
    "dic"
   ]
  },
  {
   "cell_type": "code",
   "execution_count": null,
   "metadata": {},
   "outputs": [],
   "source": []
  },
  {
   "cell_type": "markdown",
   "metadata": {},
   "source": [
    "# Agora é sua vez"
   ]
  },
  {
   "cell_type": "markdown",
   "metadata": {
    "ExecuteTime": {
     "end_time": "2021-09-27T19:16:33.728027Z",
     "start_time": "2021-09-27T19:16:33.719025Z"
    }
   },
   "source": [
    "**1) Crie um dicionário, onde a chave é um número inteiro e os valores são três elementos inteiros de 0 a 10**"
   ]
  },
  {
   "cell_type": "code",
   "execution_count": 5,
   "metadata": {
    "ExecuteTime": {
     "end_time": "2022-06-20T12:54:38.964779Z",
     "start_time": "2022-06-20T12:54:38.960625Z"
    }
   },
   "outputs": [],
   "source": [
    "# Aceita tanto parêteses ou conchetes\n",
    "dict = {1: [3,4,5], 2: (5,4,3), 3: (5,9,4)}"
   ]
  },
  {
   "cell_type": "code",
   "execution_count": 6,
   "metadata": {},
   "outputs": [
    {
     "data": {
      "text/plain": [
       "{1: [3, 4, 5], 2: (5, 4, 3), 3: (5, 9, 4)}"
      ]
     },
     "execution_count": 6,
     "metadata": {},
     "output_type": "execute_result"
    }
   ],
   "source": [
    "{key: value for (key,value) in dict.items()}"
   ]
  },
  {
   "cell_type": "markdown",
   "metadata": {
    "ExecuteTime": {
     "end_time": "2022-06-06T19:40:32.887422Z",
     "start_time": "2022-06-06T19:40:32.871907Z"
    }
   },
   "source": [
    "**2) Desenvolva um código usando dicionary comprehension para retornar as chaves e a soma dos valores da lista** \n",
    "- Input:  {4: [4,1,6], 3: [5,3,9], 2: [8,2,10]}    \n",
    "- Output:  {4: 11, 3: 17, 2: 20}"
   ]
  },
  {
   "cell_type": "code",
   "execution_count": 11,
   "metadata": {
    "ExecuteTime": {
     "end_time": "2022-06-20T12:54:40.759960Z",
     "start_time": "2022-06-20T12:54:40.754684Z"
    },
    "scrolled": true
   },
   "outputs": [],
   "source": [
    "dict = { 4: (4,1,6), 3: [5,3,9], 2: (8,2,10) }"
   ]
  },
  {
   "cell_type": "code",
   "execution_count": 12,
   "metadata": {
    "scrolled": true
   },
   "outputs": [
    {
     "data": {
      "text/plain": [
       "{4: 11, 3: 17, 2: 20}"
      ]
     },
     "execution_count": 12,
     "metadata": {},
     "output_type": "execute_result"
    }
   ],
   "source": [
    "{key: value for (key,value) in dic.items()}\n",
    "soma_dic = { key: sum(value) for (key, value) in dict.items() }\n",
    "soma_dic"
   ]
  },
  {
   "cell_type": "markdown",
   "metadata": {
    "ExecuteTime": {
     "end_time": "2021-09-27T19:24:18.167685Z",
     "start_time": "2021-09-27T19:24:18.152685Z"
    }
   },
   "source": [
    "**3) Crie um dict comprehension que irá retornar um dicionário que possuem valores para as chaves pares. Some um (value + 1) para todos os valores que forem impares**                                       \n",
    "- Input: {4: 11, 3: 17, 2: 20}\n",
    "- Output: {4: 12, 3: 18, 2: 21}"
   ]
  },
  {
   "cell_type": "code",
   "execution_count": 13,
   "metadata": {
    "ExecuteTime": {
     "end_time": "2022-06-20T12:54:50.671868Z",
     "start_time": "2022-06-20T12:54:50.666889Z"
    }
   },
   "outputs": [
    {
     "data": {
      "text/plain": [
       "{4: 12, 3: 18, 2: 21}"
      ]
     },
     "execution_count": 13,
     "metadata": {},
     "output_type": "execute_result"
    }
   ],
   "source": [
    "dict = { 4: 11, 3: 17, 2: 20 }\n",
    "{key if key%2!=0 \n",
    " else key: value+1\n",
    " for key,value in dict.items()}"
   ]
  },
  {
   "cell_type": "markdown",
   "metadata": {
    "ExecuteTime": {
     "end_time": "2022-06-20T12:56:44.632982Z",
     "start_time": "2022-06-20T12:56:44.628973Z"
    }
   },
   "source": [
    "**4) Crie um dict comprehension que irá receber um dicionário de produtos com seus valores em dólar. De acordo com a cotação do dólar hoje, retorne um dicionário com os valores em reais**                                       \n",
    "- Input: \n",
    "    - produtos_em_dolar = {'milk': 1.02, 'coffee': 2.50, 'bread': 2.50'}\n",
    "    - dolar_hoje = 5.06\n",
    "- Output: \n",
    "    - {'milk': '5.16 reais', 'coffee': '12.65 reais', 'bread': '12.65 reais'}"
   ]
  },
  {
   "cell_type": "code",
   "execution_count": 76,
   "metadata": {},
   "outputs": [
    {
     "data": {
      "text/plain": [
       "{'milk': 1.02, 'coffee': 2.5, 'bread': 2.5}"
      ]
     },
     "execution_count": 76,
     "metadata": {},
     "output_type": "execute_result"
    }
   ],
   "source": [
    "produtos_em_dolar = {  \n",
    "  'milk': 1.02,\n",
    "  'coffee': 2.50,\n",
    "  'bread': 2.50\n",
    "}\n",
    "\n",
    "dolar_hoje = 5.06\n",
    "\n",
    "produtos_em_dolar"
   ]
  },
  {
   "cell_type": "code",
   "execution_count": 80,
   "metadata": {
    "ExecuteTime": {
     "end_time": "2022-06-20T13:23:06.631688Z",
     "start_time": "2022-06-20T13:23:06.627724Z"
    }
   },
   "outputs": [
    {
     "data": {
      "text/plain": [
       "{'milk': 0.20158102766798422,\n",
       " 'coffee': 0.4940711462450593,\n",
       " 'bread': 0.4940711462450593}"
      ]
     },
     "execution_count": 80,
     "metadata": {},
     "output_type": "execute_result"
    }
   ],
   "source": [
    "double_produtos_em_dolar = { key: value/dolar_hoje for (key, value) in produtos_em_dolar.items() }\n",
    "double_produtos_em_dolar"
   ]
  },
  {
   "cell_type": "code",
   "execution_count": null,
   "metadata": {},
   "outputs": [],
   "source": []
  }
 ],
 "metadata": {
  "kernelspec": {
   "display_name": "Python 3 (ipykernel)",
   "language": "python",
   "name": "python3"
  },
  "language_info": {
   "codemirror_mode": {
    "name": "ipython",
    "version": 3
   },
   "file_extension": ".py",
   "mimetype": "text/x-python",
   "name": "python",
   "nbconvert_exporter": "python",
   "pygments_lexer": "ipython3",
   "version": "3.9.12"
  }
 },
 "nbformat": 4,
 "nbformat_minor": 1
}

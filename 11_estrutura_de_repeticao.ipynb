{
 "cells": [
  {
   "cell_type": "markdown",
   "metadata": {},
   "source": [
    "# Curso de Python Básico\n",
    "\n",
    "Este é um curso básico de python que tem o objetivo de apresentar a linguagem python de uma **maneira rápida e objetiva**. Vamos direto ao ponto nos conceitos básicos da programação e python com muita mão na massa! \n",
    "\n",
    "Neste curso, vamos trabalhar no **modo iterativo** do python. Porém, entenda que você pode trabalhar no modo script com várias linhas de código usando um arquivo no formato .py.\n",
    "\n",
    "Ao final desse Curso, espero que você se aprenda python e se motive cada vez mais em utilizar a linguagem para diversas tarefas e problemas do mundo real.\n",
    "\n",
    "Este notebook vai apenas passar pelos tópicos básicos em ordem:\n",
    "\n",
    "* 6. Estrutura de Repetição\n",
    "    * 6.1 for \n",
    "    * 6.2 range\n",
    "    * 6.3 while \n",
    "    * 6.4 while-else\n",
    "    * 6.5 break"
   ]
  },
  {
   "cell_type": "markdown",
   "metadata": {},
   "source": [
    "## 6. Estrutura de Repetição\n",
    "- for\n",
    "- range\n",
    "- while\n",
    "- while-else"
   ]
  },
  {
   "cell_type": "code",
   "execution_count": 1,
   "metadata": {
    "ExecuteTime": {
     "end_time": "2021-09-28T16:43:05.518688Z",
     "start_time": "2021-09-28T16:43:05.507689Z"
    }
   },
   "outputs": [],
   "source": [
    "minha_lista = [0,1,2,3,4,5]"
   ]
  },
  {
   "cell_type": "markdown",
   "metadata": {},
   "source": [
    "##### 6.1 for"
   ]
  },
  {
   "cell_type": "code",
   "execution_count": 3,
   "metadata": {
    "ExecuteTime": {
     "end_time": "2021-09-28T16:44:56.600231Z",
     "start_time": "2021-09-28T16:44:56.586230Z"
    }
   },
   "outputs": [
    {
     "name": "stdout",
     "output_type": "stream",
     "text": [
      "0\n",
      "1\n",
      "2\n",
      "3\n",
      "4\n",
      "5\n"
     ]
    }
   ],
   "source": [
    "for i in [0,1,2,3,4,5]:\n",
    "    print(i)"
   ]
  },
  {
   "cell_type": "code",
   "execution_count": 4,
   "metadata": {
    "ExecuteTime": {
     "end_time": "2021-09-28T16:45:30.874235Z",
     "start_time": "2021-09-28T16:45:30.867235Z"
    }
   },
   "outputs": [],
   "source": [
    "nomes = ['Nicksson','Paulo','Joao']"
   ]
  },
  {
   "cell_type": "code",
   "execution_count": 5,
   "metadata": {
    "ExecuteTime": {
     "end_time": "2021-09-28T16:45:31.059344Z",
     "start_time": "2021-09-28T16:45:31.050343Z"
    }
   },
   "outputs": [
    {
     "name": "stdout",
     "output_type": "stream",
     "text": [
      "Nicksson\n",
      "Paulo\n",
      "Joao\n"
     ]
    }
   ],
   "source": [
    "for n in nomes:\n",
    "    print(n)"
   ]
  },
  {
   "cell_type": "code",
   "execution_count": 6,
   "metadata": {
    "ExecuteTime": {
     "end_time": "2021-09-28T16:45:38.641838Z",
     "start_time": "2021-09-28T16:45:38.633838Z"
    }
   },
   "outputs": [
    {
     "name": "stdout",
     "output_type": "stream",
     "text": [
      "!\n",
      "!\n",
      "!\n"
     ]
    }
   ],
   "source": [
    "for n in nomes:\n",
    "    print('!')"
   ]
  },
  {
   "cell_type": "code",
   "execution_count": 7,
   "metadata": {
    "ExecuteTime": {
     "end_time": "2021-09-28T16:45:44.749453Z",
     "start_time": "2021-09-28T16:45:44.738453Z"
    }
   },
   "outputs": [
    {
     "name": "stdout",
     "output_type": "stream",
     "text": [
      "NickssonNicksson\n",
      "PauloPaulo\n",
      "JoaoJoao\n"
     ]
    }
   ],
   "source": [
    "for n in nomes:\n",
    "    print(n+n)"
   ]
  },
  {
   "cell_type": "markdown",
   "metadata": {},
   "source": [
    "##### 6.2 range()\n",
    "A função **range()** retorna uma série numérica no intervalo enviado como argumento. A série retornada é um **objeto iterável** tipo range e os elementos contidos serão gerados sob demanda."
   ]
  },
  {
   "cell_type": "code",
   "execution_count": 8,
   "metadata": {
    "ExecuteTime": {
     "end_time": "2021-09-28T16:46:50.994629Z",
     "start_time": "2021-09-28T16:46:50.978629Z"
    }
   },
   "outputs": [
    {
     "data": {
      "text/plain": [
       "range(0, 5)"
      ]
     },
     "execution_count": 8,
     "metadata": {},
     "output_type": "execute_result"
    }
   ],
   "source": [
    "range(5)"
   ]
  },
  {
   "cell_type": "code",
   "execution_count": 9,
   "metadata": {
    "ExecuteTime": {
     "end_time": "2021-09-28T16:47:01.114866Z",
     "start_time": "2021-09-28T16:47:01.105866Z"
    }
   },
   "outputs": [
    {
     "data": {
      "text/plain": [
       "[0, 1, 2, 3, 4]"
      ]
     },
     "execution_count": 9,
     "metadata": {},
     "output_type": "execute_result"
    }
   ],
   "source": [
    "list(range(5))"
   ]
  },
  {
   "cell_type": "code",
   "execution_count": 15,
   "metadata": {
    "ExecuteTime": {
     "end_time": "2021-09-28T16:47:25.003156Z",
     "start_time": "2021-09-28T16:47:24.986158Z"
    }
   },
   "outputs": [
    {
     "data": {
      "text/plain": [
       "[0, 10, 20, 30, 40, 50, 60, 70, 80, 90, 100]"
      ]
     },
     "execution_count": 15,
     "metadata": {},
     "output_type": "execute_result"
    }
   ],
   "source": [
    "list(range(0, 101, 10))"
   ]
  },
  {
   "cell_type": "code",
   "execution_count": 12,
   "metadata": {
    "ExecuteTime": {
     "end_time": "2021-09-28T16:48:06.389807Z",
     "start_time": "2021-09-28T16:48:06.385806Z"
    }
   },
   "outputs": [
    {
     "name": "stdout",
     "output_type": "stream",
     "text": [
      "1\n",
      "3\n",
      "5\n",
      "7\n",
      "9\n",
      "11\n",
      "13\n",
      "15\n",
      "17\n",
      "19\n",
      "21\n",
      "23\n",
      "25\n",
      "27\n",
      "29\n",
      "31\n",
      "33\n",
      "35\n",
      "37\n",
      "39\n",
      "41\n",
      "43\n",
      "45\n",
      "47\n",
      "49\n",
      "51\n",
      "53\n",
      "55\n",
      "57\n",
      "59\n",
      "61\n",
      "63\n",
      "65\n",
      "67\n",
      "69\n",
      "71\n",
      "73\n",
      "75\n",
      "77\n",
      "79\n",
      "81\n",
      "83\n",
      "85\n",
      "87\n",
      "89\n",
      "91\n",
      "93\n",
      "95\n",
      "97\n",
      "99\n"
     ]
    }
   ],
   "source": [
    "for i in range(0, 101, 2):\n",
    "    print(i)"
   ]
  },
  {
   "cell_type": "markdown",
   "metadata": {},
   "source": [
    "##### 6.3 while"
   ]
  },
  {
   "cell_type": "code",
   "execution_count": 17,
   "metadata": {
    "ExecuteTime": {
     "end_time": "2021-09-28T16:53:04.859203Z",
     "start_time": "2021-09-28T16:53:04.847200Z"
    }
   },
   "outputs": [
    {
     "name": "stdout",
     "output_type": "stream",
     "text": [
      "i is: 1\n",
      "i is: 2\n",
      "i is: 3\n",
      "i is: 4\n",
      "i is: 5\n"
     ]
    }
   ],
   "source": [
    "i = 1\n",
    "while i <= 5:\n",
    "    print('i is: {}'.format(i))\n",
    "    i = i+1"
   ]
  },
  {
   "cell_type": "markdown",
   "metadata": {},
   "source": [
    "##### 6.4 while-else"
   ]
  },
  {
   "cell_type": "code",
   "execution_count": 18,
   "metadata": {
    "ExecuteTime": {
     "end_time": "2021-09-28T16:56:26.257844Z",
     "start_time": "2021-09-28T16:56:26.247842Z"
    }
   },
   "outputs": [
    {
     "name": "stdout",
     "output_type": "stream",
     "text": [
      "i is: 1\n",
      "i is: 2\n",
      "i is: 3\n",
      "i is: 4\n",
      "i is: 5\n",
      "Loop Encerrado\n"
     ]
    }
   ],
   "source": [
    "i = 1\n",
    "while i <= 5:\n",
    "    print('i is: {}'.format(i))\n",
    "    i = i+1\n",
    "else:\n",
    "    print('Loop Encerrado')"
   ]
  },
  {
   "cell_type": "markdown",
   "metadata": {
    "ExecuteTime": {
     "end_time": "2021-08-27T17:57:16.522394Z",
     "start_time": "2021-08-27T17:57:16.510394Z"
    }
   },
   "source": [
    "##### 6.5 break\n",
    "\n",
    "utilizado quando não se sabe o momento certo de parar a iteração"
   ]
  },
  {
   "cell_type": "code",
   "execution_count": null,
   "metadata": {
    "ExecuteTime": {
     "end_time": "2021-09-28T16:58:35.487318Z",
     "start_time": "2021-09-28T16:58:35.470319Z"
    }
   },
   "outputs": [],
   "source": [
    "x = 10\n",
    "while True:\n",
    "    print(x)\n",
    "    if x < 1:\n",
    "        break\n",
    "    x = x/2"
   ]
  },
  {
   "cell_type": "code",
   "execution_count": null,
   "metadata": {},
   "outputs": [],
   "source": []
  },
  {
   "cell_type": "markdown",
   "metadata": {},
   "source": [
    "## Agora é sua vez"
   ]
  },
  {
   "cell_type": "markdown",
   "metadata": {
    "ExecuteTime": {
     "end_time": "2021-09-27T19:05:53.516582Z",
     "start_time": "2021-09-27T19:05:53.499580Z"
    }
   },
   "source": [
    "**1) Faça um programa que peça uma nota, entre zero e dez. Mostre uma mensagem caso o valor seja inválido e continue pedindo até que o usuário informe um valor válido.** Use \"input\" para receber o dado no seu programa"
   ]
  },
  {
   "cell_type": "code",
   "execution_count": 14,
   "metadata": {},
   "outputs": [
    {
     "name": "stdout",
     "output_type": "stream",
     "text": [
      "digita a nota8\n",
      "valor valido\n"
     ]
    }
   ],
   "source": [
    "nota = int(input(\"digita a nota\"))\n",
    "if nota > 10:\n",
    "    print(\"valor invalido\")\n",
    "elif nota < 0:\n",
    "    print(\"valor invalido\")\n",
    "else:\n",
    "    print(\"valor valido\")"
   ]
  },
  {
   "cell_type": "markdown",
   "metadata": {},
   "source": [
    "**2) Faça um programa que leia 5 números e informe o maior número.** "
   ]
  },
  {
   "cell_type": "code",
   "execution_count": 44,
   "metadata": {},
   "outputs": [
    {
     "name": "stdout",
     "output_type": "stream",
     "text": [
      "digite o 1 numero: 3\n",
      "digite o 2 numero: 4\n",
      "digite o 3 numero: 56\n",
      "digite o 4 numero: 8\n",
      "digite o 5 numero: 3\n",
      "O maior numero é  56\n"
     ]
    }
   ],
   "source": [
    "numeros = []\n",
    "for num in range(1, 6):\n",
    "    numeros.append(int(input(\"digite o {} numero: \".format(num))))\n",
    "    maiorNumero = numeros[0]\n",
    "cont = 1\n",
    "while cont < len(numeros):\n",
    "    if numeros[cont] > maiorNumero:\n",
    "        maiorNumero = numeros[cont]\n",
    "    cont = cont + 1\n",
    "        \n",
    "print (\"O maior numero é \", maiorNumero)"
   ]
  },
  {
   "cell_type": "markdown",
   "metadata": {
    "ExecuteTime": {
     "end_time": "2021-09-27T19:07:20.231651Z",
     "start_time": "2021-09-27T19:07:20.226649Z"
    }
   },
   "source": [
    "#### **3) Faça um programa que imprima na tela apenas os números ímpares entre 1 e 50**"
   ]
  },
  {
   "cell_type": "code",
   "execution_count": 68,
   "metadata": {},
   "outputs": [
    {
     "name": "stdout",
     "output_type": "stream",
     "text": [
      "1\n",
      "3\n",
      "5\n",
      "7\n",
      "9\n",
      "11\n",
      "13\n",
      "15\n",
      "17\n",
      "19\n",
      "21\n",
      "23\n",
      "25\n",
      "27\n",
      "29\n",
      "31\n",
      "33\n",
      "35\n",
      "37\n",
      "39\n",
      "41\n",
      "43\n",
      "45\n",
      "47\n",
      "49\n"
     ]
    }
   ],
   "source": [
    "for n in range(1,51,2):\n",
    "    print (n)"
   ]
  },
  {
   "cell_type": "markdown",
   "metadata": {
    "ExecuteTime": {
     "end_time": "2021-09-27T19:07:51.148158Z",
     "start_time": "2021-09-27T19:07:51.140159Z"
    }
   },
   "source": [
    "**4) Faça um programa que imprima a sequência de fibonacci a partir do  n−ésimo termo da sequência**"
   ]
  },
  {
   "cell_type": "code",
   "execution_count": 71,
   "metadata": {},
   "outputs": [
    {
     "name": "stdout",
     "output_type": "stream",
     "text": [
      "Que termo deseja encontrar: 9\n",
      "34\n"
     ]
    }
   ],
   "source": [
    "n = int(input(\"Que termo deseja encontrar: \"))\n",
    "ultimo=1\n",
    "penultimo=1\n",
    "\n",
    "if (n==1) or (n==2):\n",
    "    print(\"1\")\n",
    "else:\n",
    "    for count in range(2,n):\n",
    "        termo = ultimo + penultimo\n",
    "        penultimo = ultimo\n",
    "        ultimo = termo\n",
    "        count += 1\n",
    "    print(termo)"
   ]
  },
  {
   "cell_type": "markdown",
   "metadata": {
    "ExecuteTime": {
     "end_time": "2021-09-27T19:10:05.894744Z",
     "start_time": "2021-09-27T19:10:05.889743Z"
    }
   },
   "source": [
    "**5) Faça um programa que peça para n pessoas a sua idade, ao final o programa devera verificar se a média de idade da turma varia entre 0 e 25,26 e 60 e maior que 60; e então, dizer se a turma é jovem, adulta ou idosa, conforme a média calculada**"
   ]
  },
  {
   "cell_type": "code",
   "execution_count": 74,
   "metadata": {},
   "outputs": [
    {
     "name": "stdout",
     "output_type": "stream",
     "text": [
      "Digite o numero de pessoas: 7\n",
      "Digite a idade da pessoa 1: 4\n",
      "Digite a idade da pessoa 2: 223\n",
      "Digite a idade da pessoa 3: 3\n",
      "Digite a idade da pessoa 4: 23\n",
      "Digite a idade da pessoa 5: 3\n",
      "Digite a idade da pessoa 6: 34\n",
      "Digite a idade da pessoa 7: 456\n",
      "A turma é idosa\n"
     ]
    }
   ],
   "source": [
    "numero_de_pessoas = int(input(\"Digite o numero de pessoas: \"))\n",
    "media = 0\n",
    "\n",
    "for i in range(1, numero_de_pessoas + 1):\n",
    "    idade = int(input(f\"Digite a idade da pessoa {i}: \"))\n",
    "    media = ((media * (i - 1)) + idade) / i\n",
    "\n",
    "if media < 26:\n",
    "    print(\"A turma é jovem\")\n",
    "elif media < 60:\n",
    "    print(\"A turma é adulta\")\n",
    "else:\n",
    "    print(\"A turma é idosa\")"
   ]
  },
  {
   "cell_type": "markdown",
   "metadata": {},
   "source": [
    "45\n",
    "###### 456\n",
    "###### "
   ]
  }
 ],
 "metadata": {
  "kernelspec": {
   "display_name": "Python 3 (ipykernel)",
   "language": "python",
   "name": "python3"
  },
  "language_info": {
   "codemirror_mode": {
    "name": "ipython",
    "version": 3
   },
   "file_extension": ".py",
   "mimetype": "text/x-python",
   "name": "python",
   "nbconvert_exporter": "python",
   "pygments_lexer": "ipython3",
   "version": "3.9.12"
  }
 },
 "nbformat": 4,
 "nbformat_minor": 1
}
